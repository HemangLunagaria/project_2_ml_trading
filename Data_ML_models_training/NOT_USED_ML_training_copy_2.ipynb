{
 "cells": [
  {
   "cell_type": "markdown",
   "source": [
    "# Data preparation for training Machine Learning Models \r\n",
    "\r\n",
    "* In this notebook we will be using the price + indicator data which has been prepared in the previous notebook. We will set the features columns and the target data column. Then we will set aside a part of the data for testing.\r\n",
    "\r\n",
    "* We will use the GridSearchCV method of the scikit-learn library and check which model is giving the best score for training and validation"
   ],
   "metadata": {}
  },
  {
   "cell_type": "code",
   "execution_count": 24,
   "source": [
    "import pandas as pd"
   ],
   "outputs": [],
   "metadata": {}
  },
  {
   "cell_type": "markdown",
   "source": [
    "### First read the data which has been prepared in the previous notebook "
   ],
   "metadata": {}
  },
  {
   "cell_type": "code",
   "execution_count": 25,
   "source": [
    "df_data = pd.read_csv('Resources/Data_plus_indicators.csv', index_col='Date', infer_datetime_format=True)\r\n",
    "df_data.rename(columns={'Daily_returns': 'Returns'}, inplace= True)\r\n",
    "df_data.head()"
   ],
   "outputs": [
    {
     "output_type": "execute_result",
     "data": {
      "text/plain": [
       "                        Open     High      Low    Close     Volume   SMA_agg  \\\n",
       "Date                                                                           \n",
       "2021-07-27 00:00:00  3025.84  3039.75  3000.00  3033.37  15.406240  0.966833   \n",
       "2021-07-27 01:00:00  3004.40  3004.40  2942.20  2948.30  15.514904  0.964578   \n",
       "2021-07-27 02:00:00  2953.44  2953.45  2943.87  2943.87   3.495522  0.964405   \n",
       "2021-07-27 03:00:00  2928.65  2965.45  2928.65  2958.96   9.660272  0.965454   \n",
       "2021-07-27 04:00:00  2939.79  2964.14  2939.79  2962.08   0.165321  0.965746   \n",
       "\n",
       "                     RSI_ratio         CCI        ADX  ADX_dirn  ATR_ratio  \\\n",
       "Date                                                                         \n",
       "2021-07-27 00:00:00   0.829258  -50.812077  45.004645       0.0   1.223889   \n",
       "2021-07-27 01:00:00   0.562380 -166.666667  47.336990       0.0   1.322141   \n",
       "2021-07-27 02:00:00   0.552283 -100.810913  49.202866       0.0   1.162226   \n",
       "2021-07-27 03:00:00   0.858802  -61.607768  51.625298       0.0   1.116467   \n",
       "2021-07-27 04:00:00   0.918802  -39.457237  53.563243       0.0   1.040360   \n",
       "\n",
       "                     BBands_high  BBands_low Currency   Returns  \n",
       "Date                                                             \n",
       "2021-07-27 00:00:00     1.006075    1.005453  ETH/AUD  0.002949  \n",
       "2021-07-27 01:00:00     1.031730    0.989691  ETH/AUD -0.028045  \n",
       "2021-07-27 02:00:00     1.030266    0.996393  ETH/AUD -0.001503  \n",
       "2021-07-27 03:00:00     1.020858    1.005456  ETH/AUD  0.005126  \n",
       "2021-07-27 04:00:00     1.013488    1.008677  ETH/AUD  0.001054  "
      ],
      "text/html": [
       "<div>\n",
       "<style scoped>\n",
       "    .dataframe tbody tr th:only-of-type {\n",
       "        vertical-align: middle;\n",
       "    }\n",
       "\n",
       "    .dataframe tbody tr th {\n",
       "        vertical-align: top;\n",
       "    }\n",
       "\n",
       "    .dataframe thead th {\n",
       "        text-align: right;\n",
       "    }\n",
       "</style>\n",
       "<table border=\"1\" class=\"dataframe\">\n",
       "  <thead>\n",
       "    <tr style=\"text-align: right;\">\n",
       "      <th></th>\n",
       "      <th>Open</th>\n",
       "      <th>High</th>\n",
       "      <th>Low</th>\n",
       "      <th>Close</th>\n",
       "      <th>Volume</th>\n",
       "      <th>SMA_agg</th>\n",
       "      <th>RSI_ratio</th>\n",
       "      <th>CCI</th>\n",
       "      <th>ADX</th>\n",
       "      <th>ADX_dirn</th>\n",
       "      <th>ATR_ratio</th>\n",
       "      <th>BBands_high</th>\n",
       "      <th>BBands_low</th>\n",
       "      <th>Currency</th>\n",
       "      <th>Returns</th>\n",
       "    </tr>\n",
       "    <tr>\n",
       "      <th>Date</th>\n",
       "      <th></th>\n",
       "      <th></th>\n",
       "      <th></th>\n",
       "      <th></th>\n",
       "      <th></th>\n",
       "      <th></th>\n",
       "      <th></th>\n",
       "      <th></th>\n",
       "      <th></th>\n",
       "      <th></th>\n",
       "      <th></th>\n",
       "      <th></th>\n",
       "      <th></th>\n",
       "      <th></th>\n",
       "      <th></th>\n",
       "    </tr>\n",
       "  </thead>\n",
       "  <tbody>\n",
       "    <tr>\n",
       "      <th>2021-07-27 00:00:00</th>\n",
       "      <td>3025.84</td>\n",
       "      <td>3039.75</td>\n",
       "      <td>3000.00</td>\n",
       "      <td>3033.37</td>\n",
       "      <td>15.406240</td>\n",
       "      <td>0.966833</td>\n",
       "      <td>0.829258</td>\n",
       "      <td>-50.812077</td>\n",
       "      <td>45.004645</td>\n",
       "      <td>0.0</td>\n",
       "      <td>1.223889</td>\n",
       "      <td>1.006075</td>\n",
       "      <td>1.005453</td>\n",
       "      <td>ETH/AUD</td>\n",
       "      <td>0.002949</td>\n",
       "    </tr>\n",
       "    <tr>\n",
       "      <th>2021-07-27 01:00:00</th>\n",
       "      <td>3004.40</td>\n",
       "      <td>3004.40</td>\n",
       "      <td>2942.20</td>\n",
       "      <td>2948.30</td>\n",
       "      <td>15.514904</td>\n",
       "      <td>0.964578</td>\n",
       "      <td>0.562380</td>\n",
       "      <td>-166.666667</td>\n",
       "      <td>47.336990</td>\n",
       "      <td>0.0</td>\n",
       "      <td>1.322141</td>\n",
       "      <td>1.031730</td>\n",
       "      <td>0.989691</td>\n",
       "      <td>ETH/AUD</td>\n",
       "      <td>-0.028045</td>\n",
       "    </tr>\n",
       "    <tr>\n",
       "      <th>2021-07-27 02:00:00</th>\n",
       "      <td>2953.44</td>\n",
       "      <td>2953.45</td>\n",
       "      <td>2943.87</td>\n",
       "      <td>2943.87</td>\n",
       "      <td>3.495522</td>\n",
       "      <td>0.964405</td>\n",
       "      <td>0.552283</td>\n",
       "      <td>-100.810913</td>\n",
       "      <td>49.202866</td>\n",
       "      <td>0.0</td>\n",
       "      <td>1.162226</td>\n",
       "      <td>1.030266</td>\n",
       "      <td>0.996393</td>\n",
       "      <td>ETH/AUD</td>\n",
       "      <td>-0.001503</td>\n",
       "    </tr>\n",
       "    <tr>\n",
       "      <th>2021-07-27 03:00:00</th>\n",
       "      <td>2928.65</td>\n",
       "      <td>2965.45</td>\n",
       "      <td>2928.65</td>\n",
       "      <td>2958.96</td>\n",
       "      <td>9.660272</td>\n",
       "      <td>0.965454</td>\n",
       "      <td>0.858802</td>\n",
       "      <td>-61.607768</td>\n",
       "      <td>51.625298</td>\n",
       "      <td>0.0</td>\n",
       "      <td>1.116467</td>\n",
       "      <td>1.020858</td>\n",
       "      <td>1.005456</td>\n",
       "      <td>ETH/AUD</td>\n",
       "      <td>0.005126</td>\n",
       "    </tr>\n",
       "    <tr>\n",
       "      <th>2021-07-27 04:00:00</th>\n",
       "      <td>2939.79</td>\n",
       "      <td>2964.14</td>\n",
       "      <td>2939.79</td>\n",
       "      <td>2962.08</td>\n",
       "      <td>0.165321</td>\n",
       "      <td>0.965746</td>\n",
       "      <td>0.918802</td>\n",
       "      <td>-39.457237</td>\n",
       "      <td>53.563243</td>\n",
       "      <td>0.0</td>\n",
       "      <td>1.040360</td>\n",
       "      <td>1.013488</td>\n",
       "      <td>1.008677</td>\n",
       "      <td>ETH/AUD</td>\n",
       "      <td>0.001054</td>\n",
       "    </tr>\n",
       "  </tbody>\n",
       "</table>\n",
       "</div>"
      ]
     },
     "metadata": {},
     "execution_count": 25
    }
   ],
   "metadata": {}
  },
  {
   "cell_type": "markdown",
   "source": [
    "### Our target value needs to be the returns of the next timeperiod, so transforming the data accordingly"
   ],
   "metadata": {}
  },
  {
   "cell_type": "code",
   "execution_count": 26,
   "source": [
    "df_data['Target_returns'] = df_data.Returns.shift(-1)\r\n",
    "df_data.dropna(inplace=True)\r\n",
    "df_data['Buy_or_sell'] = df_data.Target_returns.apply(lambda x: 1 if x > 0 else -1)\r\n",
    "df_data.head()"
   ],
   "outputs": [
    {
     "output_type": "execute_result",
     "data": {
      "text/plain": [
       "                        Open     High      Low    Close     Volume   SMA_agg  \\\n",
       "Date                                                                           \n",
       "2021-07-27 00:00:00  3025.84  3039.75  3000.00  3033.37  15.406240  0.966833   \n",
       "2021-07-27 01:00:00  3004.40  3004.40  2942.20  2948.30  15.514904  0.964578   \n",
       "2021-07-27 02:00:00  2953.44  2953.45  2943.87  2943.87   3.495522  0.964405   \n",
       "2021-07-27 03:00:00  2928.65  2965.45  2928.65  2958.96   9.660272  0.965454   \n",
       "2021-07-27 04:00:00  2939.79  2964.14  2939.79  2962.08   0.165321  0.965746   \n",
       "\n",
       "                     RSI_ratio         CCI        ADX  ADX_dirn  ATR_ratio  \\\n",
       "Date                                                                         \n",
       "2021-07-27 00:00:00   0.829258  -50.812077  45.004645       0.0   1.223889   \n",
       "2021-07-27 01:00:00   0.562380 -166.666667  47.336990       0.0   1.322141   \n",
       "2021-07-27 02:00:00   0.552283 -100.810913  49.202866       0.0   1.162226   \n",
       "2021-07-27 03:00:00   0.858802  -61.607768  51.625298       0.0   1.116467   \n",
       "2021-07-27 04:00:00   0.918802  -39.457237  53.563243       0.0   1.040360   \n",
       "\n",
       "                     BBands_high  BBands_low Currency   Returns  \\\n",
       "Date                                                              \n",
       "2021-07-27 00:00:00     1.006075    1.005453  ETH/AUD  0.002949   \n",
       "2021-07-27 01:00:00     1.031730    0.989691  ETH/AUD -0.028045   \n",
       "2021-07-27 02:00:00     1.030266    0.996393  ETH/AUD -0.001503   \n",
       "2021-07-27 03:00:00     1.020858    1.005456  ETH/AUD  0.005126   \n",
       "2021-07-27 04:00:00     1.013488    1.008677  ETH/AUD  0.001054   \n",
       "\n",
       "                     Target_returns  Buy_or_sell  \n",
       "Date                                              \n",
       "2021-07-27 00:00:00       -0.028045           -1  \n",
       "2021-07-27 01:00:00       -0.001503           -1  \n",
       "2021-07-27 02:00:00        0.005126            1  \n",
       "2021-07-27 03:00:00        0.001054            1  \n",
       "2021-07-27 04:00:00        0.003494            1  "
      ],
      "text/html": [
       "<div>\n",
       "<style scoped>\n",
       "    .dataframe tbody tr th:only-of-type {\n",
       "        vertical-align: middle;\n",
       "    }\n",
       "\n",
       "    .dataframe tbody tr th {\n",
       "        vertical-align: top;\n",
       "    }\n",
       "\n",
       "    .dataframe thead th {\n",
       "        text-align: right;\n",
       "    }\n",
       "</style>\n",
       "<table border=\"1\" class=\"dataframe\">\n",
       "  <thead>\n",
       "    <tr style=\"text-align: right;\">\n",
       "      <th></th>\n",
       "      <th>Open</th>\n",
       "      <th>High</th>\n",
       "      <th>Low</th>\n",
       "      <th>Close</th>\n",
       "      <th>Volume</th>\n",
       "      <th>SMA_agg</th>\n",
       "      <th>RSI_ratio</th>\n",
       "      <th>CCI</th>\n",
       "      <th>ADX</th>\n",
       "      <th>ADX_dirn</th>\n",
       "      <th>ATR_ratio</th>\n",
       "      <th>BBands_high</th>\n",
       "      <th>BBands_low</th>\n",
       "      <th>Currency</th>\n",
       "      <th>Returns</th>\n",
       "      <th>Target_returns</th>\n",
       "      <th>Buy_or_sell</th>\n",
       "    </tr>\n",
       "    <tr>\n",
       "      <th>Date</th>\n",
       "      <th></th>\n",
       "      <th></th>\n",
       "      <th></th>\n",
       "      <th></th>\n",
       "      <th></th>\n",
       "      <th></th>\n",
       "      <th></th>\n",
       "      <th></th>\n",
       "      <th></th>\n",
       "      <th></th>\n",
       "      <th></th>\n",
       "      <th></th>\n",
       "      <th></th>\n",
       "      <th></th>\n",
       "      <th></th>\n",
       "      <th></th>\n",
       "      <th></th>\n",
       "    </tr>\n",
       "  </thead>\n",
       "  <tbody>\n",
       "    <tr>\n",
       "      <th>2021-07-27 00:00:00</th>\n",
       "      <td>3025.84</td>\n",
       "      <td>3039.75</td>\n",
       "      <td>3000.00</td>\n",
       "      <td>3033.37</td>\n",
       "      <td>15.406240</td>\n",
       "      <td>0.966833</td>\n",
       "      <td>0.829258</td>\n",
       "      <td>-50.812077</td>\n",
       "      <td>45.004645</td>\n",
       "      <td>0.0</td>\n",
       "      <td>1.223889</td>\n",
       "      <td>1.006075</td>\n",
       "      <td>1.005453</td>\n",
       "      <td>ETH/AUD</td>\n",
       "      <td>0.002949</td>\n",
       "      <td>-0.028045</td>\n",
       "      <td>-1</td>\n",
       "    </tr>\n",
       "    <tr>\n",
       "      <th>2021-07-27 01:00:00</th>\n",
       "      <td>3004.40</td>\n",
       "      <td>3004.40</td>\n",
       "      <td>2942.20</td>\n",
       "      <td>2948.30</td>\n",
       "      <td>15.514904</td>\n",
       "      <td>0.964578</td>\n",
       "      <td>0.562380</td>\n",
       "      <td>-166.666667</td>\n",
       "      <td>47.336990</td>\n",
       "      <td>0.0</td>\n",
       "      <td>1.322141</td>\n",
       "      <td>1.031730</td>\n",
       "      <td>0.989691</td>\n",
       "      <td>ETH/AUD</td>\n",
       "      <td>-0.028045</td>\n",
       "      <td>-0.001503</td>\n",
       "      <td>-1</td>\n",
       "    </tr>\n",
       "    <tr>\n",
       "      <th>2021-07-27 02:00:00</th>\n",
       "      <td>2953.44</td>\n",
       "      <td>2953.45</td>\n",
       "      <td>2943.87</td>\n",
       "      <td>2943.87</td>\n",
       "      <td>3.495522</td>\n",
       "      <td>0.964405</td>\n",
       "      <td>0.552283</td>\n",
       "      <td>-100.810913</td>\n",
       "      <td>49.202866</td>\n",
       "      <td>0.0</td>\n",
       "      <td>1.162226</td>\n",
       "      <td>1.030266</td>\n",
       "      <td>0.996393</td>\n",
       "      <td>ETH/AUD</td>\n",
       "      <td>-0.001503</td>\n",
       "      <td>0.005126</td>\n",
       "      <td>1</td>\n",
       "    </tr>\n",
       "    <tr>\n",
       "      <th>2021-07-27 03:00:00</th>\n",
       "      <td>2928.65</td>\n",
       "      <td>2965.45</td>\n",
       "      <td>2928.65</td>\n",
       "      <td>2958.96</td>\n",
       "      <td>9.660272</td>\n",
       "      <td>0.965454</td>\n",
       "      <td>0.858802</td>\n",
       "      <td>-61.607768</td>\n",
       "      <td>51.625298</td>\n",
       "      <td>0.0</td>\n",
       "      <td>1.116467</td>\n",
       "      <td>1.020858</td>\n",
       "      <td>1.005456</td>\n",
       "      <td>ETH/AUD</td>\n",
       "      <td>0.005126</td>\n",
       "      <td>0.001054</td>\n",
       "      <td>1</td>\n",
       "    </tr>\n",
       "    <tr>\n",
       "      <th>2021-07-27 04:00:00</th>\n",
       "      <td>2939.79</td>\n",
       "      <td>2964.14</td>\n",
       "      <td>2939.79</td>\n",
       "      <td>2962.08</td>\n",
       "      <td>0.165321</td>\n",
       "      <td>0.965746</td>\n",
       "      <td>0.918802</td>\n",
       "      <td>-39.457237</td>\n",
       "      <td>53.563243</td>\n",
       "      <td>0.0</td>\n",
       "      <td>1.040360</td>\n",
       "      <td>1.013488</td>\n",
       "      <td>1.008677</td>\n",
       "      <td>ETH/AUD</td>\n",
       "      <td>0.001054</td>\n",
       "      <td>0.003494</td>\n",
       "      <td>1</td>\n",
       "    </tr>\n",
       "  </tbody>\n",
       "</table>\n",
       "</div>"
      ]
     },
     "metadata": {},
     "execution_count": 26
    }
   ],
   "metadata": {}
  },
  {
   "cell_type": "code",
   "execution_count": 27,
   "source": [
    "df_data.Currency.unique()"
   ],
   "outputs": [
    {
     "output_type": "execute_result",
     "data": {
      "text/plain": [
       "array(['ETH/AUD', 'XRP/AUD', 'LTC/AUD', 'ADA/AUD', 'XLM/AUD', 'BCH/USD'],\n",
       "      dtype=object)"
      ]
     },
     "metadata": {},
     "execution_count": 27
    }
   ],
   "metadata": {}
  },
  {
   "cell_type": "markdown",
   "source": [
    "# Preparing the data for training the classifier models"
   ],
   "metadata": {}
  },
  {
   "cell_type": "code",
   "execution_count": 28,
   "source": [
    "curr_list = ['LTC/AUD', 'XLM/AUD'] #, 'XRP/AUD', 'LTC/AUD'\r\n",
    "df_filtered = df_data.loc[ df_data.Currency.isin(curr_list) ]\r\n",
    "df_filtered.shape"
   ],
   "outputs": [
    {
     "output_type": "execute_result",
     "data": {
      "text/plain": [
       "(1387, 17)"
      ]
     },
     "metadata": {},
     "execution_count": 28
    }
   ],
   "metadata": {}
  },
  {
   "cell_type": "code",
   "execution_count": 29,
   "source": [
    "X = df_filtered.loc[:,['SMA_agg', 'RSI_ratio', 'ADX_dirn', 'ATR_ratio', 'BBands_high', 'BBands_low']].reset_index(drop=True)        # , 'CCI', 'Returns'\r\n",
    "y = df_filtered.Buy_or_sell"
   ],
   "outputs": [],
   "metadata": {}
  },
  {
   "cell_type": "code",
   "execution_count": 30,
   "source": [
    "y.value_counts()\r\n"
   ],
   "outputs": [
    {
     "output_type": "execute_result",
     "data": {
      "text/plain": [
       "-1    1112\n",
       " 1     275\n",
       "Name: Buy_or_sell, dtype: int64"
      ]
     },
     "metadata": {},
     "execution_count": 30
    }
   ],
   "metadata": {}
  },
  {
   "cell_type": "code",
   "execution_count": 31,
   "source": [
    "from imblearn.over_sampling import SMOTE\r\n",
    "resampler = SMOTE(random_state= 1)\r\n",
    "X , y = resampler.fit_resample(X , y)\r\n",
    "X.shape\r\n"
   ],
   "outputs": [
    {
     "output_type": "execute_result",
     "data": {
      "text/plain": [
       "(2224, 6)"
      ]
     },
     "metadata": {},
     "execution_count": 31
    }
   ],
   "metadata": {}
  },
  {
   "cell_type": "code",
   "execution_count": 32,
   "source": [
    "from sklearn.tree import DecisionTreeClassifier \r\n",
    "from sklearn.linear_model import LogisticRegression\r\n",
    "from sklearn.ensemble import RandomForestClassifier, GradientBoostingClassifier, AdaBoostClassifier\r\n",
    "\r\n",
    "dec_tree = DecisionTreeClassifier()\r\n",
    "logreg = LogisticRegression( solver='liblinear')\r\n",
    "forest = RandomForestClassifier( criterion='gini')\r\n",
    "grad_boost = GradientBoostingClassifier()\r\n",
    "ada_boost = AdaBoostClassifier()"
   ],
   "outputs": [],
   "metadata": {}
  },
  {
   "cell_type": "code",
   "execution_count": 33,
   "source": [
    "from sklearn.model_selection import cross_val_score"
   ],
   "outputs": [],
   "metadata": {}
  },
  {
   "cell_type": "markdown",
   "source": [
    "## Cross-validate a Pipeline with 1 feature"
   ],
   "metadata": {}
  },
  {
   "cell_type": "code",
   "execution_count": 34,
   "source": [
    "from sklearn.preprocessing import StandardScaler\r\n",
    "from sklearn.compose import ColumnTransformer, make_column_transformer\r\n",
    "from sklearn.decomposition import PCA"
   ],
   "outputs": [],
   "metadata": {}
  },
  {
   "cell_type": "code",
   "execution_count": 35,
   "source": [
    "col_transform = make_column_transformer(\r\n",
    "    (StandardScaler(), X.columns.to_list())\r\n",
    ")\r\n",
    "col_transform.fit_transform(X);\r\n",
    "\r\n",
    "pca = PCA(n_components=3)"
   ],
   "outputs": [],
   "metadata": {}
  },
  {
   "cell_type": "code",
   "execution_count": 36,
   "source": [
    "# chain sequential steps together\r\n",
    "from sklearn.pipeline import make_pipeline, Pipeline\r\n",
    "# pipe = make_pipeline(col_transform, dec_tree)\r\n",
    "pipe = Pipeline(steps= [('col_transform', col_transform), \r\n",
    "                    ('pca', pca),\r\n",
    "                    ('logreg', logreg)\r\n",
    "                    # ('dec_tree', dec_tree)\r\n",
    "                    # ('forest', forest)\r\n",
    "                    # ('grad_boost', grad_boost)\r\n",
    "                    # ('ada_boost', ada_boost)\r\n",
    "                    ])\r\n",
    "\r\n",
    "# (col_transform, dec_tree)"
   ],
   "outputs": [],
   "metadata": {}
  },
  {
   "cell_type": "code",
   "execution_count": 37,
   "source": [
    "# cross-validate the entire process\r\n",
    "# thus, preprocessing occurs within each fold of cross-validation\r\n",
    "cross_val_score(pipe, X, y, cv=10, scoring='accuracy').mean()\r\n"
   ],
   "outputs": [
    {
     "output_type": "execute_result",
     "data": {
      "text/plain": [
       "0.5328162242960449"
      ]
     },
     "metadata": {},
     "execution_count": 37
    }
   ],
   "metadata": {}
  },
  {
   "cell_type": "markdown",
   "source": [
    "# Attempt 1: GridSearch using 1 classifier at a time"
   ],
   "metadata": {}
  },
  {
   "cell_type": "code",
   "execution_count": 38,
   "source": [
    "from sklearn.model_selection import GridSearchCV"
   ],
   "outputs": [],
   "metadata": {}
  },
  {
   "cell_type": "code",
   "execution_count": 39,
   "source": [
    "params = {}\r\n",
    "params['logreg__C'] = [0.05, 0.06, 0.07]\r\n",
    "params['logreg__penalty'] = ['l1']\r\n",
    "\r\n",
    "# params['dec_tree__criterion'] = ['gini']\r\n",
    "\r\n",
    "# params['forest__n_estimators'] = list(range(100,150,10))\r\n",
    "# params['forest__max_depth'] = list(range(3,6,1))\r\n",
    "# params['forest__max_features'] = list(range(2,4,1))\r\n",
    "\r\n",
    "# params['grad_boost__learning_rate'] = [0.1, 0.3, 0.5]\r\n",
    "# params['grad_boost__n_estimators'] = list(range(100,200,10))\r\n",
    "# params['grad_boost__max_features'] = ['auto', 'sqrt', 'log2']\r\n",
    "# params['grad_boost__max_depth'] = list(range(3,8,1))\r\n",
    "# params['grad_boost__loss'] = ['deviance', 'exponential']\r\n",
    "\r\n",
    "# params['ada_boost__n_estimators'] = list(range(100,200,10))\r\n",
    "# params['ada_boost__learning_rate'] = [0.1, 0.5, 1, 2]\r\n",
    "# params['ada_boost__algorithm'] = ['SAMME', 'SAMME.R']"
   ],
   "outputs": [],
   "metadata": {}
  },
  {
   "cell_type": "code",
   "execution_count": 40,
   "source": [
    "grid = GridSearchCV(pipe, params, cv=10, scoring='accuracy')\r\n",
    "grid.fit(X,y);"
   ],
   "outputs": [],
   "metadata": {}
  },
  {
   "cell_type": "code",
   "execution_count": 41,
   "source": [
    "print(f'Score: {grid.best_score_}')\r\n",
    "print(f'Best params: {grid.best_params_}')\r\n",
    "estimator = grid.best_estimator_['logreg']\r\n",
    "estimator"
   ],
   "outputs": [
    {
     "output_type": "stream",
     "name": "stdout",
     "text": [
      "Score: 0.5422575041409122\n",
      "Best params: {'logreg__C': 0.07, 'logreg__penalty': 'l1'}\n"
     ]
    },
    {
     "output_type": "execute_result",
     "data": {
      "text/plain": [
       "LogisticRegression(C=0.07, penalty='l1', solver='liblinear')"
      ]
     },
     "metadata": {},
     "execution_count": 41
    }
   ],
   "metadata": {}
  },
  {
   "cell_type": "code",
   "execution_count": 42,
   "source": [
    "# estimator.feature_importances_"
   ],
   "outputs": [
    {
     "output_type": "error",
     "ename": "AttributeError",
     "evalue": "'LogisticRegression' object has no attribute 'feature_importances_'",
     "traceback": [
      "\u001b[1;31m---------------------------------------------------------------------------\u001b[0m",
      "\u001b[1;31mAttributeError\u001b[0m                            Traceback (most recent call last)",
      "\u001b[1;32m<ipython-input-42-811de5de2697>\u001b[0m in \u001b[0;36m<module>\u001b[1;34m\u001b[0m\n\u001b[1;32m----> 1\u001b[1;33m \u001b[0mestimator\u001b[0m\u001b[1;33m.\u001b[0m\u001b[0mfeature_importances_\u001b[0m\u001b[1;33m\u001b[0m\u001b[1;33m\u001b[0m\u001b[0m\n\u001b[0m",
      "\u001b[1;31mAttributeError\u001b[0m: 'LogisticRegression' object has no attribute 'feature_importances_'"
     ]
    }
   ],
   "metadata": {}
  },
  {
   "cell_type": "code",
   "execution_count": 47,
   "source": [
    "# Testing\r\n",
    "df_testing = df_data.loc[ df_data.Currency == 'ETH/AUD' ]\r\n",
    "X_test = df_testing.loc[: , ['SMA_agg', 'RSI_ratio', 'ADX_dirn', 'ATR_ratio', 'BBands_high', 'BBands_low']].reset_index(drop=True)   # , 'CCI', 'Returns'\r\n",
    "y_test = df_testing.Buy_or_sell\r\n",
    "\r\n",
    "print(f'{X_test.shape}; {y_test.shape}')"
   ],
   "outputs": [
    {
     "output_type": "stream",
     "name": "stdout",
     "text": [
      "(705, 6); (705,)\n"
     ]
    }
   ],
   "metadata": {}
  },
  {
   "cell_type": "code",
   "execution_count": 49,
   "source": [
    "pipeline = make_pipeline(col_transform, pca, estimator)\r\n",
    "pipeline.fit(X, y)\r\n",
    "# pipeline.predict(X_test)\r\n",
    "df_pred = pd.DataFrame(pipeline.predict(X_test))\r\n",
    "df_pred.value_counts()"
   ],
   "outputs": [
    {
     "output_type": "execute_result",
     "data": {
      "text/plain": [
       "-1    377\n",
       " 1    328\n",
       "dtype: int64"
      ]
     },
     "metadata": {},
     "execution_count": 49
    }
   ],
   "metadata": {}
  },
  {
   "cell_type": "code",
   "execution_count": 50,
   "source": [
    "# pipeline.predict(X_test)"
   ],
   "outputs": [],
   "metadata": {}
  },
  {
   "cell_type": "code",
   "execution_count": 52,
   "source": [
    "from sklearn.metrics import classification_report, confusion_matrix\r\n",
    "\r\n",
    "df_predictions = pd.DataFrame(pipeline.predict(X_test), columns=['Buy'])\r\n",
    "report = classification_report(y_test, pipeline.predict(X_test), output_dict=True)\r\n",
    "report"
   ],
   "outputs": [
    {
     "output_type": "execute_result",
     "data": {
      "text/plain": [
       "{'-1': {'precision': 0.5039787798408488,\n",
       "  'recall': 0.5523255813953488,\n",
       "  'f1-score': 0.5270457697642162,\n",
       "  'support': 344},\n",
       " '1': {'precision': 0.5304878048780488,\n",
       "  'recall': 0.481994459833795,\n",
       "  'f1-score': 0.5050798258345428,\n",
       "  'support': 361},\n",
       " 'accuracy': 0.5163120567375886,\n",
       " 'macro avg': {'precision': 0.5172332923594488,\n",
       "  'recall': 0.5171600206145719,\n",
       "  'f1-score': 0.5160627977993795,\n",
       "  'support': 705},\n",
       " 'weighted avg': {'precision': 0.5175529047180534,\n",
       "  'recall': 0.5163120567375886,\n",
       "  'f1-score': 0.5157979601775324,\n",
       "  'support': 705}}"
      ]
     },
     "metadata": {},
     "execution_count": 52
    }
   ],
   "metadata": {}
  },
  {
   "cell_type": "markdown",
   "source": [
    "# Attempt 2 - Multiple Classifiers in a single GridSearch Call"
   ],
   "metadata": {}
  },
  {
   "cell_type": "code",
   "execution_count": null,
   "source": [],
   "outputs": [],
   "metadata": {}
  }
 ],
 "metadata": {
  "orig_nbformat": 4,
  "language_info": {
   "name": "python",
   "version": "3.7.10",
   "mimetype": "text/x-python",
   "codemirror_mode": {
    "name": "ipython",
    "version": 3
   },
   "pygments_lexer": "ipython3",
   "nbconvert_exporter": "python",
   "file_extension": ".py"
  },
  "kernelspec": {
   "name": "python3",
   "display_name": "Python 3.7.10 64-bit ('project2env': conda)"
  },
  "interpreter": {
   "hash": "cc9d93f5fa92246aacb984fbac88763759a8f65daad4aaedd794ab683a30e53f"
  }
 },
 "nbformat": 4,
 "nbformat_minor": 2
}