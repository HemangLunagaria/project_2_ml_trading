{
 "cells": [
  {
   "cell_type": "markdown",
   "source": [
    "# Data preparation for training Machine Learning Models \r\n",
    "\r\n",
    "* In this notebook we will be using the price + indicator data which has been prepared in the previous notebook. We will set the features columns and the target data column. Then we will set aside a part of the data for testing.\r\n",
    "\r\n",
    "* We will use the GridSearchCV method of the scikit-learn library and check which model is giving the best score for training and validation"
   ],
   "metadata": {}
  },
  {
   "cell_type": "code",
   "execution_count": 1,
   "source": [
    "import pandas as pd\r\n",
    "import datetime as dt "
   ],
   "outputs": [],
   "metadata": {}
  },
  {
   "cell_type": "markdown",
   "source": [
    "### First read the data which has been prepared in the previous notebook "
   ],
   "metadata": {}
  },
  {
   "cell_type": "code",
   "execution_count": 2,
   "source": [
    "df_data = pd.read_csv('Resources/Training_data.csv', index_col=0, infer_datetime_format=True)\r\n",
    "df_data.index.set_names('Date', inplace=True)\r\n",
    "\r\n",
    "df_data.head(2)"
   ],
   "outputs": [
    {
     "output_type": "execute_result",
     "data": {
      "text/plain": [
       "                                   Open          High           Low  \\\n",
       "Date                                                                  \n",
       "2020-06-01 06:00:00+01:00  14209.395508  14220.896484  14174.740234   \n",
       "2020-06-01 07:00:00+01:00  14172.333984  14180.751953  14137.945312   \n",
       "\n",
       "                                  Close     Adj Close       Volume   SMA_agg  \\\n",
       "Date                                                                           \n",
       "2020-06-01 06:00:00+01:00  14174.740234  14174.740234          0.0  0.997650   \n",
       "2020-06-01 07:00:00+01:00  14153.839844  14153.839844  149676032.0  0.997687   \n",
       "\n",
       "                           RSI_ratio         CCI  MACD_ratio        ADX  \\\n",
       "Date                                                                      \n",
       "2020-06-01 06:00:00+01:00   0.998526   31.704468   -0.814398  58.070115   \n",
       "2020-06-01 07:00:00+01:00   0.860287 -112.594868   -0.940319  58.808406   \n",
       "\n",
       "                           ADX_dirn  ATR_ratio  BBands_high  BBands_low  \\\n",
       "Date                                                                      \n",
       "2020-06-01 06:00:00+01:00       0.0   0.857303     1.001890    1.000752   \n",
       "2020-06-01 07:00:00+01:00       0.0   0.842866     1.003379    0.999655   \n",
       "\n",
       "                          Currency   Returns  \n",
       "Date                                          \n",
       "2020-06-01 06:00:00+01:00  BTC/AUD -0.002051  \n",
       "2020-06-01 07:00:00+01:00  BTC/AUD -0.001474  "
      ],
      "text/html": [
       "<div>\n",
       "<style scoped>\n",
       "    .dataframe tbody tr th:only-of-type {\n",
       "        vertical-align: middle;\n",
       "    }\n",
       "\n",
       "    .dataframe tbody tr th {\n",
       "        vertical-align: top;\n",
       "    }\n",
       "\n",
       "    .dataframe thead th {\n",
       "        text-align: right;\n",
       "    }\n",
       "</style>\n",
       "<table border=\"1\" class=\"dataframe\">\n",
       "  <thead>\n",
       "    <tr style=\"text-align: right;\">\n",
       "      <th></th>\n",
       "      <th>Open</th>\n",
       "      <th>High</th>\n",
       "      <th>Low</th>\n",
       "      <th>Close</th>\n",
       "      <th>Adj Close</th>\n",
       "      <th>Volume</th>\n",
       "      <th>SMA_agg</th>\n",
       "      <th>RSI_ratio</th>\n",
       "      <th>CCI</th>\n",
       "      <th>MACD_ratio</th>\n",
       "      <th>ADX</th>\n",
       "      <th>ADX_dirn</th>\n",
       "      <th>ATR_ratio</th>\n",
       "      <th>BBands_high</th>\n",
       "      <th>BBands_low</th>\n",
       "      <th>Currency</th>\n",
       "      <th>Returns</th>\n",
       "    </tr>\n",
       "    <tr>\n",
       "      <th>Date</th>\n",
       "      <th></th>\n",
       "      <th></th>\n",
       "      <th></th>\n",
       "      <th></th>\n",
       "      <th></th>\n",
       "      <th></th>\n",
       "      <th></th>\n",
       "      <th></th>\n",
       "      <th></th>\n",
       "      <th></th>\n",
       "      <th></th>\n",
       "      <th></th>\n",
       "      <th></th>\n",
       "      <th></th>\n",
       "      <th></th>\n",
       "      <th></th>\n",
       "      <th></th>\n",
       "    </tr>\n",
       "  </thead>\n",
       "  <tbody>\n",
       "    <tr>\n",
       "      <th>2020-06-01 06:00:00+01:00</th>\n",
       "      <td>14209.395508</td>\n",
       "      <td>14220.896484</td>\n",
       "      <td>14174.740234</td>\n",
       "      <td>14174.740234</td>\n",
       "      <td>14174.740234</td>\n",
       "      <td>0.0</td>\n",
       "      <td>0.997650</td>\n",
       "      <td>0.998526</td>\n",
       "      <td>31.704468</td>\n",
       "      <td>-0.814398</td>\n",
       "      <td>58.070115</td>\n",
       "      <td>0.0</td>\n",
       "      <td>0.857303</td>\n",
       "      <td>1.001890</td>\n",
       "      <td>1.000752</td>\n",
       "      <td>BTC/AUD</td>\n",
       "      <td>-0.002051</td>\n",
       "    </tr>\n",
       "    <tr>\n",
       "      <th>2020-06-01 07:00:00+01:00</th>\n",
       "      <td>14172.333984</td>\n",
       "      <td>14180.751953</td>\n",
       "      <td>14137.945312</td>\n",
       "      <td>14153.839844</td>\n",
       "      <td>14153.839844</td>\n",
       "      <td>149676032.0</td>\n",
       "      <td>0.997687</td>\n",
       "      <td>0.860287</td>\n",
       "      <td>-112.594868</td>\n",
       "      <td>-0.940319</td>\n",
       "      <td>58.808406</td>\n",
       "      <td>0.0</td>\n",
       "      <td>0.842866</td>\n",
       "      <td>1.003379</td>\n",
       "      <td>0.999655</td>\n",
       "      <td>BTC/AUD</td>\n",
       "      <td>-0.001474</td>\n",
       "    </tr>\n",
       "  </tbody>\n",
       "</table>\n",
       "</div>"
      ]
     },
     "metadata": {},
     "execution_count": 2
    }
   ],
   "metadata": {}
  },
  {
   "cell_type": "markdown",
   "source": [
    "### Our target value needs to be the returns of the next timeperiod, so transforming the data accordingly"
   ],
   "metadata": {}
  },
  {
   "cell_type": "code",
   "execution_count": 3,
   "source": [
    "df_data['Target_returns'] = df_data.Returns.shift(-1)\r\n",
    "df_data.dropna(inplace=True)\r\n",
    "df_data['Buy_or_sell'] = df_data.Target_returns.apply(lambda x: 1 if x > 0 else -1)\r\n",
    "df_data.head()"
   ],
   "outputs": [
    {
     "output_type": "execute_result",
     "data": {
      "text/plain": [
       "                                   Open          High           Low  \\\n",
       "Date                                                                  \n",
       "2020-06-01 06:00:00+01:00  14209.395508  14220.896484  14174.740234   \n",
       "2020-06-01 07:00:00+01:00  14172.333984  14180.751953  14137.945312   \n",
       "2020-06-01 08:00:00+01:00  14151.363281  14168.582031  14120.649414   \n",
       "2020-06-01 09:00:00+01:00  14122.041016  14214.550781  14122.041016   \n",
       "2020-06-01 10:00:00+01:00  14172.740234  14199.336914  14154.634766   \n",
       "\n",
       "                                  Close     Adj Close       Volume   SMA_agg  \\\n",
       "Date                                                                           \n",
       "2020-06-01 06:00:00+01:00  14174.740234  14174.740234          0.0  0.997650   \n",
       "2020-06-01 07:00:00+01:00  14153.839844  14153.839844  149676032.0  0.997687   \n",
       "2020-06-01 08:00:00+01:00  14120.649414  14120.649414          0.0  0.997819   \n",
       "2020-06-01 09:00:00+01:00  14172.235352  14172.235352          0.0  0.997725   \n",
       "2020-06-01 10:00:00+01:00  14192.637695  14192.637695          0.0  0.997834   \n",
       "\n",
       "                           RSI_ratio         CCI  MACD_ratio        ADX  \\\n",
       "Date                                                                      \n",
       "2020-06-01 06:00:00+01:00   0.998526   31.704468   -0.814398  58.070115   \n",
       "2020-06-01 07:00:00+01:00   0.860287 -112.594868   -0.940319  58.808406   \n",
       "2020-06-01 08:00:00+01:00   0.685488 -112.539621   -1.100908  60.462916   \n",
       "2020-06-01 09:00:00+01:00   1.224217   -9.034743   -0.919961  51.224342   \n",
       "2020-06-01 10:00:00+01:00   1.322032   61.996872   -0.712305  43.833484   \n",
       "\n",
       "                           ADX_dirn  ATR_ratio  BBands_high  BBands_low  \\\n",
       "Date                                                                      \n",
       "2020-06-01 06:00:00+01:00       0.0   0.857303     1.001890    1.000752   \n",
       "2020-06-01 07:00:00+01:00       0.0   0.842866     1.003379    0.999655   \n",
       "2020-06-01 08:00:00+01:00       0.0   0.845724     1.005910    0.998650   \n",
       "2020-06-01 09:00:00+01:00       0.0   0.956996     1.001426    1.002444   \n",
       "2020-06-01 10:00:00+01:00       0.0   0.928089     0.999619    1.003835   \n",
       "\n",
       "                          Currency   Returns  Target_returns  Buy_or_sell  \n",
       "Date                                                                       \n",
       "2020-06-01 06:00:00+01:00  BTC/AUD -0.002051       -0.001474           -1  \n",
       "2020-06-01 07:00:00+01:00  BTC/AUD -0.001474       -0.002345           -1  \n",
       "2020-06-01 08:00:00+01:00  BTC/AUD -0.002345        0.003653            1  \n",
       "2020-06-01 09:00:00+01:00  BTC/AUD  0.003653        0.001440            1  \n",
       "2020-06-01 10:00:00+01:00  BTC/AUD  0.001440        0.000503            1  "
      ],
      "text/html": [
       "<div>\n",
       "<style scoped>\n",
       "    .dataframe tbody tr th:only-of-type {\n",
       "        vertical-align: middle;\n",
       "    }\n",
       "\n",
       "    .dataframe tbody tr th {\n",
       "        vertical-align: top;\n",
       "    }\n",
       "\n",
       "    .dataframe thead th {\n",
       "        text-align: right;\n",
       "    }\n",
       "</style>\n",
       "<table border=\"1\" class=\"dataframe\">\n",
       "  <thead>\n",
       "    <tr style=\"text-align: right;\">\n",
       "      <th></th>\n",
       "      <th>Open</th>\n",
       "      <th>High</th>\n",
       "      <th>Low</th>\n",
       "      <th>Close</th>\n",
       "      <th>Adj Close</th>\n",
       "      <th>Volume</th>\n",
       "      <th>SMA_agg</th>\n",
       "      <th>RSI_ratio</th>\n",
       "      <th>CCI</th>\n",
       "      <th>MACD_ratio</th>\n",
       "      <th>ADX</th>\n",
       "      <th>ADX_dirn</th>\n",
       "      <th>ATR_ratio</th>\n",
       "      <th>BBands_high</th>\n",
       "      <th>BBands_low</th>\n",
       "      <th>Currency</th>\n",
       "      <th>Returns</th>\n",
       "      <th>Target_returns</th>\n",
       "      <th>Buy_or_sell</th>\n",
       "    </tr>\n",
       "    <tr>\n",
       "      <th>Date</th>\n",
       "      <th></th>\n",
       "      <th></th>\n",
       "      <th></th>\n",
       "      <th></th>\n",
       "      <th></th>\n",
       "      <th></th>\n",
       "      <th></th>\n",
       "      <th></th>\n",
       "      <th></th>\n",
       "      <th></th>\n",
       "      <th></th>\n",
       "      <th></th>\n",
       "      <th></th>\n",
       "      <th></th>\n",
       "      <th></th>\n",
       "      <th></th>\n",
       "      <th></th>\n",
       "      <th></th>\n",
       "      <th></th>\n",
       "    </tr>\n",
       "  </thead>\n",
       "  <tbody>\n",
       "    <tr>\n",
       "      <th>2020-06-01 06:00:00+01:00</th>\n",
       "      <td>14209.395508</td>\n",
       "      <td>14220.896484</td>\n",
       "      <td>14174.740234</td>\n",
       "      <td>14174.740234</td>\n",
       "      <td>14174.740234</td>\n",
       "      <td>0.0</td>\n",
       "      <td>0.997650</td>\n",
       "      <td>0.998526</td>\n",
       "      <td>31.704468</td>\n",
       "      <td>-0.814398</td>\n",
       "      <td>58.070115</td>\n",
       "      <td>0.0</td>\n",
       "      <td>0.857303</td>\n",
       "      <td>1.001890</td>\n",
       "      <td>1.000752</td>\n",
       "      <td>BTC/AUD</td>\n",
       "      <td>-0.002051</td>\n",
       "      <td>-0.001474</td>\n",
       "      <td>-1</td>\n",
       "    </tr>\n",
       "    <tr>\n",
       "      <th>2020-06-01 07:00:00+01:00</th>\n",
       "      <td>14172.333984</td>\n",
       "      <td>14180.751953</td>\n",
       "      <td>14137.945312</td>\n",
       "      <td>14153.839844</td>\n",
       "      <td>14153.839844</td>\n",
       "      <td>149676032.0</td>\n",
       "      <td>0.997687</td>\n",
       "      <td>0.860287</td>\n",
       "      <td>-112.594868</td>\n",
       "      <td>-0.940319</td>\n",
       "      <td>58.808406</td>\n",
       "      <td>0.0</td>\n",
       "      <td>0.842866</td>\n",
       "      <td>1.003379</td>\n",
       "      <td>0.999655</td>\n",
       "      <td>BTC/AUD</td>\n",
       "      <td>-0.001474</td>\n",
       "      <td>-0.002345</td>\n",
       "      <td>-1</td>\n",
       "    </tr>\n",
       "    <tr>\n",
       "      <th>2020-06-01 08:00:00+01:00</th>\n",
       "      <td>14151.363281</td>\n",
       "      <td>14168.582031</td>\n",
       "      <td>14120.649414</td>\n",
       "      <td>14120.649414</td>\n",
       "      <td>14120.649414</td>\n",
       "      <td>0.0</td>\n",
       "      <td>0.997819</td>\n",
       "      <td>0.685488</td>\n",
       "      <td>-112.539621</td>\n",
       "      <td>-1.100908</td>\n",
       "      <td>60.462916</td>\n",
       "      <td>0.0</td>\n",
       "      <td>0.845724</td>\n",
       "      <td>1.005910</td>\n",
       "      <td>0.998650</td>\n",
       "      <td>BTC/AUD</td>\n",
       "      <td>-0.002345</td>\n",
       "      <td>0.003653</td>\n",
       "      <td>1</td>\n",
       "    </tr>\n",
       "    <tr>\n",
       "      <th>2020-06-01 09:00:00+01:00</th>\n",
       "      <td>14122.041016</td>\n",
       "      <td>14214.550781</td>\n",
       "      <td>14122.041016</td>\n",
       "      <td>14172.235352</td>\n",
       "      <td>14172.235352</td>\n",
       "      <td>0.0</td>\n",
       "      <td>0.997725</td>\n",
       "      <td>1.224217</td>\n",
       "      <td>-9.034743</td>\n",
       "      <td>-0.919961</td>\n",
       "      <td>51.224342</td>\n",
       "      <td>0.0</td>\n",
       "      <td>0.956996</td>\n",
       "      <td>1.001426</td>\n",
       "      <td>1.002444</td>\n",
       "      <td>BTC/AUD</td>\n",
       "      <td>0.003653</td>\n",
       "      <td>0.001440</td>\n",
       "      <td>1</td>\n",
       "    </tr>\n",
       "    <tr>\n",
       "      <th>2020-06-01 10:00:00+01:00</th>\n",
       "      <td>14172.740234</td>\n",
       "      <td>14199.336914</td>\n",
       "      <td>14154.634766</td>\n",
       "      <td>14192.637695</td>\n",
       "      <td>14192.637695</td>\n",
       "      <td>0.0</td>\n",
       "      <td>0.997834</td>\n",
       "      <td>1.322032</td>\n",
       "      <td>61.996872</td>\n",
       "      <td>-0.712305</td>\n",
       "      <td>43.833484</td>\n",
       "      <td>0.0</td>\n",
       "      <td>0.928089</td>\n",
       "      <td>0.999619</td>\n",
       "      <td>1.003835</td>\n",
       "      <td>BTC/AUD</td>\n",
       "      <td>0.001440</td>\n",
       "      <td>0.000503</td>\n",
       "      <td>1</td>\n",
       "    </tr>\n",
       "  </tbody>\n",
       "</table>\n",
       "</div>"
      ]
     },
     "metadata": {},
     "execution_count": 3
    }
   ],
   "metadata": {}
  },
  {
   "cell_type": "code",
   "execution_count": 4,
   "source": [
    "# df_data.columns.to_list()"
   ],
   "outputs": [],
   "metadata": {}
  },
  {
   "cell_type": "markdown",
   "source": [
    "# Setting parameters for training and testing  "
   ],
   "metadata": {}
  },
  {
   "cell_type": "markdown",
   "source": [
    "### Variables:\r\n",
    "\r\n",
    "* curr_list: The currency / currencies for which we want to create the ML model\r\n",
    "* indicators_list: The indicators which we will be using as Features\r\n",
    "* model_for_testing: One of 'svc' /  'dec_tree' / 'logreg' / 'forest' / 'grad_boost' / 'ada_boost'"
   ],
   "metadata": {}
  },
  {
   "cell_type": "code",
   "execution_count": 5,
   "source": [
    "curr_list = ['ADA/AUD', 'XLM/AUD']         # 'ETH/AUD', 'XRP/AUD', 'LTC/AUD', 'ADA/AUD', 'XLM/AUD', 'BCH/AUD'\r\n",
    "indicators_list = ['ATR_ratio', 'BBands_high', 'BBands_low', 'CCI', 'MACD_ratio', 'SMA_agg', 'RSI_ratio']\r\n",
    "model_for_testing = 'dec_tree'"
   ],
   "outputs": [],
   "metadata": {}
  },
  {
   "cell_type": "markdown",
   "source": [
    "# Preparing the data for training the classifier models"
   ],
   "metadata": {}
  },
  {
   "cell_type": "code",
   "execution_count": 6,
   "source": [
    "df_filtered = df_data.loc[ df_data.Currency.isin(curr_list) ]\r\n",
    "df_filtered.shape"
   ],
   "outputs": [
    {
     "output_type": "execute_result",
     "data": {
      "text/plain": [
       "(18860, 19)"
      ]
     },
     "metadata": {},
     "execution_count": 6
    }
   ],
   "metadata": {}
  },
  {
   "cell_type": "code",
   "execution_count": 7,
   "source": [
    "X = df_filtered.loc[:,['ATR_ratio', 'BBands_high', 'BBands_low', 'CCI', 'MACD_ratio', 'SMA_agg', 'RSI_ratio']].reset_index(drop=True)        # , 'CCI', 'Returns', 'SMA_agg', 'RSI_ratio', 'ADX_dirn', \r\n",
    "y = df_filtered.Buy_or_sell\r\n",
    "X.shape"
   ],
   "outputs": [
    {
     "output_type": "execute_result",
     "data": {
      "text/plain": [
       "(18860, 7)"
      ]
     },
     "metadata": {},
     "execution_count": 7
    }
   ],
   "metadata": {}
  },
  {
   "cell_type": "code",
   "execution_count": 8,
   "source": [
    "y.value_counts()\r\n"
   ],
   "outputs": [
    {
     "output_type": "execute_result",
     "data": {
      "text/plain": [
       "-1    9455\n",
       " 1    9405\n",
       "Name: Buy_or_sell, dtype: int64"
      ]
     },
     "metadata": {},
     "execution_count": 8
    }
   ],
   "metadata": {}
  },
  {
   "cell_type": "markdown",
   "source": [
    "### The data is imbalanced, usine SMOTE resampler"
   ],
   "metadata": {}
  },
  {
   "cell_type": "code",
   "execution_count": 9,
   "source": [
    "from imblearn.over_sampling import SMOTE\r\n",
    "resampler = SMOTE(random_state= 1)\r\n",
    "X , y = resampler.fit_resample(X , y)\r\n",
    "y.value_counts()"
   ],
   "outputs": [
    {
     "output_type": "execute_result",
     "data": {
      "text/plain": [
       " 1    9455\n",
       "-1    9455\n",
       "Name: Buy_or_sell, dtype: int64"
      ]
     },
     "metadata": {},
     "execution_count": 9
    }
   ],
   "metadata": {}
  },
  {
   "cell_type": "code",
   "execution_count": 10,
   "source": [
    "from sklearn.tree import DecisionTreeClassifier\r\n",
    "from sklearn.svm import SVC\r\n",
    "from sklearn.linear_model import LogisticRegression\r\n",
    "from sklearn.ensemble import RandomForestClassifier, GradientBoostingClassifier, AdaBoostClassifier\r\n",
    "# import xgboost as xgb \r\n",
    "\r\n",
    "svc = SVC()\r\n",
    "dec_tree = DecisionTreeClassifier()\r\n",
    "logreg = LogisticRegression( solver='lbfgs')\r\n",
    "forest = RandomForestClassifier( criterion='gini')\r\n",
    "grad_boost = GradientBoostingClassifier()\r\n",
    "ada_boost = AdaBoostClassifier()\r\n",
    "# xgboost = "
   ],
   "outputs": [],
   "metadata": {}
  },
  {
   "cell_type": "code",
   "execution_count": 11,
   "source": [
    "from sklearn.model_selection import cross_val_score\r\n",
    "from sklearn.preprocessing import StandardScaler\r\n",
    "from sklearn.compose import ColumnTransformer, make_column_transformer\r\n",
    "from sklearn.decomposition import PCA"
   ],
   "outputs": [],
   "metadata": {}
  },
  {
   "cell_type": "markdown",
   "source": [
    "## Attempt 1 - Using GridSearchCV for 1 ML algo at a time"
   ],
   "metadata": {}
  },
  {
   "cell_type": "code",
   "execution_count": 12,
   "source": [
    "col_transform = make_column_transformer(\r\n",
    "    (StandardScaler(), X.columns.to_list())\r\n",
    ")\r\n",
    "col_transform.fit_transform(X);"
   ],
   "outputs": [],
   "metadata": {}
  },
  {
   "cell_type": "code",
   "execution_count": 13,
   "source": [
    "pca = PCA(n_components=3)"
   ],
   "outputs": [],
   "metadata": {}
  },
  {
   "cell_type": "code",
   "execution_count": 14,
   "source": [
    "# chain sequential steps together\r\n",
    "from sklearn.pipeline import make_pipeline, Pipeline\r\n",
    "\r\n",
    "if model_for_testing == 'svc': model = ('svc', svc)\r\n",
    "elif model_for_testing == 'logreg': model = ('logreg', logreg)\r\n",
    "elif model_for_testing == 'dec_tree': model = ('dec_tree', dec_tree)\r\n",
    "elif model_for_testing == 'forest': model = ('forest', forest)\r\n",
    "elif model_for_testing == 'grad_boost': model = ('grad_boost', grad_boost)\r\n",
    "elif model_for_testing == 'ada_boost': model = ('ada_boost', ada_boost)\r\n",
    "\r\n",
    "pipe = Pipeline(steps= [('col_transform', col_transform), \r\n",
    "                    # ('pca', pca),\r\n",
    "                    model\r\n",
    "                    ])\r\n",
    "\r\n",
    "# (col_transform, dec_tree)"
   ],
   "outputs": [],
   "metadata": {}
  },
  {
   "cell_type": "code",
   "execution_count": 15,
   "source": [
    "# cross-validate the entire process\r\n",
    "# thus, preprocessing occurs within each fold of cross-validation\r\n",
    "cross_val_roc_auc = cross_val_score(pipe, X, y, cv=10, scoring='roc_auc', n_jobs=20).mean()\r\n",
    "cross_val_roc_auc\r\n"
   ],
   "outputs": [
    {
     "output_type": "execute_result",
     "data": {
      "text/plain": [
       "0.5070861997606183"
      ]
     },
     "metadata": {},
     "execution_count": 15
    }
   ],
   "metadata": {}
  },
  {
   "cell_type": "code",
   "execution_count": 16,
   "source": [
    "# cross-validate the entire process\r\n",
    "# thus, preprocessing occurs within each fold of cross-validation\r\n",
    "cross_val_accuracy = cross_val_score(pipe, X, y, cv=10, scoring='accuracy', n_jobs=20).mean()\r\n",
    "cross_val_accuracy"
   ],
   "outputs": [
    {
     "output_type": "execute_result",
     "data": {
      "text/plain": [
       "0.5087255420412481"
      ]
     },
     "metadata": {},
     "execution_count": 16
    }
   ],
   "metadata": {}
  },
  {
   "cell_type": "markdown",
   "source": [
    "# Attempt 1: GridSearch using 1 classifier at a time"
   ],
   "metadata": {}
  },
  {
   "cell_type": "code",
   "execution_count": 17,
   "source": [
    "from sklearn.model_selection import GridSearchCV"
   ],
   "outputs": [],
   "metadata": {}
  },
  {
   "cell_type": "code",
   "execution_count": 18,
   "source": [
    "params = {}\r\n",
    "\r\n",
    "if model_for_testing == 'logreg':\r\n",
    "    params['logisticregression__C'] = [0.5, 0.75, 1, 1.25, 1.5]\r\n",
    "    params['logisticregression__penalty'] = ['l1', 'l2']\r\n",
    "\r\n",
    "\r\n",
    "elif model_for_testing == 'svc': \r\n",
    "    params['svc__C'] = [0.5, 0.75, 1, 1.25, 1.5]\r\n",
    "    params['dec_tree__kernel'] = ['linear', 'poly', 'rbf', 'sigmoid', 'precomputed']\r\n",
    "\r\n",
    "elif model_for_testing == 'dec_tree': \r\n",
    "    params['dec_tree__criterion'] = ['gini']\r\n",
    "    params['dec_tree__max_depth'] = list(range(3,8,1))\r\n",
    "\r\n",
    "\r\n",
    "elif model_for_testing == 'forest':\r\n",
    "    params['forest__n_estimators'] = list(range(100,150,10))\r\n",
    "    params['forest__max_depth'] = list(range(3,8,1))\r\n",
    "    params['forest__max_features'] = ['auto', 'sqrt', 'log2']\r\n",
    "\r\n",
    "\r\n",
    "elif model_for_testing == 'grad_boost': \r\n",
    "    params['grad_boost__learning_rate'] = [0.1, 0.3, 0.5]\r\n",
    "    params['grad_boost__n_estimators'] = list(range(100,200,10))\r\n",
    "    params['grad_boost__max_features'] = ['auto', 'sqrt', 'log2']\r\n",
    "    params['grad_boost__max_depth'] = list(range(3,8,1))\r\n",
    "    params['grad_boost__loss'] = ['deviance', 'exponential']\r\n",
    "\r\n",
    "\r\n",
    "elif model_for_testing == 'ada_boost': \r\n",
    "    params['ada_boost__n_estimators'] = list(range(100,200,10))\r\n",
    "    params['ada_boost__learning_rate'] = [0.1, 0.5, 1, 2]\r\n",
    "    params['ada_boost__algorithm'] = ['SAMME.R']\r\n",
    "\r\n",
    "\r\n",
    "\r\n",
    "\r\n",
    "\r\n"
   ],
   "outputs": [],
   "metadata": {}
  },
  {
   "cell_type": "code",
   "execution_count": 19,
   "source": [
    "grid = GridSearchCV(pipe, params, cv=10, scoring='accuracy', n_jobs=20)\r\n",
    "grid.fit(X,y);"
   ],
   "outputs": [],
   "metadata": {}
  },
  {
   "cell_type": "code",
   "execution_count": 44,
   "source": [
    "print(f'Score: {grid.best_score_}')\r\n",
    "print(f'Best params: {grid.best_params_}')\r\n",
    "estimator = grid.best_estimator_[model_for_testing]\r\n",
    "\r\n",
    "grid_best_params = str(grid.best_params_)\r\n",
    "grid_best_params\r\n",
    "gridcv_best_score = grid.best_score_"
   ],
   "outputs": [
    {
     "output_type": "stream",
     "name": "stdout",
     "text": [
      "Score: 0.5251189846641988\n",
      "Best params: {'dec_tree__criterion': 'gini', 'dec_tree__max_depth': 4}\n"
     ]
    }
   ],
   "metadata": {}
  },
  {
   "cell_type": "markdown",
   "source": [
    "### Fitting the pipeline, with the tuned model"
   ],
   "metadata": {}
  },
  {
   "cell_type": "code",
   "execution_count": 21,
   "source": [
    "pipeline = make_pipeline(col_transform, estimator)\r\n",
    "pipeline.fit(X, y)\r\n"
   ],
   "outputs": [
    {
     "output_type": "execute_result",
     "data": {
      "text/plain": [
       "Pipeline(steps=[('columntransformer',\n",
       "                 ColumnTransformer(transformers=[('standardscaler',\n",
       "                                                  StandardScaler(),\n",
       "                                                  ['ATR_ratio', 'BBands_high',\n",
       "                                                   'BBands_low', 'CCI',\n",
       "                                                   'MACD_ratio', 'SMA_agg',\n",
       "                                                   'RSI_ratio'])])),\n",
       "                ('decisiontreeclassifier',\n",
       "                 DecisionTreeClassifier(max_depth=4))])"
      ]
     },
     "metadata": {},
     "execution_count": 21
    }
   ],
   "metadata": {}
  },
  {
   "cell_type": "markdown",
   "source": [
    "# Testing"
   ],
   "metadata": {}
  },
  {
   "cell_type": "markdown",
   "source": [
    "### Get the testing data first"
   ],
   "metadata": {}
  },
  {
   "cell_type": "code",
   "execution_count": 22,
   "source": [
    "df_testing_data = pd.read_csv('Resources/Testing_data.csv', index_col=0, infer_datetime_format=True)\r\n",
    "df_testing_data.index.set_names('Date', inplace=True)\r\n",
    "\r\n",
    "df_testing_data.head(2)"
   ],
   "outputs": [
    {
     "output_type": "execute_result",
     "data": {
      "text/plain": [
       "                        Open     High      Low    Close    Volume   SMA_agg  \\\n",
       "Date                                                                          \n",
       "2021-07-28 02:00:00  3136.77  3190.84  3131.56  3145.08  7.991239  1.009907   \n",
       "2021-07-28 03:00:00  3117.26  3143.68  3103.80  3143.68  0.678257  1.010234   \n",
       "\n",
       "                     RSI_ratio         CCI  MACD_ratio        ADX  ADX_dirn  \\\n",
       "Date                                                                          \n",
       "2021-07-28 02:00:00   1.234023  158.656349   -1.145074  37.210854       1.0   \n",
       "2021-07-28 03:00:00   1.222300   29.689609  -68.521925  34.568352       1.0   \n",
       "\n",
       "                     ATR_ratio  BBands_high  BBands_low Currency   Returns  \n",
       "Date                                                                        \n",
       "2021-07-28 02:00:00   1.174444     0.999321    1.012981  ETH/AUD  0.013097  \n",
       "2021-07-28 03:00:00   1.143174     1.000394    1.012479  ETH/AUD -0.000445  "
      ],
      "text/html": [
       "<div>\n",
       "<style scoped>\n",
       "    .dataframe tbody tr th:only-of-type {\n",
       "        vertical-align: middle;\n",
       "    }\n",
       "\n",
       "    .dataframe tbody tr th {\n",
       "        vertical-align: top;\n",
       "    }\n",
       "\n",
       "    .dataframe thead th {\n",
       "        text-align: right;\n",
       "    }\n",
       "</style>\n",
       "<table border=\"1\" class=\"dataframe\">\n",
       "  <thead>\n",
       "    <tr style=\"text-align: right;\">\n",
       "      <th></th>\n",
       "      <th>Open</th>\n",
       "      <th>High</th>\n",
       "      <th>Low</th>\n",
       "      <th>Close</th>\n",
       "      <th>Volume</th>\n",
       "      <th>SMA_agg</th>\n",
       "      <th>RSI_ratio</th>\n",
       "      <th>CCI</th>\n",
       "      <th>MACD_ratio</th>\n",
       "      <th>ADX</th>\n",
       "      <th>ADX_dirn</th>\n",
       "      <th>ATR_ratio</th>\n",
       "      <th>BBands_high</th>\n",
       "      <th>BBands_low</th>\n",
       "      <th>Currency</th>\n",
       "      <th>Returns</th>\n",
       "    </tr>\n",
       "    <tr>\n",
       "      <th>Date</th>\n",
       "      <th></th>\n",
       "      <th></th>\n",
       "      <th></th>\n",
       "      <th></th>\n",
       "      <th></th>\n",
       "      <th></th>\n",
       "      <th></th>\n",
       "      <th></th>\n",
       "      <th></th>\n",
       "      <th></th>\n",
       "      <th></th>\n",
       "      <th></th>\n",
       "      <th></th>\n",
       "      <th></th>\n",
       "      <th></th>\n",
       "      <th></th>\n",
       "    </tr>\n",
       "  </thead>\n",
       "  <tbody>\n",
       "    <tr>\n",
       "      <th>2021-07-28 02:00:00</th>\n",
       "      <td>3136.77</td>\n",
       "      <td>3190.84</td>\n",
       "      <td>3131.56</td>\n",
       "      <td>3145.08</td>\n",
       "      <td>7.991239</td>\n",
       "      <td>1.009907</td>\n",
       "      <td>1.234023</td>\n",
       "      <td>158.656349</td>\n",
       "      <td>-1.145074</td>\n",
       "      <td>37.210854</td>\n",
       "      <td>1.0</td>\n",
       "      <td>1.174444</td>\n",
       "      <td>0.999321</td>\n",
       "      <td>1.012981</td>\n",
       "      <td>ETH/AUD</td>\n",
       "      <td>0.013097</td>\n",
       "    </tr>\n",
       "    <tr>\n",
       "      <th>2021-07-28 03:00:00</th>\n",
       "      <td>3117.26</td>\n",
       "      <td>3143.68</td>\n",
       "      <td>3103.80</td>\n",
       "      <td>3143.68</td>\n",
       "      <td>0.678257</td>\n",
       "      <td>1.010234</td>\n",
       "      <td>1.222300</td>\n",
       "      <td>29.689609</td>\n",
       "      <td>-68.521925</td>\n",
       "      <td>34.568352</td>\n",
       "      <td>1.0</td>\n",
       "      <td>1.143174</td>\n",
       "      <td>1.000394</td>\n",
       "      <td>1.012479</td>\n",
       "      <td>ETH/AUD</td>\n",
       "      <td>-0.000445</td>\n",
       "    </tr>\n",
       "  </tbody>\n",
       "</table>\n",
       "</div>"
      ]
     },
     "metadata": {},
     "execution_count": 22
    }
   ],
   "metadata": {}
  },
  {
   "cell_type": "markdown",
   "source": [
    "### Setting target values"
   ],
   "metadata": {}
  },
  {
   "cell_type": "code",
   "execution_count": 23,
   "source": [
    "df_testing_data['Target_returns'] = df_testing_data.Returns.shift(-1)\r\n",
    "df_testing_data.dropna(inplace=True)\r\n",
    "df_testing_data['Buy_or_sell'] = df_testing_data.Target_returns.apply(lambda x: 1 if x > 0 else -1)\r\n",
    "df_testing_data.shape"
   ],
   "outputs": [
    {
     "output_type": "execute_result",
     "data": {
      "text/plain": [
       "(4224, 18)"
      ]
     },
     "metadata": {},
     "execution_count": 23
    }
   ],
   "metadata": {}
  },
  {
   "cell_type": "code",
   "execution_count": 24,
   "source": [
    "df_testing_subset = df_testing_data.loc[ df_testing_data.Currency.isin(curr_list) ] \r\n",
    "X_test = df_testing_subset.loc[: , indicators_list].reset_index(drop=True)   \r\n",
    "y_test = df_testing_subset.loc[:, ['Target_returns', 'Buy_or_sell']].copy()\r\n",
    "\r\n",
    "print(f'{X_test.shape}; {y_test.shape}')"
   ],
   "outputs": [
    {
     "output_type": "stream",
     "name": "stdout",
     "text": [
      "(1410, 7); (1410, 2)\n"
     ]
    }
   ],
   "metadata": {}
  },
  {
   "cell_type": "code",
   "execution_count": 25,
   "source": [
    "df_pred = y_test\r\n",
    "df_pred['Pred_buy_or_sell'] = pipeline.predict(X_test)\r\n",
    "df_pred.head()"
   ],
   "outputs": [
    {
     "output_type": "execute_result",
     "data": {
      "text/plain": [
       "                     Target_returns  Buy_or_sell  Pred_buy_or_sell\n",
       "Date                                                              \n",
       "2021-07-28 02:00:00        0.000000           -1                 1\n",
       "2021-07-28 03:00:00        0.000000           -1                 1\n",
       "2021-07-28 04:00:00        0.000000           -1                 1\n",
       "2021-07-28 05:00:00       -0.002065           -1                 1\n",
       "2021-07-28 06:00:00        0.019316            1                -1"
      ],
      "text/html": [
       "<div>\n",
       "<style scoped>\n",
       "    .dataframe tbody tr th:only-of-type {\n",
       "        vertical-align: middle;\n",
       "    }\n",
       "\n",
       "    .dataframe tbody tr th {\n",
       "        vertical-align: top;\n",
       "    }\n",
       "\n",
       "    .dataframe thead th {\n",
       "        text-align: right;\n",
       "    }\n",
       "</style>\n",
       "<table border=\"1\" class=\"dataframe\">\n",
       "  <thead>\n",
       "    <tr style=\"text-align: right;\">\n",
       "      <th></th>\n",
       "      <th>Target_returns</th>\n",
       "      <th>Buy_or_sell</th>\n",
       "      <th>Pred_buy_or_sell</th>\n",
       "    </tr>\n",
       "    <tr>\n",
       "      <th>Date</th>\n",
       "      <th></th>\n",
       "      <th></th>\n",
       "      <th></th>\n",
       "    </tr>\n",
       "  </thead>\n",
       "  <tbody>\n",
       "    <tr>\n",
       "      <th>2021-07-28 02:00:00</th>\n",
       "      <td>0.000000</td>\n",
       "      <td>-1</td>\n",
       "      <td>1</td>\n",
       "    </tr>\n",
       "    <tr>\n",
       "      <th>2021-07-28 03:00:00</th>\n",
       "      <td>0.000000</td>\n",
       "      <td>-1</td>\n",
       "      <td>1</td>\n",
       "    </tr>\n",
       "    <tr>\n",
       "      <th>2021-07-28 04:00:00</th>\n",
       "      <td>0.000000</td>\n",
       "      <td>-1</td>\n",
       "      <td>1</td>\n",
       "    </tr>\n",
       "    <tr>\n",
       "      <th>2021-07-28 05:00:00</th>\n",
       "      <td>-0.002065</td>\n",
       "      <td>-1</td>\n",
       "      <td>1</td>\n",
       "    </tr>\n",
       "    <tr>\n",
       "      <th>2021-07-28 06:00:00</th>\n",
       "      <td>0.019316</td>\n",
       "      <td>1</td>\n",
       "      <td>-1</td>\n",
       "    </tr>\n",
       "  </tbody>\n",
       "</table>\n",
       "</div>"
      ]
     },
     "metadata": {},
     "execution_count": 25
    }
   ],
   "metadata": {}
  },
  {
   "cell_type": "code",
   "execution_count": 30,
   "source": [
    "from sklearn.metrics import classification_report\r\n",
    "from imblearn.metrics import classification_report_imbalanced\r\n",
    "\r\n",
    "y_pred = pipeline.predict(X_test)\r\n",
    "df_predictions = pd.DataFrame(y_pred, columns=['Buy'])\r\n",
    "\r\n",
    "print(classification_report(y_test.Buy_or_sell, y_pred))"
   ],
   "outputs": [
    {
     "output_type": "stream",
     "name": "stdout",
     "text": [
      "              precision    recall  f1-score   support\n",
      "\n",
      "          -1       0.72      0.63      0.67      1014\n",
      "           1       0.28      0.36      0.31       396\n",
      "\n",
      "    accuracy                           0.55      1410\n",
      "   macro avg       0.50      0.50      0.49      1410\n",
      "weighted avg       0.59      0.55      0.57      1410\n",
      "\n"
     ]
    }
   ],
   "metadata": {}
  },
  {
   "cell_type": "markdown",
   "source": [
    "### Getting the total returns when the strategy gave a buy signal "
   ],
   "metadata": {}
  },
  {
   "cell_type": "code",
   "execution_count": 36,
   "source": [
    "total_returns_pred_buy = df_pred.loc[df_pred.Pred_buy_or_sell == 1].copy()\r\n",
    "total_pnl = total_returns_pred_buy.Target_returns.sum()"
   ],
   "outputs": [],
   "metadata": {}
  },
  {
   "cell_type": "markdown",
   "source": [
    "# Writing the outcomes to a CSV"
   ],
   "metadata": {}
  },
  {
   "cell_type": "code",
   "execution_count": 50,
   "source": [
    "currency = ' '.join(curr_list)\r\n",
    "indicators = ','.join(indicators_list)\r\n",
    "model_tested = model[0]\r\n",
    "cross_val_roc_auc\r\n",
    "cross_val_accuracy\r\n",
    "total_pnl\r\n",
    "grid_best_params\r\n",
    "gridcv_best_score"
   ],
   "outputs": [
    {
     "output_type": "execute_result",
     "data": {
      "text/plain": [
       "0.5251189846641988"
      ]
     },
     "metadata": {},
     "execution_count": 50
    }
   ],
   "metadata": {}
  },
  {
   "cell_type": "code",
   "execution_count": 61,
   "source": [
    "df_outcomes = pd.read_csv('Resources/GridSearch_test_outcomes.csv', index_col=0)\r\n",
    "\r\n",
    "df_outcomes\r\n",
    "# df_outcomes = df_outcomes.append()\r\n",
    "df_outcomes = df_outcomes.append(pd.Series([ \r\n",
    "    currency, \r\n",
    "    indicators, \r\n",
    "    model_tested, \r\n",
    "    cross_val_roc_auc, \r\n",
    "    cross_val_accuracy, \r\n",
    "    gridcv_best_score, \r\n",
    "    grid_best_params,\r\n",
    "    total_pnl\r\n",
    "], index= df_outcomes.columns), ignore_index= True)\r\n",
    "df_outcomes.to_csv('Resources/GridSearch_test_outcomes.csv')"
   ],
   "outputs": [],
   "metadata": {}
  },
  {
   "cell_type": "code",
   "execution_count": null,
   "source": [],
   "outputs": [],
   "metadata": {}
  }
 ],
 "metadata": {
  "orig_nbformat": 4,
  "language_info": {
   "name": "python",
   "version": "3.7.10",
   "mimetype": "text/x-python",
   "codemirror_mode": {
    "name": "ipython",
    "version": 3
   },
   "pygments_lexer": "ipython3",
   "nbconvert_exporter": "python",
   "file_extension": ".py"
  },
  "kernelspec": {
   "name": "python3",
   "display_name": "Python 3.7.10 64-bit ('project2env': conda)"
  },
  "interpreter": {
   "hash": "cc9d93f5fa92246aacb984fbac88763759a8f65daad4aaedd794ab683a30e53f"
  }
 },
 "nbformat": 4,
 "nbformat_minor": 2
}