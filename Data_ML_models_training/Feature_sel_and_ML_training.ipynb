{
 "cells": [
  {
   "cell_type": "markdown",
   "source": [
    "# Data preparation for training Machine Learning Models \r\n",
    "\r\n",
    "* In this notebook we will be using the price + indicator data which has been prepared in the previous notebook. We will set the features columns and the target data column. Then we will set aside a part of the data for testing.\r\n",
    "\r\n",
    "* We will use the GridSearchCV method of the scikit-learn library and check which model is giving the best score for training and validation"
   ],
   "metadata": {}
  },
  {
   "cell_type": "code",
   "execution_count": 34,
   "source": [
    "import pandas as pd\r\n",
    "import datetime as dt "
   ],
   "outputs": [],
   "metadata": {}
  },
  {
   "cell_type": "markdown",
   "source": [
    "### First read the data which has been prepared in the previous notebook "
   ],
   "metadata": {}
  },
  {
   "cell_type": "code",
   "execution_count": 35,
   "source": [
    "df_data = pd.read_csv('Resources/Training_data.csv', index_col=0, infer_datetime_format=True)\r\n",
    "df_data.index.set_names('Date', inplace=True)\r\n",
    "\r\n",
    "df_data.head(2)"
   ],
   "outputs": [
    {
     "output_type": "execute_result",
     "data": {
      "text/plain": [
       "                                   Open          High           Low  \\\n",
       "Date                                                                  \n",
       "2019-09-18 15:00:00+01:00  14900.219727  14925.809570  14880.480469   \n",
       "2019-09-18 16:00:00+01:00  14897.629883  14919.230469  14879.599609   \n",
       "\n",
       "                                  Close     Adj Close    Volume   SMA_agg  \\\n",
       "Date                                                                        \n",
       "2019-09-18 15:00:00+01:00  14903.679688  14903.679688  122473.0  0.998842   \n",
       "2019-09-18 16:00:00+01:00  14879.599609  14879.599609  105416.0  0.998215   \n",
       "\n",
       "                           RSI_ratio        CCI  MACD_ratio        ADX  \\\n",
       "Date                                                                     \n",
       "2019-09-18 15:00:00+01:00   0.743948  -68.87572  -10.741767  51.022842   \n",
       "2019-09-18 16:00:00+01:00   0.594412 -136.69359   -2.693687  55.359342   \n",
       "\n",
       "                           ADX_dirn  ATR_ratio  BBands_high  BBands_low  \\\n",
       "Date                                                                      \n",
       "2019-09-18 15:00:00+01:00       0.0   1.049068     1.001707    1.000276   \n",
       "2019-09-18 16:00:00+01:00       0.0   0.995113     1.002712    0.999494   \n",
       "\n",
       "                           SMA_vol_agg Currency   Returns  \n",
       "Date                                                       \n",
       "2019-09-18 15:00:00+01:00     0.898460  BTC/AUD  0.000755  \n",
       "2019-09-18 16:00:00+01:00     0.913184  BTC/AUD -0.001616  "
      ],
      "text/html": [
       "<div>\n",
       "<style scoped>\n",
       "    .dataframe tbody tr th:only-of-type {\n",
       "        vertical-align: middle;\n",
       "    }\n",
       "\n",
       "    .dataframe tbody tr th {\n",
       "        vertical-align: top;\n",
       "    }\n",
       "\n",
       "    .dataframe thead th {\n",
       "        text-align: right;\n",
       "    }\n",
       "</style>\n",
       "<table border=\"1\" class=\"dataframe\">\n",
       "  <thead>\n",
       "    <tr style=\"text-align: right;\">\n",
       "      <th></th>\n",
       "      <th>Open</th>\n",
       "      <th>High</th>\n",
       "      <th>Low</th>\n",
       "      <th>Close</th>\n",
       "      <th>Adj Close</th>\n",
       "      <th>Volume</th>\n",
       "      <th>SMA_agg</th>\n",
       "      <th>RSI_ratio</th>\n",
       "      <th>CCI</th>\n",
       "      <th>MACD_ratio</th>\n",
       "      <th>ADX</th>\n",
       "      <th>ADX_dirn</th>\n",
       "      <th>ATR_ratio</th>\n",
       "      <th>BBands_high</th>\n",
       "      <th>BBands_low</th>\n",
       "      <th>SMA_vol_agg</th>\n",
       "      <th>Currency</th>\n",
       "      <th>Returns</th>\n",
       "    </tr>\n",
       "    <tr>\n",
       "      <th>Date</th>\n",
       "      <th></th>\n",
       "      <th></th>\n",
       "      <th></th>\n",
       "      <th></th>\n",
       "      <th></th>\n",
       "      <th></th>\n",
       "      <th></th>\n",
       "      <th></th>\n",
       "      <th></th>\n",
       "      <th></th>\n",
       "      <th></th>\n",
       "      <th></th>\n",
       "      <th></th>\n",
       "      <th></th>\n",
       "      <th></th>\n",
       "      <th></th>\n",
       "      <th></th>\n",
       "      <th></th>\n",
       "    </tr>\n",
       "  </thead>\n",
       "  <tbody>\n",
       "    <tr>\n",
       "      <th>2019-09-18 15:00:00+01:00</th>\n",
       "      <td>14900.219727</td>\n",
       "      <td>14925.809570</td>\n",
       "      <td>14880.480469</td>\n",
       "      <td>14903.679688</td>\n",
       "      <td>14903.679688</td>\n",
       "      <td>122473.0</td>\n",
       "      <td>0.998842</td>\n",
       "      <td>0.743948</td>\n",
       "      <td>-68.87572</td>\n",
       "      <td>-10.741767</td>\n",
       "      <td>51.022842</td>\n",
       "      <td>0.0</td>\n",
       "      <td>1.049068</td>\n",
       "      <td>1.001707</td>\n",
       "      <td>1.000276</td>\n",
       "      <td>0.898460</td>\n",
       "      <td>BTC/AUD</td>\n",
       "      <td>0.000755</td>\n",
       "    </tr>\n",
       "    <tr>\n",
       "      <th>2019-09-18 16:00:00+01:00</th>\n",
       "      <td>14897.629883</td>\n",
       "      <td>14919.230469</td>\n",
       "      <td>14879.599609</td>\n",
       "      <td>14879.599609</td>\n",
       "      <td>14879.599609</td>\n",
       "      <td>105416.0</td>\n",
       "      <td>0.998215</td>\n",
       "      <td>0.594412</td>\n",
       "      <td>-136.69359</td>\n",
       "      <td>-2.693687</td>\n",
       "      <td>55.359342</td>\n",
       "      <td>0.0</td>\n",
       "      <td>0.995113</td>\n",
       "      <td>1.002712</td>\n",
       "      <td>0.999494</td>\n",
       "      <td>0.913184</td>\n",
       "      <td>BTC/AUD</td>\n",
       "      <td>-0.001616</td>\n",
       "    </tr>\n",
       "  </tbody>\n",
       "</table>\n",
       "</div>"
      ]
     },
     "metadata": {},
     "execution_count": 35
    }
   ],
   "metadata": {}
  },
  {
   "cell_type": "markdown",
   "source": [
    "### Our target value needs to be the returns of the next timeperiod, so transforming the data accordingly"
   ],
   "metadata": {}
  },
  {
   "cell_type": "code",
   "execution_count": 36,
   "source": [
    "df_data['Target_returns'] = df_data.Returns.shift(-1)\r\n",
    "df_data.dropna(inplace=True)\r\n",
    "df_data['Buy_or_sell'] = df_data.Target_returns.apply(lambda x: 1 if x > 0 else -1)\r\n",
    "df_data.head()"
   ],
   "outputs": [
    {
     "output_type": "execute_result",
     "data": {
      "text/plain": [
       "                                   Open          High           Low  \\\n",
       "Date                                                                  \n",
       "2019-09-18 15:00:00+01:00  14900.219727  14925.809570  14880.480469   \n",
       "2019-09-18 16:00:00+01:00  14897.629883  14919.230469  14879.599609   \n",
       "2019-09-18 17:00:00+01:00  14897.839844  14945.879883  14849.950195   \n",
       "2019-09-18 18:00:00+01:00  14902.620117  14922.509766  14874.450195   \n",
       "2019-09-18 19:00:00+01:00  14913.389648  14961.690430  14910.490234   \n",
       "\n",
       "                                  Close     Adj Close    Volume   SMA_agg  \\\n",
       "Date                                                                        \n",
       "2019-09-18 15:00:00+01:00  14903.679688  14903.679688  122473.0  0.998842   \n",
       "2019-09-18 16:00:00+01:00  14879.599609  14879.599609  105416.0  0.998215   \n",
       "2019-09-18 17:00:00+01:00  14894.200195  14894.200195   86641.0  0.998267   \n",
       "2019-09-18 18:00:00+01:00  14887.330078  14887.330078   70603.0  0.998071   \n",
       "2019-09-18 19:00:00+01:00  14919.860352  14919.860352   53569.0  0.998493   \n",
       "\n",
       "                           RSI_ratio         CCI  MACD_ratio        ADX  \\\n",
       "Date                                                                      \n",
       "2019-09-18 15:00:00+01:00   0.743948  -68.875720  -10.741767  51.022842   \n",
       "2019-09-18 16:00:00+01:00   0.594412 -136.693590   -2.693687  55.359342   \n",
       "2019-09-18 17:00:00+01:00   0.776254  -59.095027   -1.715412  60.844670   \n",
       "2019-09-18 18:00:00+01:00   0.724499  -55.375089   -1.418463  65.232933   \n",
       "2019-09-18 19:00:00+01:00   1.017354  166.666667   -0.845198  52.927061   \n",
       "\n",
       "                           ADX_dirn  ATR_ratio  BBands_high  BBands_low  \\\n",
       "Date                                                                      \n",
       "2019-09-18 15:00:00+01:00       0.0   1.049068     1.001707    1.000276   \n",
       "2019-09-18 16:00:00+01:00       0.0   0.995113     1.002712    0.999494   \n",
       "2019-09-18 17:00:00+01:00       0.0   1.080260     1.001350    1.000698   \n",
       "2019-09-18 18:00:00+01:00       0.0   1.037463     1.000810    1.000257   \n",
       "2019-09-18 19:00:00+01:00       0.0   1.062010     0.999398    1.002477   \n",
       "\n",
       "                           SMA_vol_agg Currency   Returns  Target_returns  \\\n",
       "Date                                                                        \n",
       "2019-09-18 15:00:00+01:00     0.898460  BTC/AUD  0.000755       -0.001616   \n",
       "2019-09-18 16:00:00+01:00     0.913184  BTC/AUD -0.001616        0.000981   \n",
       "2019-09-18 17:00:00+01:00     0.859538  BTC/AUD  0.000981       -0.000461   \n",
       "2019-09-18 18:00:00+01:00     0.710317  BTC/AUD -0.000461        0.002185   \n",
       "2019-09-18 19:00:00+01:00     0.661374  BTC/AUD  0.002185        0.001123   \n",
       "\n",
       "                           Buy_or_sell  \n",
       "Date                                    \n",
       "2019-09-18 15:00:00+01:00           -1  \n",
       "2019-09-18 16:00:00+01:00            1  \n",
       "2019-09-18 17:00:00+01:00           -1  \n",
       "2019-09-18 18:00:00+01:00            1  \n",
       "2019-09-18 19:00:00+01:00            1  "
      ],
      "text/html": [
       "<div>\n",
       "<style scoped>\n",
       "    .dataframe tbody tr th:only-of-type {\n",
       "        vertical-align: middle;\n",
       "    }\n",
       "\n",
       "    .dataframe tbody tr th {\n",
       "        vertical-align: top;\n",
       "    }\n",
       "\n",
       "    .dataframe thead th {\n",
       "        text-align: right;\n",
       "    }\n",
       "</style>\n",
       "<table border=\"1\" class=\"dataframe\">\n",
       "  <thead>\n",
       "    <tr style=\"text-align: right;\">\n",
       "      <th></th>\n",
       "      <th>Open</th>\n",
       "      <th>High</th>\n",
       "      <th>Low</th>\n",
       "      <th>Close</th>\n",
       "      <th>Adj Close</th>\n",
       "      <th>Volume</th>\n",
       "      <th>SMA_agg</th>\n",
       "      <th>RSI_ratio</th>\n",
       "      <th>CCI</th>\n",
       "      <th>MACD_ratio</th>\n",
       "      <th>ADX</th>\n",
       "      <th>ADX_dirn</th>\n",
       "      <th>ATR_ratio</th>\n",
       "      <th>BBands_high</th>\n",
       "      <th>BBands_low</th>\n",
       "      <th>SMA_vol_agg</th>\n",
       "      <th>Currency</th>\n",
       "      <th>Returns</th>\n",
       "      <th>Target_returns</th>\n",
       "      <th>Buy_or_sell</th>\n",
       "    </tr>\n",
       "    <tr>\n",
       "      <th>Date</th>\n",
       "      <th></th>\n",
       "      <th></th>\n",
       "      <th></th>\n",
       "      <th></th>\n",
       "      <th></th>\n",
       "      <th></th>\n",
       "      <th></th>\n",
       "      <th></th>\n",
       "      <th></th>\n",
       "      <th></th>\n",
       "      <th></th>\n",
       "      <th></th>\n",
       "      <th></th>\n",
       "      <th></th>\n",
       "      <th></th>\n",
       "      <th></th>\n",
       "      <th></th>\n",
       "      <th></th>\n",
       "      <th></th>\n",
       "      <th></th>\n",
       "    </tr>\n",
       "  </thead>\n",
       "  <tbody>\n",
       "    <tr>\n",
       "      <th>2019-09-18 15:00:00+01:00</th>\n",
       "      <td>14900.219727</td>\n",
       "      <td>14925.809570</td>\n",
       "      <td>14880.480469</td>\n",
       "      <td>14903.679688</td>\n",
       "      <td>14903.679688</td>\n",
       "      <td>122473.0</td>\n",
       "      <td>0.998842</td>\n",
       "      <td>0.743948</td>\n",
       "      <td>-68.875720</td>\n",
       "      <td>-10.741767</td>\n",
       "      <td>51.022842</td>\n",
       "      <td>0.0</td>\n",
       "      <td>1.049068</td>\n",
       "      <td>1.001707</td>\n",
       "      <td>1.000276</td>\n",
       "      <td>0.898460</td>\n",
       "      <td>BTC/AUD</td>\n",
       "      <td>0.000755</td>\n",
       "      <td>-0.001616</td>\n",
       "      <td>-1</td>\n",
       "    </tr>\n",
       "    <tr>\n",
       "      <th>2019-09-18 16:00:00+01:00</th>\n",
       "      <td>14897.629883</td>\n",
       "      <td>14919.230469</td>\n",
       "      <td>14879.599609</td>\n",
       "      <td>14879.599609</td>\n",
       "      <td>14879.599609</td>\n",
       "      <td>105416.0</td>\n",
       "      <td>0.998215</td>\n",
       "      <td>0.594412</td>\n",
       "      <td>-136.693590</td>\n",
       "      <td>-2.693687</td>\n",
       "      <td>55.359342</td>\n",
       "      <td>0.0</td>\n",
       "      <td>0.995113</td>\n",
       "      <td>1.002712</td>\n",
       "      <td>0.999494</td>\n",
       "      <td>0.913184</td>\n",
       "      <td>BTC/AUD</td>\n",
       "      <td>-0.001616</td>\n",
       "      <td>0.000981</td>\n",
       "      <td>1</td>\n",
       "    </tr>\n",
       "    <tr>\n",
       "      <th>2019-09-18 17:00:00+01:00</th>\n",
       "      <td>14897.839844</td>\n",
       "      <td>14945.879883</td>\n",
       "      <td>14849.950195</td>\n",
       "      <td>14894.200195</td>\n",
       "      <td>14894.200195</td>\n",
       "      <td>86641.0</td>\n",
       "      <td>0.998267</td>\n",
       "      <td>0.776254</td>\n",
       "      <td>-59.095027</td>\n",
       "      <td>-1.715412</td>\n",
       "      <td>60.844670</td>\n",
       "      <td>0.0</td>\n",
       "      <td>1.080260</td>\n",
       "      <td>1.001350</td>\n",
       "      <td>1.000698</td>\n",
       "      <td>0.859538</td>\n",
       "      <td>BTC/AUD</td>\n",
       "      <td>0.000981</td>\n",
       "      <td>-0.000461</td>\n",
       "      <td>-1</td>\n",
       "    </tr>\n",
       "    <tr>\n",
       "      <th>2019-09-18 18:00:00+01:00</th>\n",
       "      <td>14902.620117</td>\n",
       "      <td>14922.509766</td>\n",
       "      <td>14874.450195</td>\n",
       "      <td>14887.330078</td>\n",
       "      <td>14887.330078</td>\n",
       "      <td>70603.0</td>\n",
       "      <td>0.998071</td>\n",
       "      <td>0.724499</td>\n",
       "      <td>-55.375089</td>\n",
       "      <td>-1.418463</td>\n",
       "      <td>65.232933</td>\n",
       "      <td>0.0</td>\n",
       "      <td>1.037463</td>\n",
       "      <td>1.000810</td>\n",
       "      <td>1.000257</td>\n",
       "      <td>0.710317</td>\n",
       "      <td>BTC/AUD</td>\n",
       "      <td>-0.000461</td>\n",
       "      <td>0.002185</td>\n",
       "      <td>1</td>\n",
       "    </tr>\n",
       "    <tr>\n",
       "      <th>2019-09-18 19:00:00+01:00</th>\n",
       "      <td>14913.389648</td>\n",
       "      <td>14961.690430</td>\n",
       "      <td>14910.490234</td>\n",
       "      <td>14919.860352</td>\n",
       "      <td>14919.860352</td>\n",
       "      <td>53569.0</td>\n",
       "      <td>0.998493</td>\n",
       "      <td>1.017354</td>\n",
       "      <td>166.666667</td>\n",
       "      <td>-0.845198</td>\n",
       "      <td>52.927061</td>\n",
       "      <td>0.0</td>\n",
       "      <td>1.062010</td>\n",
       "      <td>0.999398</td>\n",
       "      <td>1.002477</td>\n",
       "      <td>0.661374</td>\n",
       "      <td>BTC/AUD</td>\n",
       "      <td>0.002185</td>\n",
       "      <td>0.001123</td>\n",
       "      <td>1</td>\n",
       "    </tr>\n",
       "  </tbody>\n",
       "</table>\n",
       "</div>"
      ]
     },
     "metadata": {},
     "execution_count": 36
    }
   ],
   "metadata": {}
  },
  {
   "cell_type": "code",
   "execution_count": 37,
   "source": [
    "df_data.Target_returns.describe()"
   ],
   "outputs": [
    {
     "output_type": "execute_result",
     "data": {
      "text/plain": [
       "count    107682.000000\n",
       "mean          0.000168\n",
       "std           0.012098\n",
       "min          -0.331738\n",
       "25%          -0.003940\n",
       "50%           0.000056\n",
       "75%           0.004199\n",
       "max           0.289606\n",
       "Name: Target_returns, dtype: float64"
      ]
     },
     "metadata": {},
     "execution_count": 37
    }
   ],
   "metadata": {}
  },
  {
   "cell_type": "code",
   "execution_count": 38,
   "source": [
    "# df_data.columns.to_list()"
   ],
   "outputs": [],
   "metadata": {}
  },
  {
   "cell_type": "markdown",
   "source": [
    "# Setting parameters for training and testing  "
   ],
   "metadata": {}
  },
  {
   "cell_type": "markdown",
   "source": [
    "Variables:\r\n",
    "\r\n",
    "* curr_list: The currency / currencies for which we want to create the ML model\r\n",
    "* indicators_list: The indicators which we will be using as Features\r\n",
    "* model_for_testing: One of 'svc' /  'dec_tree' / 'logreg' / 'forest' / 'grad_boost' / 'ada_boost'"
   ],
   "metadata": {}
  },
  {
   "cell_type": "code",
   "execution_count": 39,
   "source": [
    "curr_list = [ 'ETH/AUD', 'XRP/AUD', 'LTC/AUD', 'ADA/AUD', 'XLM/AUD', 'BCH/AUD' ]         # 'ETH/AUD', 'XRP/AUD', 'LTC/AUD', 'ADA/AUD', 'XLM/AUD', 'BCH/AUD'\r\n",
    "indicators_list = ['BBands_high', 'BBands_low', 'RSI_ratio', 'CCI','ADX', 'ADX_dirn', 'SMA_vol_agg', 'MACD_ratio']\r\n",
    "model_for_testing = 'ada_boost'"
   ],
   "outputs": [],
   "metadata": {}
  },
  {
   "cell_type": "markdown",
   "source": [
    "# Preparing the data for training the classifier models"
   ],
   "metadata": {}
  },
  {
   "cell_type": "code",
   "execution_count": 40,
   "source": [
    "df_filtered = df_data.loc[ df_data.Currency.isin(curr_list) ]\r\n",
    "df_filtered.shape"
   ],
   "outputs": [
    {
     "output_type": "execute_result",
     "data": {
      "text/plain": [
       "(92246, 20)"
      ]
     },
     "metadata": {},
     "execution_count": 40
    }
   ],
   "metadata": {}
  },
  {
   "cell_type": "code",
   "execution_count": 41,
   "source": [
    "X = df_filtered.loc[:,indicators_list].reset_index(drop=True)        # , 'CCI', 'Returns', 'SMA_agg', 'RSI_ratio', 'ADX_dirn', \r\n",
    "y = df_filtered.Buy_or_sell\r\n",
    "y.shape"
   ],
   "outputs": [
    {
     "output_type": "execute_result",
     "data": {
      "text/plain": [
       "(92246,)"
      ]
     },
     "metadata": {},
     "execution_count": 41
    }
   ],
   "metadata": {}
  },
  {
   "cell_type": "code",
   "execution_count": 42,
   "source": [
    "y.value_counts()"
   ],
   "outputs": [
    {
     "output_type": "execute_result",
     "data": {
      "text/plain": [
       " 1    46412\n",
       "-1    45834\n",
       "Name: Buy_or_sell, dtype: int64"
      ]
     },
     "metadata": {},
     "execution_count": 42
    }
   ],
   "metadata": {}
  },
  {
   "cell_type": "markdown",
   "source": [
    "### The data is imbalanced, usine SMOTE resampler"
   ],
   "metadata": {}
  },
  {
   "cell_type": "code",
   "execution_count": 43,
   "source": [
    "from imblearn.over_sampling import SMOTE\r\n",
    "from imblearn.combine import SMOTEENN\r\n",
    "\r\n",
    "# resampler = SMOTE(random_state= 1)\r\n",
    "combi_sampler = SMOTEENN(random_state=42)\r\n",
    "X , y = combi_sampler.fit_resample(X , y)\r\n",
    "y.value_counts()\r\n"
   ],
   "outputs": [
    {
     "output_type": "execute_result",
     "data": {
      "text/plain": [
       "-1    6311\n",
       " 1    6174\n",
       "Name: Buy_or_sell, dtype: int64"
      ]
     },
     "metadata": {},
     "execution_count": 43
    }
   ],
   "metadata": {}
  },
  {
   "cell_type": "markdown",
   "source": [
    "# Start of ML training"
   ],
   "metadata": {}
  },
  {
   "cell_type": "markdown",
   "source": [
    "## Importing libraries"
   ],
   "metadata": {}
  },
  {
   "cell_type": "code",
   "execution_count": 44,
   "source": [
    "from sklearn.tree import DecisionTreeClassifier\r\n",
    "from sklearn.svm import SVC\r\n",
    "from sklearn.linear_model import LogisticRegression\r\n",
    "from sklearn.ensemble import RandomForestClassifier, GradientBoostingClassifier, AdaBoostClassifier\r\n",
    "# import xgboost as xgb \r\n",
    "\r\n",
    "svc = SVC()\r\n",
    "dec_tree = DecisionTreeClassifier()\r\n",
    "logreg = LogisticRegression( )\r\n",
    "forest = RandomForestClassifier( )\r\n",
    "grad_boost = GradientBoostingClassifier()\r\n",
    "ada_boost = AdaBoostClassifier()\r\n",
    "# xgboost = "
   ],
   "outputs": [],
   "metadata": {}
  },
  {
   "cell_type": "code",
   "execution_count": 45,
   "source": [
    "from sklearn.model_selection import cross_val_score\r\n",
    "from sklearn.preprocessing import StandardScaler\r\n",
    "from sklearn.compose import ColumnTransformer, make_column_transformer\r\n",
    "from sklearn.decomposition import PCA\r\n",
    "from sklearn.pipeline import make_pipeline, Pipeline\r\n"
   ],
   "outputs": [],
   "metadata": {}
  },
  {
   "cell_type": "markdown",
   "source": [
    "## Define pipelines"
   ],
   "metadata": {}
  },
  {
   "cell_type": "code",
   "execution_count": 46,
   "source": [
    "col_transform = make_column_transformer(\r\n",
    "    (StandardScaler(), X.columns.to_list())\r\n",
    ")\r\n",
    "col_transform.fit_transform(X);"
   ],
   "outputs": [],
   "metadata": {}
  },
  {
   "cell_type": "code",
   "execution_count": 47,
   "source": [
    "pca = PCA(n_components=3)"
   ],
   "outputs": [],
   "metadata": {}
  },
  {
   "cell_type": "code",
   "execution_count": 48,
   "source": [
    "if model_for_testing == 'svc': model = ('svc', svc)\r\n",
    "elif model_for_testing == 'logreg': model = ('logreg', logreg)\r\n",
    "elif model_for_testing == 'dec_tree': model = ('dec_tree', dec_tree)\r\n",
    "elif model_for_testing == 'forest': model = ('forest', forest)\r\n",
    "elif model_for_testing == 'grad_boost': model = ('grad_boost', grad_boost)\r\n",
    "elif model_for_testing == 'ada_boost': model = ('ada_boost', ada_boost)\r\n",
    "\r\n",
    "pipe = Pipeline(steps= [('col_transform', col_transform), \r\n",
    "                    ('pca', pca),\r\n",
    "                    model\r\n",
    "                    ])\r\n",
    "\r\n",
    "# (col_transform, dec_tree)"
   ],
   "outputs": [],
   "metadata": {}
  },
  {
   "cell_type": "markdown",
   "source": [
    "# Step 1 - Get Cross Validation score by running the model with the default parameters"
   ],
   "metadata": {}
  },
  {
   "cell_type": "code",
   "execution_count": 49,
   "source": [
    "# cross-validate the entire process\r\n",
    "# thus, preprocessing occurs within each fold of cross-validation\r\n",
    "cross_val_roc_auc = cross_val_score(pipe, X, y, cv=10, scoring='roc_auc', n_jobs=20).mean()\r\n",
    "cross_val_roc_auc\r\n"
   ],
   "outputs": [
    {
     "output_type": "execute_result",
     "data": {
      "text/plain": [
       "0.6256669318906523"
      ]
     },
     "metadata": {},
     "execution_count": 49
    }
   ],
   "metadata": {}
  },
  {
   "cell_type": "code",
   "execution_count": 50,
   "source": [
    "# cross-validate the entire process\r\n",
    "# thus, preprocessing occurs within each fold of cross-validation\r\n",
    "cross_val_accuracy = cross_val_score(pipe, X, y, cv=10, scoring='accuracy', n_jobs=20).mean()\r\n",
    "cross_val_accuracy"
   ],
   "outputs": [
    {
     "output_type": "execute_result",
     "data": {
      "text/plain": [
       "0.6048089753854365"
      ]
     },
     "metadata": {},
     "execution_count": 50
    }
   ],
   "metadata": {}
  },
  {
   "cell_type": "markdown",
   "source": [
    "# Step 2: Call GridSearchCV with a range of parameters"
   ],
   "metadata": {}
  },
  {
   "cell_type": "code",
   "execution_count": 51,
   "source": [
    "from sklearn.model_selection import GridSearchCV"
   ],
   "outputs": [],
   "metadata": {}
  },
  {
   "cell_type": "code",
   "execution_count": 55,
   "source": [
    "params = {}\r\n",
    "\r\n",
    "if model_for_testing == 'logreg':\r\n",
    "    params['logreg__solver'] = ['liblinear', 'lbfgs']\r\n",
    "    params['logreg__C'] = [0.5, 0.75, 1, 1.25, 1.5]\r\n",
    "    params['logreg__penalty'] = ['l1', 'l2']\r\n",
    "\r\n",
    "\r\n",
    "elif model_for_testing == 'svc': \r\n",
    "    params['svc__C'] = [0.5, 0.75, 1, 1.25, 1.5]\r\n",
    "    params['svc__kernel'] = ['linear', 'poly', 'rbf', 'sigmoid', 'precomputed']\r\n",
    "\r\n",
    "elif model_for_testing == 'dec_tree': \r\n",
    "    params['dec_tree__criterion'] = ['gini', 'entropy']\r\n",
    "    params['dec_tree__max_depth'] = list(range(3,8,1))\r\n",
    "\r\n",
    "\r\n",
    "elif model_for_testing == 'forest':\r\n",
    "    params['forest__n_estimators'] = list(range(100,150,10))\r\n",
    "    params['forest__max_depth'] = list(range(3,8,1))\r\n",
    "    params['forest__max_features'] = ['auto', 'sqrt', 'log2']\r\n",
    "\r\n",
    "\r\n",
    "elif model_for_testing == 'grad_boost': \r\n",
    "    params['grad_boost__learning_rate'] = [0.075, 0.1, 0.25, 0.5]\r\n",
    "    params['grad_boost__n_estimators'] = list(range(100,200,10))\r\n",
    "    params['grad_boost__max_features'] = ['auto', 'sqrt', 'log2']\r\n",
    "    params['grad_boost__max_depth'] = list(range(3,8,1))\r\n",
    "    params['grad_boost__loss'] = ['deviance', 'exponential']\r\n",
    "\r\n",
    "\r\n",
    "elif model_for_testing == 'ada_boost': \r\n",
    "    params['ada_boost__n_estimators'] = list(range(100,200,10))\r\n",
    "    params['ada_boost__learning_rate'] = [0.03, 0.05, 0.075 ]\r\n",
    "    params['ada_boost__algorithm'] = ['SAMME.R']\r\n",
    "\r\n"
   ],
   "outputs": [],
   "metadata": {}
  },
  {
   "cell_type": "markdown",
   "source": [
    "### Calling GridSearch"
   ],
   "metadata": {}
  },
  {
   "cell_type": "code",
   "execution_count": 56,
   "source": [
    "grid = GridSearchCV(pipe, params, cv=10, scoring='roc_auc', n_jobs=20)\r\n",
    "grid.fit(X,y);"
   ],
   "outputs": [],
   "metadata": {}
  },
  {
   "cell_type": "markdown",
   "source": [
    "### Displaying results"
   ],
   "metadata": {}
  },
  {
   "cell_type": "code",
   "execution_count": 57,
   "source": [
    "print(f'Score: {grid.best_score_}')\r\n",
    "print(f'Best params: {grid.best_params_}')\r\n",
    "estimator = grid.best_estimator_[model_for_testing]\r\n",
    "\r\n",
    "grid_best_params = str(grid.best_params_)\r\n",
    "grid_best_params\r\n",
    "gridcv_best_score = grid.best_score_"
   ],
   "outputs": [
    {
     "output_type": "stream",
     "name": "stdout",
     "text": [
      "Score: 0.627912968832462\n",
      "Best params: {'ada_boost__algorithm': 'SAMME.R', 'ada_boost__learning_rate': 0.05, 'ada_boost__n_estimators': 170}\n"
     ]
    }
   ],
   "metadata": {}
  },
  {
   "cell_type": "markdown",
   "source": [
    "### Fitting the pipeline, with the tuned model"
   ],
   "metadata": {}
  },
  {
   "cell_type": "code",
   "execution_count": 58,
   "source": [
    "pipeline = make_pipeline(col_transform, pca, estimator)\r\n",
    "pipeline.fit(X, y)\r\n"
   ],
   "outputs": [
    {
     "output_type": "execute_result",
     "data": {
      "text/plain": [
       "Pipeline(steps=[('columntransformer',\n",
       "                 ColumnTransformer(transformers=[('standardscaler',\n",
       "                                                  StandardScaler(),\n",
       "                                                  ['BBands_high', 'BBands_low',\n",
       "                                                   'RSI_ratio', 'CCI', 'ADX',\n",
       "                                                   'ADX_dirn', 'SMA_vol_agg',\n",
       "                                                   'MACD_ratio'])])),\n",
       "                ('pca', PCA(n_components=3)),\n",
       "                ('adaboostclassifier',\n",
       "                 AdaBoostClassifier(learning_rate=0.05, n_estimators=170))])"
      ]
     },
     "metadata": {},
     "execution_count": 58
    }
   ],
   "metadata": {}
  },
  {
   "cell_type": "markdown",
   "source": [
    "# Save the fitted pipeline to a joblib file"
   ],
   "metadata": {}
  },
  {
   "cell_type": "code",
   "execution_count": 59,
   "source": [
    "from joblib import dump, load\r\n",
    "from pathlib import Path\r\n",
    "\r\n",
    "filename = Path('Joblibs/' + dt.date.today().isoformat() + '_' + model_for_testing + '.joblib')\r\n",
    "dump(pipeline, filename)\r\n"
   ],
   "outputs": [
    {
     "output_type": "execute_result",
     "data": {
      "text/plain": [
       "['Joblibs\\\\2021-08-28_ada_boost.joblib']"
      ]
     },
     "metadata": {},
     "execution_count": 59
    }
   ],
   "metadata": {}
  },
  {
   "cell_type": "markdown",
   "source": [
    "# Testing"
   ],
   "metadata": {}
  },
  {
   "cell_type": "markdown",
   "source": [
    "### Get the testing data first"
   ],
   "metadata": {}
  },
  {
   "cell_type": "code",
   "execution_count": 60,
   "source": [
    "df_testing_data = pd.read_csv('Resources/Testing_data.csv', index_col=0, infer_datetime_format=True)\r\n",
    "df_testing_data.index.set_names('Date', inplace=True)\r\n",
    "\r\n",
    "df_testing_data.head(2)"
   ],
   "outputs": [
    {
     "output_type": "execute_result",
     "data": {
      "text/plain": [
       "                        Open     High      Low    Close    Volume   SMA_agg  \\\n",
       "Date                                                                          \n",
       "2021-07-30 02:00:00  3311.76  3311.76  3286.35  3286.35  1.252975  1.023521   \n",
       "2021-07-30 03:00:00  3284.09  3284.09  3281.31  3281.31  0.613744  1.027185   \n",
       "\n",
       "                     RSI_ratio       CCI  MACD_ratio        ADX  ADX_dirn  \\\n",
       "Date                                                                        \n",
       "2021-07-30 02:00:00   1.022101  87.14359    1.623762  65.634756       1.0   \n",
       "2021-07-30 03:00:00   0.996889  41.18537    1.337463  68.393673       1.0   \n",
       "\n",
       "                     ATR_ratio  BBands_high  BBands_low  SMA_vol_agg Currency  \\\n",
       "Date                                                                            \n",
       "2021-07-30 02:00:00   1.448620     1.002131    1.029719     1.471938  ETH/AUD   \n",
       "2021-07-30 03:00:00   1.269047     1.005115    1.014386     1.594175  ETH/AUD   \n",
       "\n",
       "                      Returns  \n",
       "Date                           \n",
       "2021-07-30 02:00:00 -0.005643  \n",
       "2021-07-30 03:00:00 -0.001534  "
      ],
      "text/html": [
       "<div>\n",
       "<style scoped>\n",
       "    .dataframe tbody tr th:only-of-type {\n",
       "        vertical-align: middle;\n",
       "    }\n",
       "\n",
       "    .dataframe tbody tr th {\n",
       "        vertical-align: top;\n",
       "    }\n",
       "\n",
       "    .dataframe thead th {\n",
       "        text-align: right;\n",
       "    }\n",
       "</style>\n",
       "<table border=\"1\" class=\"dataframe\">\n",
       "  <thead>\n",
       "    <tr style=\"text-align: right;\">\n",
       "      <th></th>\n",
       "      <th>Open</th>\n",
       "      <th>High</th>\n",
       "      <th>Low</th>\n",
       "      <th>Close</th>\n",
       "      <th>Volume</th>\n",
       "      <th>SMA_agg</th>\n",
       "      <th>RSI_ratio</th>\n",
       "      <th>CCI</th>\n",
       "      <th>MACD_ratio</th>\n",
       "      <th>ADX</th>\n",
       "      <th>ADX_dirn</th>\n",
       "      <th>ATR_ratio</th>\n",
       "      <th>BBands_high</th>\n",
       "      <th>BBands_low</th>\n",
       "      <th>SMA_vol_agg</th>\n",
       "      <th>Currency</th>\n",
       "      <th>Returns</th>\n",
       "    </tr>\n",
       "    <tr>\n",
       "      <th>Date</th>\n",
       "      <th></th>\n",
       "      <th></th>\n",
       "      <th></th>\n",
       "      <th></th>\n",
       "      <th></th>\n",
       "      <th></th>\n",
       "      <th></th>\n",
       "      <th></th>\n",
       "      <th></th>\n",
       "      <th></th>\n",
       "      <th></th>\n",
       "      <th></th>\n",
       "      <th></th>\n",
       "      <th></th>\n",
       "      <th></th>\n",
       "      <th></th>\n",
       "      <th></th>\n",
       "    </tr>\n",
       "  </thead>\n",
       "  <tbody>\n",
       "    <tr>\n",
       "      <th>2021-07-30 02:00:00</th>\n",
       "      <td>3311.76</td>\n",
       "      <td>3311.76</td>\n",
       "      <td>3286.35</td>\n",
       "      <td>3286.35</td>\n",
       "      <td>1.252975</td>\n",
       "      <td>1.023521</td>\n",
       "      <td>1.022101</td>\n",
       "      <td>87.14359</td>\n",
       "      <td>1.623762</td>\n",
       "      <td>65.634756</td>\n",
       "      <td>1.0</td>\n",
       "      <td>1.448620</td>\n",
       "      <td>1.002131</td>\n",
       "      <td>1.029719</td>\n",
       "      <td>1.471938</td>\n",
       "      <td>ETH/AUD</td>\n",
       "      <td>-0.005643</td>\n",
       "    </tr>\n",
       "    <tr>\n",
       "      <th>2021-07-30 03:00:00</th>\n",
       "      <td>3284.09</td>\n",
       "      <td>3284.09</td>\n",
       "      <td>3281.31</td>\n",
       "      <td>3281.31</td>\n",
       "      <td>0.613744</td>\n",
       "      <td>1.027185</td>\n",
       "      <td>0.996889</td>\n",
       "      <td>41.18537</td>\n",
       "      <td>1.337463</td>\n",
       "      <td>68.393673</td>\n",
       "      <td>1.0</td>\n",
       "      <td>1.269047</td>\n",
       "      <td>1.005115</td>\n",
       "      <td>1.014386</td>\n",
       "      <td>1.594175</td>\n",
       "      <td>ETH/AUD</td>\n",
       "      <td>-0.001534</td>\n",
       "    </tr>\n",
       "  </tbody>\n",
       "</table>\n",
       "</div>"
      ]
     },
     "metadata": {},
     "execution_count": 60
    }
   ],
   "metadata": {}
  },
  {
   "cell_type": "markdown",
   "source": [
    "### Setting target values"
   ],
   "metadata": {}
  },
  {
   "cell_type": "code",
   "execution_count": 61,
   "source": [
    "df_testing_data['Target_returns'] = df_testing_data.Returns.shift(-1)\r\n",
    "df_testing_data.dropna(inplace=True)\r\n",
    "df_testing_data['Buy_or_sell'] = df_testing_data.Target_returns.apply(lambda x: 1 if x > 0 else -1)\r\n",
    "df_testing_data.shape"
   ],
   "outputs": [
    {
     "output_type": "execute_result",
     "data": {
      "text/plain": [
       "(4215, 19)"
      ]
     },
     "metadata": {},
     "execution_count": 61
    }
   ],
   "metadata": {}
  },
  {
   "cell_type": "markdown",
   "source": [
    "### Setting a separate currency list for testing"
   ],
   "metadata": {}
  },
  {
   "cell_type": "code",
   "execution_count": 62,
   "source": [
    "\r\n",
    "curr_list_test = curr_list"
   ],
   "outputs": [],
   "metadata": {}
  },
  {
   "cell_type": "code",
   "execution_count": 63,
   "source": [
    "df_testing_subset = df_testing_data.loc[ df_testing_data.Currency.isin(curr_list_test) ] \r\n",
    "X_test = df_testing_subset.loc[: , indicators_list].reset_index(drop=True)   \r\n",
    "y_test = df_testing_subset.loc[:, ['Target_returns', 'Buy_or_sell']].copy()\r\n",
    "\r\n",
    "print(f'{X_test.shape}; {y_test.shape}')"
   ],
   "outputs": [
    {
     "output_type": "stream",
     "name": "stdout",
     "text": [
      "(4215, 8); (4215, 2)\n"
     ]
    }
   ],
   "metadata": {}
  },
  {
   "cell_type": "markdown",
   "source": [
    "## Load the joblib file"
   ],
   "metadata": {}
  },
  {
   "cell_type": "code",
   "execution_count": 64,
   "source": [
    "pipeline = load(filename)"
   ],
   "outputs": [],
   "metadata": {}
  },
  {
   "cell_type": "code",
   "execution_count": 65,
   "source": [
    "df_pred = y_test\r\n",
    "df_pred['Pred_buy_or_sell'] = pipeline.predict(X_test)\r\n",
    "df_pred.head()"
   ],
   "outputs": [
    {
     "output_type": "execute_result",
     "data": {
      "text/plain": [
       "                     Target_returns  Buy_or_sell  Pred_buy_or_sell\n",
       "Date                                                              \n",
       "2021-07-30 02:00:00       -0.001534           -1                -1\n",
       "2021-07-30 03:00:00       -0.002517           -1                -1\n",
       "2021-07-30 04:00:00       -0.003006           -1                -1\n",
       "2021-07-30 05:00:00       -0.004557           -1                 1\n",
       "2021-07-30 06:00:00        0.000000           -1                 1"
      ],
      "text/html": [
       "<div>\n",
       "<style scoped>\n",
       "    .dataframe tbody tr th:only-of-type {\n",
       "        vertical-align: middle;\n",
       "    }\n",
       "\n",
       "    .dataframe tbody tr th {\n",
       "        vertical-align: top;\n",
       "    }\n",
       "\n",
       "    .dataframe thead th {\n",
       "        text-align: right;\n",
       "    }\n",
       "</style>\n",
       "<table border=\"1\" class=\"dataframe\">\n",
       "  <thead>\n",
       "    <tr style=\"text-align: right;\">\n",
       "      <th></th>\n",
       "      <th>Target_returns</th>\n",
       "      <th>Buy_or_sell</th>\n",
       "      <th>Pred_buy_or_sell</th>\n",
       "    </tr>\n",
       "    <tr>\n",
       "      <th>Date</th>\n",
       "      <th></th>\n",
       "      <th></th>\n",
       "      <th></th>\n",
       "    </tr>\n",
       "  </thead>\n",
       "  <tbody>\n",
       "    <tr>\n",
       "      <th>2021-07-30 02:00:00</th>\n",
       "      <td>-0.001534</td>\n",
       "      <td>-1</td>\n",
       "      <td>-1</td>\n",
       "    </tr>\n",
       "    <tr>\n",
       "      <th>2021-07-30 03:00:00</th>\n",
       "      <td>-0.002517</td>\n",
       "      <td>-1</td>\n",
       "      <td>-1</td>\n",
       "    </tr>\n",
       "    <tr>\n",
       "      <th>2021-07-30 04:00:00</th>\n",
       "      <td>-0.003006</td>\n",
       "      <td>-1</td>\n",
       "      <td>-1</td>\n",
       "    </tr>\n",
       "    <tr>\n",
       "      <th>2021-07-30 05:00:00</th>\n",
       "      <td>-0.004557</td>\n",
       "      <td>-1</td>\n",
       "      <td>1</td>\n",
       "    </tr>\n",
       "    <tr>\n",
       "      <th>2021-07-30 06:00:00</th>\n",
       "      <td>0.000000</td>\n",
       "      <td>-1</td>\n",
       "      <td>1</td>\n",
       "    </tr>\n",
       "  </tbody>\n",
       "</table>\n",
       "</div>"
      ]
     },
     "metadata": {},
     "execution_count": 65
    }
   ],
   "metadata": {}
  },
  {
   "cell_type": "code",
   "execution_count": 66,
   "source": [
    "from sklearn.metrics import classification_report\r\n",
    "from imblearn.metrics import classification_report_imbalanced\r\n",
    "\r\n",
    "y_pred = pipeline.predict(X_test)\r\n",
    "df_predictions = pd.DataFrame(y_pred, columns=['Buy'])\r\n",
    "\r\n",
    "print(classification_report(y_test.Buy_or_sell, y_pred))"
   ],
   "outputs": [
    {
     "output_type": "stream",
     "name": "stdout",
     "text": [
      "              precision    recall  f1-score   support\n",
      "\n",
      "          -1       0.70      0.51      0.59      2867\n",
      "           1       0.34      0.54      0.42      1348\n",
      "\n",
      "    accuracy                           0.52      4215\n",
      "   macro avg       0.52      0.53      0.50      4215\n",
      "weighted avg       0.59      0.52      0.53      4215\n",
      "\n"
     ]
    }
   ],
   "metadata": {}
  },
  {
   "cell_type": "markdown",
   "source": [
    "### Getting the total returns when the strategy gave a buy signal "
   ],
   "metadata": {}
  },
  {
   "cell_type": "code",
   "execution_count": 67,
   "source": [
    "total_returns_pred_buy = df_pred.loc[df_pred.Pred_buy_or_sell == 1].copy()\r\n",
    "total_pnl = total_returns_pred_buy.Target_returns.sum()\r\n",
    "total_pnl"
   ],
   "outputs": [
    {
     "output_type": "execute_result",
     "data": {
      "text/plain": [
       "2.4755899228508875"
      ]
     },
     "metadata": {},
     "execution_count": 67
    }
   ],
   "metadata": {}
  },
  {
   "cell_type": "markdown",
   "source": [
    "# Writing the outcomes to a CSV"
   ],
   "metadata": {}
  },
  {
   "cell_type": "code",
   "execution_count": 68,
   "source": [
    "currency = ' '.join(curr_list)\r\n",
    "indicators = ','.join(indicators_list)\r\n",
    "model_tested = model[0]\r\n",
    "cross_val_roc_auc\r\n",
    "cross_val_accuracy\r\n",
    "total_pnl\r\n",
    "grid_best_params\r\n",
    "gridcv_best_score"
   ],
   "outputs": [
    {
     "output_type": "execute_result",
     "data": {
      "text/plain": [
       "0.627912968832462"
      ]
     },
     "metadata": {},
     "execution_count": 68
    }
   ],
   "metadata": {}
  },
  {
   "cell_type": "code",
   "execution_count": 69,
   "source": [
    "df_outcomes = pd.read_csv('Resources/GridSearch_test_outcomes.csv', index_col=0)\r\n",
    "\r\n",
    "df_outcomes\r\n",
    "# df_outcomes = df_outcomes.append()\r\n",
    "df_outcomes = df_outcomes.append(pd.Series([ \r\n",
    "    currency, \r\n",
    "    indicators, \r\n",
    "    model_tested, \r\n",
    "    cross_val_roc_auc, \r\n",
    "    cross_val_accuracy, \r\n",
    "    gridcv_best_score, \r\n",
    "    grid_best_params,\r\n",
    "    total_pnl\r\n",
    "], index= df_outcomes.columns), ignore_index= True)\r\n",
    "df_outcomes.to_csv('Resources/GridSearch_test_outcomes.csv')"
   ],
   "outputs": [],
   "metadata": {}
  },
  {
   "cell_type": "code",
   "execution_count": null,
   "source": [],
   "outputs": [],
   "metadata": {}
  }
 ],
 "metadata": {
  "orig_nbformat": 4,
  "language_info": {
   "name": "python",
   "version": "3.7.10",
   "mimetype": "text/x-python",
   "codemirror_mode": {
    "name": "ipython",
    "version": 3
   },
   "pygments_lexer": "ipython3",
   "nbconvert_exporter": "python",
   "file_extension": ".py"
  },
  "kernelspec": {
   "name": "python3",
   "display_name": "Python 3.7.10 64-bit ('project2env': conda)"
  },
  "interpreter": {
   "hash": "cc9d93f5fa92246aacb984fbac88763759a8f65daad4aaedd794ab683a30e53f"
  }
 },
 "nbformat": 4,
 "nbformat_minor": 2
}