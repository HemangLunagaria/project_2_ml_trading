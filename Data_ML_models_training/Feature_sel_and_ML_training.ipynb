{
 "cells": [
  {
   "cell_type": "markdown",
   "source": [
    "# Data preparation for training Machine Learning Models \n",
    "\n",
    "* In this notebook we will be using the price + indicator data which has been prepared in the previous notebook. We will set the features columns and the target data column. Then we will set aside a part of the data for testing.\n",
    "\n",
    "* We will use the GridSearchCV method of the scikit-learn library and check which model is giving the best score for training and validation"
   ],
   "metadata": {
    "slideshow": {
     "slide_type": "slide"
    },
    "tags": []
   }
  },
  {
   "cell_type": "code",
   "execution_count": 1,
   "source": [
    "import pandas as pd\r\n",
    "import datetime as dt "
   ],
   "outputs": [],
   "metadata": {
    "tags": []
   }
  },
  {
   "cell_type": "markdown",
   "source": [
    "### First read the data which has been prepared in the previous notebook "
   ],
   "metadata": {
    "slideshow": {
     "slide_type": "slide"
    }
   }
  },
  {
   "cell_type": "code",
   "execution_count": 2,
   "source": [
    "df_data = pd.read_csv('Resources/Training_data.csv', index_col=0, infer_datetime_format=True)\r\n",
    "df_data.index.set_names('Date', inplace=True)\r\n",
    "\r\n",
    "df_data.tail(2)"
   ],
   "outputs": [
    {
     "output_type": "execute_result",
     "data": {
      "text/html": [
       "<div>\n",
       "<style scoped>\n",
       "    .dataframe tbody tr th:only-of-type {\n",
       "        vertical-align: middle;\n",
       "    }\n",
       "\n",
       "    .dataframe tbody tr th {\n",
       "        vertical-align: top;\n",
       "    }\n",
       "\n",
       "    .dataframe thead th {\n",
       "        text-align: right;\n",
       "    }\n",
       "</style>\n",
       "<table border=\"1\" class=\"dataframe\">\n",
       "  <thead>\n",
       "    <tr style=\"text-align: right;\">\n",
       "      <th></th>\n",
       "      <th>Open</th>\n",
       "      <th>High</th>\n",
       "      <th>Low</th>\n",
       "      <th>Close</th>\n",
       "      <th>Adj Close</th>\n",
       "      <th>Volume</th>\n",
       "      <th>SMA_agg</th>\n",
       "      <th>RSI_ratio</th>\n",
       "      <th>CCI</th>\n",
       "      <th>MACD_ratio</th>\n",
       "      <th>ADX</th>\n",
       "      <th>ADX_dirn</th>\n",
       "      <th>ATR_ratio</th>\n",
       "      <th>BBands_high</th>\n",
       "      <th>BBands_low</th>\n",
       "      <th>SMA_vol_agg</th>\n",
       "      <th>Currency</th>\n",
       "      <th>Returns</th>\n",
       "    </tr>\n",
       "    <tr>\n",
       "      <th>Date</th>\n",
       "      <th></th>\n",
       "      <th></th>\n",
       "      <th></th>\n",
       "      <th></th>\n",
       "      <th></th>\n",
       "      <th></th>\n",
       "      <th></th>\n",
       "      <th></th>\n",
       "      <th></th>\n",
       "      <th></th>\n",
       "      <th></th>\n",
       "      <th></th>\n",
       "      <th></th>\n",
       "      <th></th>\n",
       "      <th></th>\n",
       "      <th></th>\n",
       "      <th></th>\n",
       "      <th></th>\n",
       "    </tr>\n",
       "  </thead>\n",
       "  <tbody>\n",
       "    <tr>\n",
       "      <th>2021-06-30 22:00:00+01:00</th>\n",
       "      <td>693.063843</td>\n",
       "      <td>698.176758</td>\n",
       "      <td>693.063843</td>\n",
       "      <td>694.500916</td>\n",
       "      <td>694.500916</td>\n",
       "      <td>3809792.0</td>\n",
       "      <td>1.012661</td>\n",
       "      <td>1.269279</td>\n",
       "      <td>69.589922</td>\n",
       "      <td>-6.895928</td>\n",
       "      <td>40.093125</td>\n",
       "      <td>1.0</td>\n",
       "      <td>0.845223</td>\n",
       "      <td>1.001346</td>\n",
       "      <td>1.008140</td>\n",
       "      <td>1.787579</td>\n",
       "      <td>BCH/AUD</td>\n",
       "      <td>0.001308</td>\n",
       "    </tr>\n",
       "    <tr>\n",
       "      <th>2021-06-30 23:00:00+01:00</th>\n",
       "      <td>695.193176</td>\n",
       "      <td>699.728760</td>\n",
       "      <td>692.296326</td>\n",
       "      <td>695.171204</td>\n",
       "      <td>695.171204</td>\n",
       "      <td>0.0</td>\n",
       "      <td>1.014853</td>\n",
       "      <td>1.282551</td>\n",
       "      <td>81.106419</td>\n",
       "      <td>8.261619</td>\n",
       "      <td>43.752081</td>\n",
       "      <td>1.0</td>\n",
       "      <td>0.840898</td>\n",
       "      <td>0.999544</td>\n",
       "      <td>1.002765</td>\n",
       "      <td>0.709602</td>\n",
       "      <td>BCH/AUD</td>\n",
       "      <td>0.000965</td>\n",
       "    </tr>\n",
       "  </tbody>\n",
       "</table>\n",
       "</div>"
      ],
      "text/plain": [
       "                                 Open        High         Low       Close  \\\n",
       "Date                                                                        \n",
       "2021-06-30 22:00:00+01:00  693.063843  698.176758  693.063843  694.500916   \n",
       "2021-06-30 23:00:00+01:00  695.193176  699.728760  692.296326  695.171204   \n",
       "\n",
       "                            Adj Close     Volume   SMA_agg  RSI_ratio  \\\n",
       "Date                                                                    \n",
       "2021-06-30 22:00:00+01:00  694.500916  3809792.0  1.012661   1.269279   \n",
       "2021-06-30 23:00:00+01:00  695.171204        0.0  1.014853   1.282551   \n",
       "\n",
       "                                 CCI  MACD_ratio        ADX  ADX_dirn  \\\n",
       "Date                                                                    \n",
       "2021-06-30 22:00:00+01:00  69.589922   -6.895928  40.093125       1.0   \n",
       "2021-06-30 23:00:00+01:00  81.106419    8.261619  43.752081       1.0   \n",
       "\n",
       "                           ATR_ratio  BBands_high  BBands_low  SMA_vol_agg  \\\n",
       "Date                                                                         \n",
       "2021-06-30 22:00:00+01:00   0.845223     1.001346    1.008140     1.787579   \n",
       "2021-06-30 23:00:00+01:00   0.840898     0.999544    1.002765     0.709602   \n",
       "\n",
       "                          Currency   Returns  \n",
       "Date                                          \n",
       "2021-06-30 22:00:00+01:00  BCH/AUD  0.001308  \n",
       "2021-06-30 23:00:00+01:00  BCH/AUD  0.000965  "
      ]
     },
     "metadata": {},
     "execution_count": 2
    }
   ],
   "metadata": {}
  },
  {
   "cell_type": "markdown",
   "source": [
    "### Our target value needs to be the returns of the next timeperiod, so transforming the data accordingly"
   ],
   "metadata": {}
  },
  {
   "cell_type": "code",
   "execution_count": 3,
   "source": [
    "df_data['Target_returns'] = df_data.Returns.shift(-1)\r\n",
    "df_data.dropna(inplace=True)\r\n",
    "df_data['Buy_or_sell'] = df_data.Target_returns.apply(lambda x: 1 if x > 0 else 0)\r\n",
    "df_data.head()"
   ],
   "outputs": [
    {
     "output_type": "execute_result",
     "data": {
      "text/html": [
       "<div>\n",
       "<style scoped>\n",
       "    .dataframe tbody tr th:only-of-type {\n",
       "        vertical-align: middle;\n",
       "    }\n",
       "\n",
       "    .dataframe tbody tr th {\n",
       "        vertical-align: top;\n",
       "    }\n",
       "\n",
       "    .dataframe thead th {\n",
       "        text-align: right;\n",
       "    }\n",
       "</style>\n",
       "<table border=\"1\" class=\"dataframe\">\n",
       "  <thead>\n",
       "    <tr style=\"text-align: right;\">\n",
       "      <th></th>\n",
       "      <th>Open</th>\n",
       "      <th>High</th>\n",
       "      <th>Low</th>\n",
       "      <th>Close</th>\n",
       "      <th>Adj Close</th>\n",
       "      <th>Volume</th>\n",
       "      <th>SMA_agg</th>\n",
       "      <th>RSI_ratio</th>\n",
       "      <th>CCI</th>\n",
       "      <th>MACD_ratio</th>\n",
       "      <th>ADX</th>\n",
       "      <th>ADX_dirn</th>\n",
       "      <th>ATR_ratio</th>\n",
       "      <th>BBands_high</th>\n",
       "      <th>BBands_low</th>\n",
       "      <th>SMA_vol_agg</th>\n",
       "      <th>Currency</th>\n",
       "      <th>Returns</th>\n",
       "      <th>Target_returns</th>\n",
       "      <th>Buy_or_sell</th>\n",
       "    </tr>\n",
       "    <tr>\n",
       "      <th>Date</th>\n",
       "      <th></th>\n",
       "      <th></th>\n",
       "      <th></th>\n",
       "      <th></th>\n",
       "      <th></th>\n",
       "      <th></th>\n",
       "      <th></th>\n",
       "      <th></th>\n",
       "      <th></th>\n",
       "      <th></th>\n",
       "      <th></th>\n",
       "      <th></th>\n",
       "      <th></th>\n",
       "      <th></th>\n",
       "      <th></th>\n",
       "      <th></th>\n",
       "      <th></th>\n",
       "      <th></th>\n",
       "      <th></th>\n",
       "      <th></th>\n",
       "    </tr>\n",
       "  </thead>\n",
       "  <tbody>\n",
       "    <tr>\n",
       "      <th>2019-09-18 21:00:00+01:00</th>\n",
       "      <td>14914.089844</td>\n",
       "      <td>14963.049805</td>\n",
       "      <td>14895.769531</td>\n",
       "      <td>14957.429688</td>\n",
       "      <td>14957.429688</td>\n",
       "      <td>61484.0</td>\n",
       "      <td>0.999928</td>\n",
       "      <td>1.159140</td>\n",
       "      <td>72.833673</td>\n",
       "      <td>-0.737363</td>\n",
       "      <td>39.780911</td>\n",
       "      <td>0.0</td>\n",
       "      <td>1.035198</td>\n",
       "      <td>0.999182</td>\n",
       "      <td>1.004327</td>\n",
       "      <td>0.537254</td>\n",
       "      <td>BTC/AUD</td>\n",
       "      <td>0.001393</td>\n",
       "      <td>-0.001160</td>\n",
       "      <td>0</td>\n",
       "    </tr>\n",
       "    <tr>\n",
       "      <th>2019-09-18 22:00:00+01:00</th>\n",
       "      <td>14958.599609</td>\n",
       "      <td>14966.950195</td>\n",
       "      <td>14925.269531</td>\n",
       "      <td>14940.080078</td>\n",
       "      <td>14940.080078</td>\n",
       "      <td>103132.0</td>\n",
       "      <td>1.000571</td>\n",
       "      <td>1.003061</td>\n",
       "      <td>79.504221</td>\n",
       "      <td>-1.521450</td>\n",
       "      <td>34.729405</td>\n",
       "      <td>0.0</td>\n",
       "      <td>0.986765</td>\n",
       "      <td>1.000795</td>\n",
       "      <td>1.002382</td>\n",
       "      <td>0.578897</td>\n",
       "      <td>BTC/AUD</td>\n",
       "      <td>-0.001160</td>\n",
       "      <td>-0.002885</td>\n",
       "      <td>0</td>\n",
       "    </tr>\n",
       "    <tr>\n",
       "      <th>2019-09-18 23:00:00+01:00</th>\n",
       "      <td>14940.080078</td>\n",
       "      <td>14948.669922</td>\n",
       "      <td>14896.980469</td>\n",
       "      <td>14896.980469</td>\n",
       "      <td>14896.980469</td>\n",
       "      <td>62138.0</td>\n",
       "      <td>1.000950</td>\n",
       "      <td>0.736963</td>\n",
       "      <td>-154.742871</td>\n",
       "      <td>-0.023342</td>\n",
       "      <td>36.938127</td>\n",
       "      <td>0.0</td>\n",
       "      <td>0.972607</td>\n",
       "      <td>1.003602</td>\n",
       "      <td>0.999144</td>\n",
       "      <td>0.596191</td>\n",
       "      <td>BTC/AUD</td>\n",
       "      <td>-0.002885</td>\n",
       "      <td>0.001635</td>\n",
       "      <td>1</td>\n",
       "    </tr>\n",
       "    <tr>\n",
       "      <th>2019-09-19 00:00:00+01:00</th>\n",
       "      <td>14895.379883</td>\n",
       "      <td>14944.849609</td>\n",
       "      <td>14895.379883</td>\n",
       "      <td>14921.330078</td>\n",
       "      <td>14921.330078</td>\n",
       "      <td>0.0</td>\n",
       "      <td>1.001008</td>\n",
       "      <td>0.915055</td>\n",
       "      <td>-62.564344</td>\n",
       "      <td>-0.062695</td>\n",
       "      <td>38.978460</td>\n",
       "      <td>0.0</td>\n",
       "      <td>0.956984</td>\n",
       "      <td>1.001975</td>\n",
       "      <td>1.000748</td>\n",
       "      <td>0.564452</td>\n",
       "      <td>BTC/AUD</td>\n",
       "      <td>0.001635</td>\n",
       "      <td>0.002370</td>\n",
       "      <td>1</td>\n",
       "    </tr>\n",
       "    <tr>\n",
       "      <th>2019-09-19 01:00:00+01:00</th>\n",
       "      <td>14920.610352</td>\n",
       "      <td>14963.330078</td>\n",
       "      <td>14910.509766</td>\n",
       "      <td>14956.700195</td>\n",
       "      <td>14956.700195</td>\n",
       "      <td>125696.0</td>\n",
       "      <td>1.001143</td>\n",
       "      <td>1.062606</td>\n",
       "      <td>63.367163</td>\n",
       "      <td>-8.345107</td>\n",
       "      <td>32.761174</td>\n",
       "      <td>0.0</td>\n",
       "      <td>0.953543</td>\n",
       "      <td>1.000050</td>\n",
       "      <td>1.003027</td>\n",
       "      <td>0.730576</td>\n",
       "      <td>BTC/AUD</td>\n",
       "      <td>0.002370</td>\n",
       "      <td>-0.002971</td>\n",
       "      <td>0</td>\n",
       "    </tr>\n",
       "  </tbody>\n",
       "</table>\n",
       "</div>"
      ],
      "text/plain": [
       "                                   Open          High           Low  \\\n",
       "Date                                                                  \n",
       "2019-09-18 21:00:00+01:00  14914.089844  14963.049805  14895.769531   \n",
       "2019-09-18 22:00:00+01:00  14958.599609  14966.950195  14925.269531   \n",
       "2019-09-18 23:00:00+01:00  14940.080078  14948.669922  14896.980469   \n",
       "2019-09-19 00:00:00+01:00  14895.379883  14944.849609  14895.379883   \n",
       "2019-09-19 01:00:00+01:00  14920.610352  14963.330078  14910.509766   \n",
       "\n",
       "                                  Close     Adj Close    Volume   SMA_agg  \\\n",
       "Date                                                                        \n",
       "2019-09-18 21:00:00+01:00  14957.429688  14957.429688   61484.0  0.999928   \n",
       "2019-09-18 22:00:00+01:00  14940.080078  14940.080078  103132.0  1.000571   \n",
       "2019-09-18 23:00:00+01:00  14896.980469  14896.980469   62138.0  1.000950   \n",
       "2019-09-19 00:00:00+01:00  14921.330078  14921.330078       0.0  1.001008   \n",
       "2019-09-19 01:00:00+01:00  14956.700195  14956.700195  125696.0  1.001143   \n",
       "\n",
       "                           RSI_ratio         CCI  MACD_ratio        ADX  \\\n",
       "Date                                                                      \n",
       "2019-09-18 21:00:00+01:00   1.159140   72.833673   -0.737363  39.780911   \n",
       "2019-09-18 22:00:00+01:00   1.003061   79.504221   -1.521450  34.729405   \n",
       "2019-09-18 23:00:00+01:00   0.736963 -154.742871   -0.023342  36.938127   \n",
       "2019-09-19 00:00:00+01:00   0.915055  -62.564344   -0.062695  38.978460   \n",
       "2019-09-19 01:00:00+01:00   1.062606   63.367163   -8.345107  32.761174   \n",
       "\n",
       "                           ADX_dirn  ATR_ratio  BBands_high  BBands_low  \\\n",
       "Date                                                                      \n",
       "2019-09-18 21:00:00+01:00       0.0   1.035198     0.999182    1.004327   \n",
       "2019-09-18 22:00:00+01:00       0.0   0.986765     1.000795    1.002382   \n",
       "2019-09-18 23:00:00+01:00       0.0   0.972607     1.003602    0.999144   \n",
       "2019-09-19 00:00:00+01:00       0.0   0.956984     1.001975    1.000748   \n",
       "2019-09-19 01:00:00+01:00       0.0   0.953543     1.000050    1.003027   \n",
       "\n",
       "                           SMA_vol_agg Currency   Returns  Target_returns  \\\n",
       "Date                                                                        \n",
       "2019-09-18 21:00:00+01:00     0.537254  BTC/AUD  0.001393       -0.001160   \n",
       "2019-09-18 22:00:00+01:00     0.578897  BTC/AUD -0.001160       -0.002885   \n",
       "2019-09-18 23:00:00+01:00     0.596191  BTC/AUD -0.002885        0.001635   \n",
       "2019-09-19 00:00:00+01:00     0.564452  BTC/AUD  0.001635        0.002370   \n",
       "2019-09-19 01:00:00+01:00     0.730576  BTC/AUD  0.002370       -0.002971   \n",
       "\n",
       "                           Buy_or_sell  \n",
       "Date                                    \n",
       "2019-09-18 21:00:00+01:00            0  \n",
       "2019-09-18 22:00:00+01:00            0  \n",
       "2019-09-18 23:00:00+01:00            1  \n",
       "2019-09-19 00:00:00+01:00            1  \n",
       "2019-09-19 01:00:00+01:00            0  "
      ]
     },
     "metadata": {},
     "execution_count": 3
    }
   ],
   "metadata": {}
  },
  {
   "cell_type": "code",
   "execution_count": 4,
   "source": [
    "df_data.Currency.unique()"
   ],
   "outputs": [
    {
     "output_type": "execute_result",
     "data": {
      "text/plain": [
       "array(['BTC/AUD', 'ETH/AUD', 'XRP/AUD', 'LTC/AUD', 'ADA/AUD', 'XLM/AUD',\n",
       "       'BCH/AUD'], dtype=object)"
      ]
     },
     "metadata": {},
     "execution_count": 4
    }
   ],
   "metadata": {}
  },
  {
   "cell_type": "markdown",
   "source": [
    "# Setting parameters for training and testing  "
   ],
   "metadata": {}
  },
  {
   "cell_type": "markdown",
   "source": [
    "Variables:\n",
    "\n",
    "* curr_list: The currency / currencies for which we want to create the ML model\n",
    "* indicators_list: The indicators which we will be using as Features\n",
    "* model_for_testing: One of 'svc' /  'dec_tree' / 'logreg' / 'forest' / 'grad_boost' / 'ada_boost'"
   ],
   "metadata": {}
  },
  {
   "cell_type": "code",
   "execution_count": 5,
   "source": [
    "curr_list = [ 'ETH/AUD', 'XRP/AUD', 'LTC/AUD', 'ADA/AUD', 'XLM/AUD', 'BCH/AUD' ]         # 'ETH/AUD', 'XRP/AUD', 'LTC/AUD', 'ADA/AUD', 'XLM/AUD', 'BCH/AUD'\r\n",
    "# indicators_list = ['BBands_high', 'BBands_low', 'RSI_ratio', 'CCI','ADX', 'ADX_dirn', 'SMA_vol_agg', 'MACD_ratio']\r\n",
    "\r\n",
    "# indicators_list = ['CCI', 'MACD_ratio', 'ADX', 'ADX_dirn','SMA_vol_agg']\r\n",
    "\r\n",
    "all_inds = ['SMA_agg', 'RSI_ratio', 'CCI', 'MACD_ratio', 'ADX', 'ADX_dirn', 'ATR_ratio', 'BBands_high', 'BBands_low', 'SMA_vol_agg', 'Returns']\r\n",
    "\r\n",
    "model_for_testing = 'forest'"
   ],
   "outputs": [],
   "metadata": {}
  },
  {
   "cell_type": "markdown",
   "source": [
    "# Preparing the data for training the classifier models"
   ],
   "metadata": {}
  },
  {
   "cell_type": "code",
   "execution_count": 6,
   "source": [
    "df_filtered = df_data.loc[ df_data.Currency.isin(curr_list) ]\r\n",
    "df_filtered.shape"
   ],
   "outputs": [
    {
     "output_type": "execute_result",
     "data": {
      "text/plain": [
       "(92264, 20)"
      ]
     },
     "metadata": {},
     "execution_count": 6
    }
   ],
   "metadata": {}
  },
  {
   "cell_type": "code",
   "execution_count": 7,
   "source": [
    "# X = df_filtered.loc[:,indicators_list].reset_index(drop=True)        # , 'CCI', 'Returns', 'SMA_agg', 'RSI_ratio', 'ADX_dirn', \r\n",
    "X = df_filtered.loc[:,all_inds].reset_index(drop=True)        \r\n",
    "y = df_filtered.Buy_or_sell"
   ],
   "outputs": [],
   "metadata": {}
  },
  {
   "cell_type": "code",
   "execution_count": 8,
   "source": [
    "y.value_counts()"
   ],
   "outputs": [
    {
     "output_type": "execute_result",
     "data": {
      "text/plain": [
       "1    46429\n",
       "0    45835\n",
       "Name: Buy_or_sell, dtype: int64"
      ]
     },
     "metadata": {},
     "execution_count": 8
    }
   ],
   "metadata": {}
  },
  {
   "cell_type": "markdown",
   "source": [
    "## Feature Selection Techniques"
   ],
   "metadata": {}
  },
  {
   "cell_type": "code",
   "execution_count": 9,
   "source": [
    "from sklearn.feature_selection import SelectKBest, f_classif, mutual_info_classif, VarianceThreshold, chi2"
   ],
   "outputs": [],
   "metadata": {}
  },
  {
   "cell_type": "markdown",
   "source": [
    "Using VarianceThreshold with a value of 0.8"
   ],
   "metadata": {}
  },
  {
   "cell_type": "code",
   "execution_count": 10,
   "source": [
    "# var_t = VarianceThreshold(threshold=(0.8 * (1 - 0.8)))\r\n",
    "# var_t.fit_transform(X)\r\n",
    "\r\n",
    "# var_t_inds = var_t.get_support()\r\n",
    "# best_inds = []\r\n",
    "# for i in range(len(var_t_inds)):\r\n",
    "#     if var_t_inds[i]:\r\n",
    "#         best_inds += [all_inds[i]]\r\n",
    "\r\n",
    "# best_inds"
   ],
   "outputs": [],
   "metadata": {}
  },
  {
   "cell_type": "markdown",
   "source": [
    "Using SelectKBest"
   ],
   "metadata": {}
  },
  {
   "cell_type": "code",
   "execution_count": 11,
   "source": [
    "k_best = SelectKBest(f_classif, k=4)\r\n",
    "\r\n",
    "k_best.fit(X, y)\r\n",
    "X_feat_sel = k_best.transform(X).shape\r\n",
    "\r\n",
    "scores = {}\r\n",
    "scores['ind'] = all_inds\r\n",
    "scores['scores'] = k_best.scores_\r\n",
    "k_b_df = pd.DataFrame(scores)\r\n",
    "k_b_df.sort_values(by=['scores'], ascending=False, inplace=True)\r\n",
    "\r\n",
    "best_inds = []\r\n",
    "\r\n",
    "for i in range(0,8):\r\n",
    "    ind = k_b_df.ind[i]\r\n",
    "    best_inds.append( ind )\r\n",
    "\r\n",
    "best_inds"
   ],
   "outputs": [
    {
     "output_type": "execute_result",
     "data": {
      "text/plain": [
       "['SMA_agg',\n",
       " 'RSI_ratio',\n",
       " 'CCI',\n",
       " 'MACD_ratio',\n",
       " 'ADX',\n",
       " 'ADX_dirn',\n",
       " 'ATR_ratio',\n",
       " 'BBands_high']"
      ]
     },
     "metadata": {},
     "execution_count": 11
    }
   ],
   "metadata": {}
  },
  {
   "cell_type": "markdown",
   "source": [
    "## Resampling Data"
   ],
   "metadata": {}
  },
  {
   "cell_type": "code",
   "execution_count": 12,
   "source": [
    "from imblearn.over_sampling import SMOTE\r\n",
    "from imblearn.combine import SMOTEENN\r\n",
    "\r\n",
    "# resampler = SMOTE(random_state= 1)\r\n",
    "combi_sampler = SMOTEENN(random_state=42)\r\n",
    "X , y = combi_sampler.fit_resample(X , y)\r\n",
    "y.value_counts()"
   ],
   "outputs": [
    {
     "output_type": "execute_result",
     "data": {
      "text/plain": [
       "0    6403\n",
       "1    6131\n",
       "Name: Buy_or_sell, dtype: int64"
      ]
     },
     "metadata": {},
     "execution_count": 12
    }
   ],
   "metadata": {}
  },
  {
   "cell_type": "markdown",
   "source": [
    "# Start of ML training"
   ],
   "metadata": {}
  },
  {
   "cell_type": "markdown",
   "source": [
    "## Importing libraries"
   ],
   "metadata": {}
  },
  {
   "cell_type": "code",
   "execution_count": 13,
   "source": [
    "from sklearn.tree import DecisionTreeClassifier, ExtraTreeClassifier\r\n",
    "from sklearn.svm import SVC\r\n",
    "from sklearn.linear_model import LogisticRegression\r\n",
    "from sklearn.ensemble import RandomForestClassifier, GradientBoostingClassifier, AdaBoostClassifier\r\n",
    "# import xgboost as xgb \r\n",
    "\r\n",
    "svc = SVC()\r\n",
    "dec_tree = DecisionTreeClassifier()\r\n",
    "logreg = LogisticRegression( )\r\n",
    "forest = RandomForestClassifier( )\r\n",
    "grad_boost = GradientBoostingClassifier()\r\n",
    "ada_boost = AdaBoostClassifier()\r\n",
    "# xgboost = "
   ],
   "outputs": [],
   "metadata": {}
  },
  {
   "cell_type": "code",
   "execution_count": 14,
   "source": [
    "from sklearn.model_selection import cross_val_score\r\n",
    "from sklearn.preprocessing import StandardScaler\r\n",
    "from sklearn.compose import ColumnTransformer, make_column_transformer\r\n",
    "from sklearn.decomposition import PCA\r\n",
    "from sklearn.pipeline import make_pipeline, Pipeline\r\n"
   ],
   "outputs": [],
   "metadata": {}
  },
  {
   "cell_type": "markdown",
   "source": [
    "## Define pipelines"
   ],
   "metadata": {}
  },
  {
   "cell_type": "code",
   "execution_count": 15,
   "source": [
    "col_transform = make_column_transformer(\r\n",
    "    # (StandardScaler(), X.columns.to_list())\r\n",
    "    (StandardScaler(), best_inds ),\r\n",
    "    remainder='drop'\r\n",
    ")\r\n",
    "col_transform.fit_transform(X);"
   ],
   "outputs": [],
   "metadata": {}
  },
  {
   "cell_type": "code",
   "execution_count": 16,
   "source": [
    "pca = PCA(n_components=3)"
   ],
   "outputs": [],
   "metadata": {}
  },
  {
   "cell_type": "code",
   "execution_count": 17,
   "source": [
    "if model_for_testing == 'svc': model = ('svc', svc)\r\n",
    "elif model_for_testing == 'logreg': model = ('logreg', logreg)\r\n",
    "elif model_for_testing == 'dec_tree': model = ('dec_tree', dec_tree)\r\n",
    "elif model_for_testing == 'forest': model = ('forest', forest)\r\n",
    "elif model_for_testing == 'grad_boost': model = ('grad_boost', grad_boost)\r\n",
    "elif model_for_testing == 'ada_boost': model = ('ada_boost', ada_boost)\r\n",
    "\r\n",
    "pipe = Pipeline(steps= [('col_transform', col_transform), \r\n",
    "                    # ('pca', pca),\r\n",
    "                    model\r\n",
    "                    ])\r\n",
    "\r\n",
    "# pipe "
   ],
   "outputs": [],
   "metadata": {}
  },
  {
   "cell_type": "markdown",
   "source": [
    "# Step 1 - Get Cross Validation score by running the model with the default parameters"
   ],
   "metadata": {}
  },
  {
   "cell_type": "code",
   "execution_count": 18,
   "source": [
    "# cross-validate the entire process\r\n",
    "# thus, preprocessing occurs within each fold of cross-validation\r\n",
    "cross_val_roc_auc = cross_val_score(pipe, X, y, cv=10, scoring='roc_auc', n_jobs=20).mean()\r\n",
    "cross_val_roc_auc\r\n"
   ],
   "outputs": [
    {
     "output_type": "execute_result",
     "data": {
      "text/plain": [
       "0.6811211583388342"
      ]
     },
     "metadata": {},
     "execution_count": 18
    }
   ],
   "metadata": {}
  },
  {
   "cell_type": "code",
   "execution_count": 19,
   "source": [
    "# cross-validate the entire process\r\n",
    "# thus, preprocessing occurs within each fold of cross-validation\r\n",
    "cross_val_accuracy = cross_val_score(pipe, X, y, cv=10, scoring='accuracy', n_jobs=20).mean()\r\n",
    "cross_val_accuracy"
   ],
   "outputs": [
    {
     "output_type": "execute_result",
     "data": {
      "text/plain": [
       "0.6316414449022506"
      ]
     },
     "metadata": {},
     "execution_count": 19
    }
   ],
   "metadata": {}
  },
  {
   "cell_type": "markdown",
   "source": [
    "# Step 2: Call GridSearchCV with a range of parameters"
   ],
   "metadata": {}
  },
  {
   "cell_type": "code",
   "execution_count": 20,
   "source": [
    "from sklearn.model_selection import GridSearchCV"
   ],
   "outputs": [],
   "metadata": {}
  },
  {
   "cell_type": "code",
   "execution_count": 24,
   "source": [
    "params = {}\r\n",
    "\r\n",
    "if model_for_testing == 'logreg':\r\n",
    "    params['logreg__solver'] = ['liblinear', 'lbfgs']\r\n",
    "    params['logreg__C'] = [0.5, 0.75, 1, 1.25, 1.5]\r\n",
    "    params['logreg__penalty'] = ['l2']\r\n",
    "\r\n",
    "\r\n",
    "elif model_for_testing == 'svc': \r\n",
    "    params['svc__C'] = [0.5, 0.75, 1, 1.25, 1.5]\r\n",
    "    params['svc__kernel'] = ['linear', 'poly', 'rbf', 'sigmoid', 'precomputed']\r\n",
    "\r\n",
    "elif model_for_testing == 'dec_tree': \r\n",
    "    params['dec_tree__criterion'] = ['gini', 'entropy']\r\n",
    "    params['dec_tree__max_depth'] = list(range(3,8,1))\r\n",
    "\r\n",
    "\r\n",
    "elif model_for_testing == 'forest':\r\n",
    "    params['forest__n_estimators'] = list(range(100,200,10))\r\n",
    "    params['forest__max_depth'] = list(range(3,8,1))\r\n",
    "    params['forest__max_features'] = ['auto', 'sqrt', 'log2']\r\n",
    "\r\n",
    "\r\n",
    "elif model_for_testing == 'grad_boost': \r\n",
    "    params['grad_boost__learning_rate'] = [0.075, 0.1, 0.25, 0.5]\r\n",
    "    params['grad_boost__n_estimators'] = list(range(100,200,10))\r\n",
    "    params['grad_boost__max_features'] = ['sqrt', 'log2']\r\n",
    "    params['grad_boost__max_depth'] = list(range(3,8,1))\r\n",
    "    params['grad_boost__loss'] = ['deviance', 'exponential']\r\n",
    "\r\n",
    "\r\n",
    "elif model_for_testing == 'ada_boost': \r\n",
    "    params['ada_boost__base_estimator'] = [DecisionTreeClassifier(), ExtraTreeClassifier(), LogisticRegression()]\r\n",
    "    params['ada_boost__n_estimators'] = [ 200, 250, 500, 750, 1000, 1200]\r\n",
    "    params['ada_boost__learning_rate'] = [0.0001, 0.001, 0.01, 0.1, 1]\r\n",
    "    params['ada_boost__algorithm'] = ['SAMME.R']\r\n",
    "\r\n"
   ],
   "outputs": [],
   "metadata": {}
  },
  {
   "cell_type": "markdown",
   "source": [
    "### Calling GridSearch"
   ],
   "metadata": {}
  },
  {
   "cell_type": "code",
   "execution_count": 25,
   "source": [
    "grid = GridSearchCV(pipe, params, cv=10, scoring='roc_auc', n_jobs=20)\r\n",
    "grid.fit(X,y);"
   ],
   "outputs": [],
   "metadata": {}
  },
  {
   "cell_type": "markdown",
   "source": [
    "### Displaying results"
   ],
   "metadata": {}
  },
  {
   "cell_type": "code",
   "execution_count": 26,
   "source": [
    "print(f'Score: {grid.best_score_}')\r\n",
    "print(f'Best params: {grid.best_params_}')\r\n",
    "estimator = grid.best_estimator_[model_for_testing]\r\n",
    "\r\n",
    "grid_best_params = str(grid.best_params_)\r\n",
    "grid_best_params\r\n",
    "gridcv_best_score = grid.best_score_"
   ],
   "outputs": [
    {
     "output_type": "stream",
     "name": "stdout",
     "text": [
      "Score: 0.6818214990911347\n",
      "Best params: {}\n"
     ]
    }
   ],
   "metadata": {}
  },
  {
   "cell_type": "markdown",
   "source": [
    "### Fitting the pipeline, with the tuned model"
   ],
   "metadata": {}
  },
  {
   "cell_type": "code",
   "execution_count": null,
   "source": [
    "pipeline = make_pipeline(col_transform, \r\n",
    "            # pca, \r\n",
    "            estimator)\r\n",
    "pipeline.fit(X, y)\r\n"
   ],
   "outputs": [],
   "metadata": {}
  },
  {
   "cell_type": "markdown",
   "source": [
    "# Save the fitted pipeline to a joblib file"
   ],
   "metadata": {}
  },
  {
   "cell_type": "code",
   "execution_count": null,
   "source": [
    "from joblib import dump, load\r\n",
    "from pathlib import Path\r\n",
    "\r\n",
    "filename = Path('Joblibs/' + dt.date.today().isoformat() + '_' + model_for_testing + '_Feat_sel.joblib')\r\n",
    "dump(pipeline, filename)\r\n"
   ],
   "outputs": [],
   "metadata": {}
  },
  {
   "cell_type": "markdown",
   "source": [
    "# Testing"
   ],
   "metadata": {}
  },
  {
   "cell_type": "markdown",
   "source": [
    "### Get the testing data first"
   ],
   "metadata": {}
  },
  {
   "cell_type": "code",
   "execution_count": null,
   "source": [
    "df_testing_data = pd.read_csv('Resources/Testing_data.csv', index_col=0, infer_datetime_format=True)\r\n",
    "df_testing_data.index.set_names('Date', inplace=True)\r\n",
    "\r\n",
    "df_testing_data.head(2)"
   ],
   "outputs": [],
   "metadata": {}
  },
  {
   "cell_type": "markdown",
   "source": [
    "### Setting target values"
   ],
   "metadata": {}
  },
  {
   "cell_type": "code",
   "execution_count": null,
   "source": [
    "df_testing_data['Target_returns'] = df_testing_data.Returns.shift(-1)\r\n",
    "df_testing_data.dropna(inplace=True)\r\n",
    "df_testing_data['Buy_or_sell'] = df_testing_data.Target_returns.apply(lambda x: 1 if x > 0 else 0)\r\n",
    "df_testing_data.shape"
   ],
   "outputs": [],
   "metadata": {}
  },
  {
   "cell_type": "markdown",
   "source": [
    "### Setting a separate currency list for testing"
   ],
   "metadata": {}
  },
  {
   "cell_type": "code",
   "execution_count": null,
   "source": [
    "curr_list_test = curr_list"
   ],
   "outputs": [],
   "metadata": {}
  },
  {
   "cell_type": "code",
   "execution_count": null,
   "source": [
    "df_testing_subset = df_testing_data.loc[ df_testing_data.Currency.isin(curr_list_test) ] \r\n",
    "X_test = df_testing_subset.loc[: , all_inds].reset_index(drop=True)   \r\n",
    "y_test = df_testing_subset.loc[:, ['Target_returns', 'Buy_or_sell']].copy()\r\n",
    "\r\n",
    "print(f'{X_test.shape}; {y_test.shape}')"
   ],
   "outputs": [],
   "metadata": {}
  },
  {
   "cell_type": "markdown",
   "source": [
    "## Load the joblib file"
   ],
   "metadata": {}
  },
  {
   "cell_type": "code",
   "execution_count": null,
   "source": [
    "pipeline = load(filename)"
   ],
   "outputs": [],
   "metadata": {}
  },
  {
   "cell_type": "code",
   "execution_count": null,
   "source": [
    "df_pred = y_test\r\n",
    "df_pred['Pred_buy_or_sell'] = pipeline.predict(X_test)\r\n",
    "df_pred.head()"
   ],
   "outputs": [],
   "metadata": {}
  },
  {
   "cell_type": "code",
   "execution_count": null,
   "source": [
    "from sklearn.metrics import classification_report\r\n",
    "from imblearn.metrics import classification_report_imbalanced\r\n",
    "\r\n",
    "y_pred = pipeline.predict(X_test)\r\n",
    "df_predictions = pd.DataFrame(y_pred, columns=['Buy'])\r\n",
    "\r\n",
    "print(classification_report(y_test.Buy_or_sell, y_pred))"
   ],
   "outputs": [],
   "metadata": {}
  },
  {
   "cell_type": "markdown",
   "source": [
    "### Getting the total returns when the strategy gave a buy signal "
   ],
   "metadata": {}
  },
  {
   "cell_type": "code",
   "execution_count": null,
   "source": [
    "total_returns_pred_buy = df_pred.loc[df_pred.Pred_buy_or_sell == 1].copy()\r\n",
    "total_pnl = total_returns_pred_buy.Target_returns.sum()\r\n",
    "total_pnl"
   ],
   "outputs": [],
   "metadata": {}
  },
  {
   "cell_type": "markdown",
   "source": [
    "# Writing the outcomes to a CSV"
   ],
   "metadata": {}
  },
  {
   "cell_type": "code",
   "execution_count": null,
   "source": [
    "currency = ' '.join(curr_list)\r\n",
    "indicators = ','.join(all_inds)\r\n",
    "model_tested = model[0]\r\n",
    "cross_val_roc_auc\r\n",
    "cross_val_accuracy\r\n",
    "total_pnl\r\n",
    "grid_best_params\r\n",
    "gridcv_best_score"
   ],
   "outputs": [],
   "metadata": {}
  },
  {
   "cell_type": "code",
   "execution_count": null,
   "source": [
    "df_outcomes = pd.read_csv('Resources/GridSearch_test_outcomes.csv', index_col=0)\n",
    "\n",
    "df_outcomes\n",
    "# df_outcomes = df_outcomes.append()\n",
    "df_outcomes = df_outcomes.append(pd.Series([ \n",
    "    currency, \n",
    "    indicators, \n",
    "    model_tested, \n",
    "    cross_val_roc_auc, \n",
    "    cross_val_accuracy, \n",
    "    gridcv_best_score, \n",
    "    grid_best_params,\n",
    "    total_pnl\n",
    "], index= df_outcomes.columns), ignore_index= True)\n",
    "df_outcomes.to_csv('Resources/GridSearch_test_outcomes.csv')"
   ],
   "outputs": [],
   "metadata": {}
  },
  {
   "cell_type": "code",
   "execution_count": null,
   "source": [],
   "outputs": [],
   "metadata": {}
  }
 ],
 "metadata": {
  "celltoolbar": "Slideshow",
  "interpreter": {
   "hash": "cc9d93f5fa92246aacb984fbac88763759a8f65daad4aaedd794ab683a30e53f"
  },
  "kernelspec": {
   "name": "python3",
   "display_name": "Python 3.7.10 64-bit ('project2env': conda)"
  },
  "language_info": {
   "codemirror_mode": {
    "name": "ipython",
    "version": 3
   },
   "file_extension": ".py",
   "mimetype": "text/x-python",
   "name": "python",
   "nbconvert_exporter": "python",
   "pygments_lexer": "ipython3",
   "version": "3.7.10"
  }
 },
 "nbformat": 4,
 "nbformat_minor": 4
}