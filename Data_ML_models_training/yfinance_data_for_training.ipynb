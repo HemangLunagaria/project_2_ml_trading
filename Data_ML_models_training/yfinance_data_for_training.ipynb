{
 "cells": [
  {
   "cell_type": "code",
   "execution_count": 1,
   "source": [
    "# Import libraries and dependencies\n",
    "import ccxt\n",
    "import os\n",
    "import pandas as pd\n",
    "import numpy as np\n",
    "from dotenv import load_dotenv\n",
    "import talib as ta\n",
    "import yfinance as yf \n",
    "import datetime as dt \n",
    "\n",
    "from CronJobs.Utility_Functions import Functions"
   ],
   "outputs": [],
   "metadata": {}
  },
  {
   "cell_type": "markdown",
   "source": [
    "# Downloading the data from yfinance\r\n",
    "\r\n",
    "### Set the currencies, date range and the interval for which you want the data"
   ],
   "metadata": {}
  },
  {
   "cell_type": "code",
   "execution_count": 16,
   "source": [
    "currs_list = [ 'BTC-AUD', 'ETH-AUD', 'XRP-AUD' , 'LTC-AUD', 'ADA-AUD', 'XLM-AUD', 'BCH-AUD']     #\n",
    "start_date = '2019-06-01'\n",
    "end_date = '2021-09-01'\n",
    "interval = '1h'"
   ],
   "outputs": [],
   "metadata": {}
  },
  {
   "cell_type": "markdown",
   "source": [
    "### Call yfinance api"
   ],
   "metadata": {}
  },
  {
   "cell_type": "code",
   "execution_count": 17,
   "source": [
    "df_data = yf.download(currs_list, start= start_date, end= end_date, interval= interval, group_by= 'ticker')\n",
    "df_data.head(2)\n"
   ],
   "outputs": [],
   "metadata": {}
  },
  {
   "cell_type": "markdown",
   "source": [
    "### Split the data by currency and add it to the dictionary\r\n",
    "\r\n",
    "Dictionary Structure: \r\n",
    "* Key= currency code \r\n",
    "* value = Dataframe conatining OHLCV data"
   ],
   "metadata": {}
  },
  {
   "cell_type": "code",
   "execution_count": 18,
   "source": [
    "df_data.shape"
   ],
   "outputs": [
    {
     "output_type": "execute_result",
     "data": {
      "text/plain": [
       "(17089, 42)"
      ]
     },
     "metadata": {},
     "execution_count": 18
    }
   ],
   "metadata": {}
  },
  {
   "cell_type": "code",
   "execution_count": 19,
   "source": [
    "dict_ohlcv = {}\n",
    "\n",
    "for curr in currs_list:\n",
    "\n",
    "    df_ohlcv = df_data.loc[ :, ([curr]) ]\n",
    "    curr_code = curr.replace('-', '/')\n",
    "\n",
    "    df_ohlcv.columns = df_ohlcv.columns.droplevel(0)\n",
    "\n",
    "    start_date = df_ohlcv.index[0].date().isoformat()\n",
    "    end_date = df_ohlcv.index[-1].date().isoformat()\n",
    "    num_records = (len(df_ohlcv))\n",
    "    start_price = df_ohlcv.iloc[0]['Close']\n",
    "    end_price = df_ohlcv.iloc[-1]['Close']\n",
    "\n",
    "    print(f'Data summary for {curr_code}')\n",
    "    print(f'    Start Date: {start_date}; End Date: {end_date}; NUmber of records: {num_records}')\n",
    "    print(f'    Start Price: {start_price}; End Price: {end_price}')\n",
    "\n",
    "    df_ohlcv.dropna(inplace=True)\n",
    "\n",
    "    # Store the symbol name and history data in a dict \n",
    "    dict_ohlcv[curr_code] = df_ohlcv \n",
    "\n",
    "    print(f'Data for {curr_code} fetched and appended into the dictionary\\n')\n"
   ],
   "outputs": [],
   "metadata": {}
  },
  {
   "cell_type": "markdown",
   "source": [
    "# Compute the Technical Indicators using"
   ],
   "metadata": {}
  },
  {
   "cell_type": "code",
   "execution_count": 20,
   "source": [
    "fast_window = 5\n",
    "slow_window = 15\n",
    "\n",
    "df_all_data = pd.DataFrame() \n",
    "for curr, data in dict_ohlcv.items():\n",
    "\n",
    "    df = Functions.add_tech_indicators(data, fast_window, slow_window)\n",
    "    \n",
    "    df['Currency'] = curr \n",
    "    df['Returns'] = df['Close'].pct_change()\n",
    "\n",
    "    df.dropna(inplace=True)    \n",
    "    df_all_data = df_all_data.append(df)\n",
    "\n",
    "df_all_data.shape"
   ],
   "outputs": [
    {
     "output_type": "execute_result",
     "data": {
      "text/plain": [
       "(117972, 18)"
      ]
     },
     "metadata": {},
     "execution_count": 20
    }
   ],
   "metadata": {}
  },
  {
   "cell_type": "code",
   "execution_count": 21,
   "source": [
    "mask = df_all_data.index.date < pd.to_datetime('2021-07-01')\r\n",
    "df_training = df_all_data.loc[mask].copy()\r\n",
    "# df_training.tail()\r\n",
    "df_training.to_csv('Resources/Training_data.csv', index=True)"
   ],
   "outputs": [],
   "metadata": {}
  },
  {
   "cell_type": "markdown",
   "source": [
    "## The next cells can be uncommented and run to test the strategy for month-wise data  "
   ],
   "metadata": {}
  },
  {
   "cell_type": "code",
   "execution_count": 8,
   "source": [
    "# mask = (df_all_data.index.date >= pd.to_datetime('2021-05-01')) & (df_all_data.index.date < pd.to_datetime('2021-09-01'))\r\n",
    "# df_testing_data = df_all_data.loc[ mask ].copy()\r\n",
    "# from_date = df_testing_data.index[0].date().isoformat()\r\n",
    "\r\n",
    "# to_date = df_testing_data.index[-1].date().isoformat()\r\n",
    "\r\n",
    "# print(f'Data filtered between {from_date} and {to_date}')"
   ],
   "outputs": [],
   "metadata": {}
  },
  {
   "cell_type": "code",
   "execution_count": 9,
   "source": [
    "# df_testing_data.tail()"
   ],
   "outputs": [],
   "metadata": {}
  },
  {
   "cell_type": "code",
   "execution_count": 10,
   "source": [
    "# df_testing_data.to_csv('Resources/Backtesting_July.csv')"
   ],
   "outputs": [],
   "metadata": {}
  },
  {
   "cell_type": "code",
   "execution_count": null,
   "source": [],
   "outputs": [],
   "metadata": {}
  }
 ],
 "metadata": {
  "orig_nbformat": 4,
  "language_info": {
   "name": "python",
   "version": "3.7.7",
   "mimetype": "text/x-python",
   "codemirror_mode": {
    "name": "ipython",
    "version": 3
   },
   "pygments_lexer": "ipython3",
   "nbconvert_exporter": "python",
   "file_extension": ".py"
  },
  "kernelspec": {
   "name": "python3",
   "display_name": "Python 3.7.7 64-bit ('mlenv': conda)"
  },
  "interpreter": {
   "hash": "3cf02f8c69f7cc96a4f38b5eec7930a98857bcc2cd2c2e6eecd2d1f6e42fcb50"
  }
 },
 "nbformat": 4,
 "nbformat_minor": 2
}