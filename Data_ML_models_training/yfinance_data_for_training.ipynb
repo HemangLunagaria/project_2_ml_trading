{
 "cells": [
  {
   "cell_type": "code",
   "execution_count": 1,
   "source": [
    "# Import libraries and dependencies\r\n",
    "import ccxt\r\n",
    "import os\r\n",
    "import pandas as pd\r\n",
    "import numpy as np\r\n",
    "from dotenv import load_dotenv\r\n",
    "import talib as ta\r\n",
    "import yfinance as yf \r\n",
    "import datetime as dt \r\n",
    "\r\n",
    "from CronJobs.Utility_Functions import Functions"
   ],
   "outputs": [],
   "metadata": {}
  },
  {
   "cell_type": "markdown",
   "source": [
    "# Downloading the data from yfinance\r\n",
    "\r\n",
    "### Set the currencies, date range and the interval for which you want the data"
   ],
   "metadata": {}
  },
  {
   "cell_type": "code",
   "execution_count": 16,
   "source": [
    "currs_list = [ 'BTC-AUD', 'ETH-AUD', 'XRP-AUD' , 'LTC-AUD', 'ADA-AUD', 'XLM-AUD', 'BCH-AUD']     #\r\n",
    "start_date = '2019-06-01'\r\n",
    "end_date = '2021-09-01'\r\n",
    "interval = '1h'"
   ],
   "outputs": [],
   "metadata": {}
  },
  {
   "cell_type": "markdown",
   "source": [
    "### Call yfinance api"
   ],
   "metadata": {}
  },
  {
   "cell_type": "code",
   "execution_count": 17,
   "source": [
    "df_data = yf.download(currs_list, start= start_date, end= end_date, interval= interval, group_by= 'ticker')\r\n",
    "df_data.head(2)\r\n"
   ],
   "outputs": [],
   "metadata": {}
  },
  {
   "cell_type": "markdown",
   "source": [
    "### Split the data by currency and add it to the dictionary\r\n",
    "\r\n",
    "Dictionary Structure: \r\n",
    "* Key= currency code \r\n",
    "* value = Dataframe conatining OHLCV data"
   ],
   "metadata": {}
  },
  {
   "cell_type": "code",
   "execution_count": 18,
   "source": [
    "df_data.shape"
   ],
   "outputs": [
    {
     "output_type": "execute_result",
     "data": {
      "text/plain": [
       "(17089, 42)"
      ]
     },
     "metadata": {},
     "execution_count": 18
    }
   ],
   "metadata": {}
  },
  {
   "cell_type": "code",
   "execution_count": 19,
   "source": [
    "dict_ohlcv = {}\r\n",
    "\r\n",
    "for curr in currs_list:\r\n",
    "\r\n",
    "    df_ohlcv = df_data.loc[ :, ([curr]) ]\r\n",
    "    curr_code = curr.replace('-', '/')\r\n",
    "\r\n",
    "    df_ohlcv.columns = df_ohlcv.columns.droplevel(0)\r\n",
    "\r\n",
    "    start_date = df_ohlcv.index[0].date().isoformat()\r\n",
    "    end_date = df_ohlcv.index[-1].date().isoformat()\r\n",
    "    num_records = (len(df_ohlcv))\r\n",
    "    start_price = df_ohlcv.iloc[0]['Close']\r\n",
    "    end_price = df_ohlcv.iloc[-1]['Close']\r\n",
    "\r\n",
    "    print(f'Data summary for {curr_code}')\r\n",
    "    print(f'    Start Date: {start_date}; End Date: {end_date}; NUmber of records: {num_records}')\r\n",
    "    print(f'    Start Price: {start_price}; End Price: {end_price}')\r\n",
    "\r\n",
    "    df_ohlcv.dropna(inplace=True)\r\n",
    "\r\n",
    "    # Store the symbol name and history data in a dict \r\n",
    "    dict_ohlcv[curr_code] = df_ohlcv \r\n",
    "\r\n",
    "    print(f'Data for {curr_code} fetched and appended into the dictionary\\n')\r\n"
   ],
   "outputs": [],
   "metadata": {}
  },
  {
   "cell_type": "markdown",
   "source": [
    "# Compute the Technical Indicators using"
   ],
   "metadata": {}
  },
  {
   "cell_type": "code",
   "execution_count": 20,
   "source": [
    "fast_window = 5\r\n",
    "slow_window = 15\r\n",
    "\r\n",
    "df_all_data = pd.DataFrame() \r\n",
    "for curr, data in dict_ohlcv.items():\r\n",
    "\r\n",
    "    df = Functions.add_tech_indicators(data, fast_window, slow_window)\r\n",
    "    \r\n",
    "    df['Currency'] = curr \r\n",
    "    df['Returns'] = df['Close'].pct_change()\r\n",
    "\r\n",
    "    df.dropna(inplace=True)    \r\n",
    "    df_all_data = df_all_data.append(df)\r\n",
    "\r\n",
    "df_all_data.shape"
   ],
   "outputs": [
    {
     "output_type": "execute_result",
     "data": {
      "text/plain": [
       "(117972, 18)"
      ]
     },
     "metadata": {},
     "execution_count": 20
    }
   ],
   "metadata": {}
  },
  {
   "cell_type": "code",
   "execution_count": 21,
   "source": [
    "mask = df_all_data.index.date < pd.to_datetime('2021-07-01')\r\n",
    "df_training = df_all_data.loc[mask].copy()\r\n",
    "# df_training.tail()\r\n",
    "df_training.to_csv('Resources/Training_data.csv', index=True)"
   ],
   "outputs": [],
   "metadata": {}
  },
  {
   "cell_type": "markdown",
   "source": [
    "## The next cells can be uncommented and run to test the strategy for month-wise data  "
   ],
   "metadata": {}
  },
  {
   "cell_type": "code",
   "execution_count": 8,
   "source": [
    "# mask = (df_all_data.index.date >= pd.to_datetime('2021-05-01')) & (df_all_data.index.date < pd.to_datetime('2021-09-01'))\r\n",
    "# df_testing_data = df_all_data.loc[ mask ].copy()\r\n",
    "# from_date = df_testing_data.index[0].date().isoformat()\r\n",
    "\r\n",
    "# to_date = df_testing_data.index[-1].date().isoformat()\r\n",
    "\r\n",
    "# print(f'Data filtered between {from_date} and {to_date}')"
   ],
   "outputs": [],
   "metadata": {}
  },
  {
   "cell_type": "code",
   "execution_count": 9,
   "source": [
    "# df_testing_data.tail()"
   ],
   "outputs": [],
   "metadata": {}
  },
  {
   "cell_type": "code",
   "execution_count": 10,
   "source": [
    "# df_testing_data.to_csv('Resources/Backtesting_July.csv')"
   ],
   "outputs": [],
   "metadata": {}
  },
  {
   "cell_type": "code",
   "execution_count": null,
   "source": [],
   "outputs": [],
   "metadata": {}
  }
 ],
 "metadata": {
  "orig_nbformat": 4,
  "language_info": {
   "name": "python",
   "version": "3.7.10",
   "mimetype": "text/x-python",
   "codemirror_mode": {
    "name": "ipython",
    "version": 3
   },
   "pygments_lexer": "ipython3",
   "nbconvert_exporter": "python",
   "file_extension": ".py"
  },
  "kernelspec": {
   "name": "python3",
   "display_name": "Python 3.7.10 64-bit ('project2env': conda)"
  },
  "interpreter": {
   "hash": "cc9d93f5fa92246aacb984fbac88763759a8f65daad4aaedd794ab683a30e53f"
  }
 },
 "nbformat": 4,
 "nbformat_minor": 2
}