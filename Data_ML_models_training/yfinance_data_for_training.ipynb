{
 "cells": [
  {
   "cell_type": "code",
   "execution_count": 1,
   "source": [
    "# Import libraries and dependencies\r\n",
    "import ccxt\r\n",
    "import os\r\n",
    "import pandas as pd\r\n",
    "import numpy as np\r\n",
    "from dotenv import load_dotenv\r\n",
    "import talib as ta\r\n",
    "import yfinance as yf \r\n",
    "import datetime as dt \r\n",
    "\r\n",
    "from Utility_Functions import Functions"
   ],
   "outputs": [],
   "metadata": {}
  },
  {
   "cell_type": "markdown",
   "source": [
    "# Downloading the data from yfinance\r\n",
    "\r\n",
    "### Set the currencies, date range and the interval for which you want the data"
   ],
   "metadata": {}
  },
  {
   "cell_type": "code",
   "execution_count": 16,
   "source": [
    "currs_list = [ 'BTC-AUD', 'ETH-AUD', 'XRP-AUD' , 'LTC-AUD', 'ADA-AUD', 'XLM-AUD', 'BCH-AUD']     #\r\n",
    "start_date = '2019-06-01'\r\n",
    "end_date = '2021-09-01'\r\n",
    "interval = '1h'"
   ],
   "outputs": [],
   "metadata": {}
  },
  {
   "cell_type": "markdown",
   "source": [
    "### Call yfinance api"
   ],
   "metadata": {}
  },
  {
   "cell_type": "code",
   "execution_count": 17,
   "source": [
    "df_data = yf.download(currs_list, start= start_date, end= end_date, interval= interval, group_by= 'ticker')\r\n",
    "df_data.head(2)\r\n"
   ],
   "outputs": [
    {
     "output_type": "stream",
     "name": "stdout",
     "text": [
      "[*********************100%***********************]  7 of 7 completed\n"
     ]
    },
    {
     "output_type": "execute_result",
     "data": {
      "text/plain": [
       "                          XRP-AUD                                              \\\n",
       "                             Open    High     Low   Close Adj Close    Volume   \n",
       "2019-09-18 00:00:00+01:00  0.4223  0.4252  0.4170  0.4200    0.4200       0.0   \n",
       "2019-09-18 01:00:00+01:00  0.4180  0.4419  0.4176  0.4419    0.4419  121342.0   \n",
       "\n",
       "                              BCH-AUD                                      \\\n",
       "                                 Open        High         Low       Close   \n",
       "2019-09-18 00:00:00+01:00  475.103851  476.603668  463.418274  468.298615   \n",
       "2019-09-18 01:00:00+01:00  468.298615  474.381348  463.502563  473.198395   \n",
       "\n",
       "                           ...     ETH-AUD                                   \\\n",
       "                           ...         Low       Close   Adj Close   Volume   \n",
       "2019-09-18 00:00:00+01:00  ...  304.089996  304.089996  304.089996      0.0   \n",
       "2019-09-18 01:00:00+01:00  ...  302.350006  309.279999  309.279999  45373.0   \n",
       "\n",
       "                            XLM-AUD                                          \\\n",
       "                               Open      High       Low     Close Adj Close   \n",
       "2019-09-18 00:00:00+01:00  0.094861  0.095186  0.092567  0.092567  0.092567   \n",
       "2019-09-18 01:00:00+01:00  0.092567  0.095486  0.092567  0.095366  0.095366   \n",
       "\n",
       "                                  \n",
       "                          Volume  \n",
       "2019-09-18 00:00:00+01:00    0.0  \n",
       "2019-09-18 01:00:00+01:00    0.0  \n",
       "\n",
       "[2 rows x 42 columns]"
      ],
      "text/html": [
       "<div>\n",
       "<style scoped>\n",
       "    .dataframe tbody tr th:only-of-type {\n",
       "        vertical-align: middle;\n",
       "    }\n",
       "\n",
       "    .dataframe tbody tr th {\n",
       "        vertical-align: top;\n",
       "    }\n",
       "\n",
       "    .dataframe thead tr th {\n",
       "        text-align: left;\n",
       "    }\n",
       "</style>\n",
       "<table border=\"1\" class=\"dataframe\">\n",
       "  <thead>\n",
       "    <tr>\n",
       "      <th></th>\n",
       "      <th colspan=\"6\" halign=\"left\">XRP-AUD</th>\n",
       "      <th colspan=\"4\" halign=\"left\">BCH-AUD</th>\n",
       "      <th>...</th>\n",
       "      <th colspan=\"4\" halign=\"left\">ETH-AUD</th>\n",
       "      <th colspan=\"6\" halign=\"left\">XLM-AUD</th>\n",
       "    </tr>\n",
       "    <tr>\n",
       "      <th></th>\n",
       "      <th>Open</th>\n",
       "      <th>High</th>\n",
       "      <th>Low</th>\n",
       "      <th>Close</th>\n",
       "      <th>Adj Close</th>\n",
       "      <th>Volume</th>\n",
       "      <th>Open</th>\n",
       "      <th>High</th>\n",
       "      <th>Low</th>\n",
       "      <th>Close</th>\n",
       "      <th>...</th>\n",
       "      <th>Low</th>\n",
       "      <th>Close</th>\n",
       "      <th>Adj Close</th>\n",
       "      <th>Volume</th>\n",
       "      <th>Open</th>\n",
       "      <th>High</th>\n",
       "      <th>Low</th>\n",
       "      <th>Close</th>\n",
       "      <th>Adj Close</th>\n",
       "      <th>Volume</th>\n",
       "    </tr>\n",
       "  </thead>\n",
       "  <tbody>\n",
       "    <tr>\n",
       "      <th>2019-09-18 00:00:00+01:00</th>\n",
       "      <td>0.4223</td>\n",
       "      <td>0.4252</td>\n",
       "      <td>0.4170</td>\n",
       "      <td>0.4200</td>\n",
       "      <td>0.4200</td>\n",
       "      <td>0.0</td>\n",
       "      <td>475.103851</td>\n",
       "      <td>476.603668</td>\n",
       "      <td>463.418274</td>\n",
       "      <td>468.298615</td>\n",
       "      <td>...</td>\n",
       "      <td>304.089996</td>\n",
       "      <td>304.089996</td>\n",
       "      <td>304.089996</td>\n",
       "      <td>0.0</td>\n",
       "      <td>0.094861</td>\n",
       "      <td>0.095186</td>\n",
       "      <td>0.092567</td>\n",
       "      <td>0.092567</td>\n",
       "      <td>0.092567</td>\n",
       "      <td>0.0</td>\n",
       "    </tr>\n",
       "    <tr>\n",
       "      <th>2019-09-18 01:00:00+01:00</th>\n",
       "      <td>0.4180</td>\n",
       "      <td>0.4419</td>\n",
       "      <td>0.4176</td>\n",
       "      <td>0.4419</td>\n",
       "      <td>0.4419</td>\n",
       "      <td>121342.0</td>\n",
       "      <td>468.298615</td>\n",
       "      <td>474.381348</td>\n",
       "      <td>463.502563</td>\n",
       "      <td>473.198395</td>\n",
       "      <td>...</td>\n",
       "      <td>302.350006</td>\n",
       "      <td>309.279999</td>\n",
       "      <td>309.279999</td>\n",
       "      <td>45373.0</td>\n",
       "      <td>0.092567</td>\n",
       "      <td>0.095486</td>\n",
       "      <td>0.092567</td>\n",
       "      <td>0.095366</td>\n",
       "      <td>0.095366</td>\n",
       "      <td>0.0</td>\n",
       "    </tr>\n",
       "  </tbody>\n",
       "</table>\n",
       "<p>2 rows × 42 columns</p>\n",
       "</div>"
      ]
     },
     "metadata": {},
     "execution_count": 17
    }
   ],
   "metadata": {}
  },
  {
   "cell_type": "markdown",
   "source": [
    "### Split the data by currency and add it to the dictionary\r\n",
    "\r\n",
    "Dictionary Structure: \r\n",
    "* Key= currency code \r\n",
    "* value = Dataframe conatining OHLCV data"
   ],
   "metadata": {}
  },
  {
   "cell_type": "code",
   "execution_count": 18,
   "source": [
    "df_data.shape"
   ],
   "outputs": [
    {
     "output_type": "execute_result",
     "data": {
      "text/plain": [
       "(17089, 42)"
      ]
     },
     "metadata": {},
     "execution_count": 18
    }
   ],
   "metadata": {}
  },
  {
   "cell_type": "code",
   "execution_count": 19,
   "source": [
    "dict_ohlcv = {}\r\n",
    "\r\n",
    "for curr in currs_list:\r\n",
    "\r\n",
    "    df_ohlcv = df_data.loc[ :, ([curr]) ]\r\n",
    "    curr_code = curr.replace('-', '/')\r\n",
    "\r\n",
    "    df_ohlcv.columns = df_ohlcv.columns.droplevel(0)\r\n",
    "\r\n",
    "    start_date = df_ohlcv.index[0].date().isoformat()\r\n",
    "    end_date = df_ohlcv.index[-1].date().isoformat()\r\n",
    "    num_records = (len(df_ohlcv))\r\n",
    "    start_price = df_ohlcv.iloc[0]['Close']\r\n",
    "    end_price = df_ohlcv.iloc[-1]['Close']\r\n",
    "\r\n",
    "    print(f'Data summary for {curr_code}')\r\n",
    "    print(f'    Start Date: {start_date}; End Date: {end_date}; NUmber of records: {num_records}')\r\n",
    "    print(f'    Start Price: {start_price}; End Price: {end_price}')\r\n",
    "\r\n",
    "    df_ohlcv.dropna(inplace=True)\r\n",
    "\r\n",
    "    # Store the symbol name and history data in a dict \r\n",
    "    dict_ohlcv[curr_code] = df_ohlcv \r\n",
    "\r\n",
    "    print(f'Data for {curr_code} fetched and appended into the dictionary\\n')\r\n"
   ],
   "outputs": [
    {
     "output_type": "stream",
     "name": "stdout",
     "text": [
      "Data summary for BTC/AUD\n",
      "    Start Date: 2019-09-18; End Date: 2021-08-31; NUmber of records: 17089\n",
      "    Start Price: 14858.330078125; End Price: 65488.72265625\n",
      "Data for BTC/AUD fetched and appended into the dictionary\n",
      "\n",
      "Data summary for ETH/AUD\n",
      "    Start Date: 2019-09-18; End Date: 2021-08-31; NUmber of records: 17089\n",
      "    Start Price: 304.0899963378906; End Price: 4690.25732421875\n",
      "Data for ETH/AUD fetched and appended into the dictionary\n",
      "\n",
      "Data summary for XRP/AUD\n",
      "    Start Date: 2019-09-18; End Date: 2021-08-31; NUmber of records: 17089\n",
      "    Start Price: 0.41999998688697815; End Price: 1.571642518043518\n",
      "Data for XRP/AUD fetched and appended into the dictionary\n",
      "\n",
      "Data summary for LTC/AUD\n",
      "    Start Date: 2019-09-18; End Date: 2021-08-31; NUmber of records: 17089\n",
      "    Start Price: 108.51000213623047; End Price: 237.87646484375\n",
      "Data for LTC/AUD fetched and appended into the dictionary\n",
      "\n",
      "Data summary for ADA/AUD\n",
      "    Start Date: 2019-09-18; End Date: 2021-08-31; NUmber of records: 17089\n",
      "    Start Price: 0.07131998240947723; End Price: 3.849515438079834\n",
      "Data for ADA/AUD fetched and appended into the dictionary\n",
      "\n",
      "Data summary for XLM/AUD\n",
      "    Start Date: 2019-09-18; End Date: 2021-08-31; NUmber of records: 17089\n",
      "    Start Price: 0.09256701916456223; End Price: 0.47163307666778564\n",
      "Data for XLM/AUD fetched and appended into the dictionary\n",
      "\n",
      "Data summary for BCH/AUD\n",
      "    Start Date: 2019-09-18; End Date: 2021-08-31; NUmber of records: 17089\n",
      "    Start Price: 468.2986145019531; End Price: 881.5592651367188\n",
      "Data for BCH/AUD fetched and appended into the dictionary\n",
      "\n"
     ]
    }
   ],
   "metadata": {}
  },
  {
   "cell_type": "markdown",
   "source": [
    "# Compute the Technical Indicators using"
   ],
   "metadata": {}
  },
  {
   "cell_type": "code",
   "execution_count": 20,
   "source": [
    "fast_window = 5\r\n",
    "slow_window = 15\r\n",
    "\r\n",
    "df_all_data = pd.DataFrame() \r\n",
    "for curr, data in dict_ohlcv.items():\r\n",
    "\r\n",
    "    df = Functions.add_tech_indicators(data, fast_window, slow_window)\r\n",
    "    \r\n",
    "    df['Currency'] = curr \r\n",
    "    df['Returns'] = df['Close'].pct_change()\r\n",
    "\r\n",
    "    df.dropna(inplace=True)    \r\n",
    "    df_all_data = df_all_data.append(df)\r\n",
    "\r\n",
    "df_all_data.shape"
   ],
   "outputs": [
    {
     "output_type": "execute_result",
     "data": {
      "text/plain": [
       "(117972, 18)"
      ]
     },
     "metadata": {},
     "execution_count": 20
    }
   ],
   "metadata": {}
  },
  {
   "cell_type": "code",
   "execution_count": 21,
   "source": [
    "mask = df_all_data.index.date < pd.to_datetime('2021-07-01')\r\n",
    "df_training = df_all_data.loc[mask].copy()\r\n",
    "# df_training.tail()\r\n",
    "df_training.to_csv('Resources/Training_data.csv', index=True)"
   ],
   "outputs": [],
   "metadata": {}
  },
  {
   "cell_type": "markdown",
   "source": [
    "## The next cells can be uncommented and run to test the strategy for month-wise data  "
   ],
   "metadata": {}
  },
  {
   "cell_type": "code",
   "execution_count": 8,
   "source": [
    "# mask = (df_all_data.index.date >= pd.to_datetime('2021-05-01')) & (df_all_data.index.date < pd.to_datetime('2021-09-01'))\r\n",
    "# df_testing_data = df_all_data.loc[ mask ].copy()\r\n",
    "# from_date = df_testing_data.index[0].date().isoformat()\r\n",
    "\r\n",
    "# to_date = df_testing_data.index[-1].date().isoformat()\r\n",
    "\r\n",
    "# print(f'Data filtered between {from_date} and {to_date}')"
   ],
   "outputs": [],
   "metadata": {}
  },
  {
   "cell_type": "code",
   "execution_count": 9,
   "source": [
    "# df_testing_data.tail()"
   ],
   "outputs": [],
   "metadata": {}
  },
  {
   "cell_type": "code",
   "execution_count": 10,
   "source": [
    "# df_testing_data.to_csv('Resources/Backtesting_July.csv')"
   ],
   "outputs": [],
   "metadata": {}
  },
  {
   "cell_type": "code",
   "execution_count": null,
   "source": [],
   "outputs": [],
   "metadata": {}
  }
 ],
 "metadata": {
  "orig_nbformat": 4,
  "language_info": {
   "name": "python",
   "version": "3.7.10",
   "mimetype": "text/x-python",
   "codemirror_mode": {
    "name": "ipython",
    "version": 3
   },
   "pygments_lexer": "ipython3",
   "nbconvert_exporter": "python",
   "file_extension": ".py"
  },
  "kernelspec": {
   "name": "python3",
   "display_name": "Python 3.7.10 64-bit ('project2env': conda)"
  },
  "interpreter": {
   "hash": "cc9d93f5fa92246aacb984fbac88763759a8f65daad4aaedd794ab683a30e53f"
  }
 },
 "nbformat": 4,
 "nbformat_minor": 2
}