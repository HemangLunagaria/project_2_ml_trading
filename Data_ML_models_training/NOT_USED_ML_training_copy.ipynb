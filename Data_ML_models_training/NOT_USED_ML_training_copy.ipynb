{
 "cells": [
  {
   "cell_type": "markdown",
   "source": [
    "# Data preparation for training Machine Learning Models \r\n",
    "\r\n",
    "* In this notebook we will be using the price + indicator data which has been prepared in the previous notebook. We will set the features columns and the target data column. Then we will set aside a part of the data for testing.\r\n",
    "\r\n",
    "* We will use the GridSearchCV method of the scikit-learn library and check which model is giving the best score for training and validation"
   ],
   "metadata": {}
  },
  {
   "cell_type": "code",
   "execution_count": 95,
   "source": [
    "import pandas as pd"
   ],
   "outputs": [],
   "metadata": {}
  },
  {
   "cell_type": "markdown",
   "source": [
    "### First read the data which has been prepared in the previous notebook "
   ],
   "metadata": {}
  },
  {
   "cell_type": "code",
   "execution_count": 96,
   "source": [
    "df_data = pd.read_csv('Resources/Data_plus_indicators.csv', index_col='Date', infer_datetime_format=True)\n",
    "df_data.rename(columns={'Daily_returns': 'Returns'}, inplace= True)\n",
    "df_data.head()"
   ],
   "outputs": [
    {
     "output_type": "execute_result",
     "data": {
      "text/plain": [
       "                        Open     High      Low    Close     Volume   SMA_agg  \\\n",
       "Date                                                                           \n",
       "2021-07-27 00:00:00  3025.84  3039.75  3000.00  3033.37  15.406240  0.966833   \n",
       "2021-07-27 01:00:00  3004.40  3004.40  2942.20  2948.30  15.514904  0.964578   \n",
       "2021-07-27 02:00:00  2953.44  2953.45  2943.87  2943.87   3.495522  0.964405   \n",
       "2021-07-27 03:00:00  2928.65  2965.45  2928.65  2958.96   9.660272  0.965454   \n",
       "2021-07-27 04:00:00  2939.79  2964.14  2939.79  2962.08   0.165321  0.965746   \n",
       "\n",
       "                     RSI_ratio         CCI        ADX  ADX_dirn  ATR_ratio  \\\n",
       "Date                                                                         \n",
       "2021-07-27 00:00:00   0.829258  -50.812077  45.004645       0.0   1.223889   \n",
       "2021-07-27 01:00:00   0.562380 -166.666667  47.336990       0.0   1.322141   \n",
       "2021-07-27 02:00:00   0.552283 -100.810913  49.202866       0.0   1.162226   \n",
       "2021-07-27 03:00:00   0.858802  -61.607768  51.625298       0.0   1.116467   \n",
       "2021-07-27 04:00:00   0.918802  -39.457237  53.563243       0.0   1.040360   \n",
       "\n",
       "                     BBands_high  BBands_low Currency   Returns  \n",
       "Date                                                             \n",
       "2021-07-27 00:00:00     1.006075    1.005453  ETH/AUD  0.002949  \n",
       "2021-07-27 01:00:00     1.031730    0.989691  ETH/AUD -0.028045  \n",
       "2021-07-27 02:00:00     1.030266    0.996393  ETH/AUD -0.001503  \n",
       "2021-07-27 03:00:00     1.020858    1.005456  ETH/AUD  0.005126  \n",
       "2021-07-27 04:00:00     1.013488    1.008677  ETH/AUD  0.001054  "
      ],
      "text/html": [
       "<div>\n",
       "<style scoped>\n",
       "    .dataframe tbody tr th:only-of-type {\n",
       "        vertical-align: middle;\n",
       "    }\n",
       "\n",
       "    .dataframe tbody tr th {\n",
       "        vertical-align: top;\n",
       "    }\n",
       "\n",
       "    .dataframe thead th {\n",
       "        text-align: right;\n",
       "    }\n",
       "</style>\n",
       "<table border=\"1\" class=\"dataframe\">\n",
       "  <thead>\n",
       "    <tr style=\"text-align: right;\">\n",
       "      <th></th>\n",
       "      <th>Open</th>\n",
       "      <th>High</th>\n",
       "      <th>Low</th>\n",
       "      <th>Close</th>\n",
       "      <th>Volume</th>\n",
       "      <th>SMA_agg</th>\n",
       "      <th>RSI_ratio</th>\n",
       "      <th>CCI</th>\n",
       "      <th>ADX</th>\n",
       "      <th>ADX_dirn</th>\n",
       "      <th>ATR_ratio</th>\n",
       "      <th>BBands_high</th>\n",
       "      <th>BBands_low</th>\n",
       "      <th>Currency</th>\n",
       "      <th>Returns</th>\n",
       "    </tr>\n",
       "    <tr>\n",
       "      <th>Date</th>\n",
       "      <th></th>\n",
       "      <th></th>\n",
       "      <th></th>\n",
       "      <th></th>\n",
       "      <th></th>\n",
       "      <th></th>\n",
       "      <th></th>\n",
       "      <th></th>\n",
       "      <th></th>\n",
       "      <th></th>\n",
       "      <th></th>\n",
       "      <th></th>\n",
       "      <th></th>\n",
       "      <th></th>\n",
       "      <th></th>\n",
       "    </tr>\n",
       "  </thead>\n",
       "  <tbody>\n",
       "    <tr>\n",
       "      <th>2021-07-27 00:00:00</th>\n",
       "      <td>3025.84</td>\n",
       "      <td>3039.75</td>\n",
       "      <td>3000.00</td>\n",
       "      <td>3033.37</td>\n",
       "      <td>15.406240</td>\n",
       "      <td>0.966833</td>\n",
       "      <td>0.829258</td>\n",
       "      <td>-50.812077</td>\n",
       "      <td>45.004645</td>\n",
       "      <td>0.0</td>\n",
       "      <td>1.223889</td>\n",
       "      <td>1.006075</td>\n",
       "      <td>1.005453</td>\n",
       "      <td>ETH/AUD</td>\n",
       "      <td>0.002949</td>\n",
       "    </tr>\n",
       "    <tr>\n",
       "      <th>2021-07-27 01:00:00</th>\n",
       "      <td>3004.40</td>\n",
       "      <td>3004.40</td>\n",
       "      <td>2942.20</td>\n",
       "      <td>2948.30</td>\n",
       "      <td>15.514904</td>\n",
       "      <td>0.964578</td>\n",
       "      <td>0.562380</td>\n",
       "      <td>-166.666667</td>\n",
       "      <td>47.336990</td>\n",
       "      <td>0.0</td>\n",
       "      <td>1.322141</td>\n",
       "      <td>1.031730</td>\n",
       "      <td>0.989691</td>\n",
       "      <td>ETH/AUD</td>\n",
       "      <td>-0.028045</td>\n",
       "    </tr>\n",
       "    <tr>\n",
       "      <th>2021-07-27 02:00:00</th>\n",
       "      <td>2953.44</td>\n",
       "      <td>2953.45</td>\n",
       "      <td>2943.87</td>\n",
       "      <td>2943.87</td>\n",
       "      <td>3.495522</td>\n",
       "      <td>0.964405</td>\n",
       "      <td>0.552283</td>\n",
       "      <td>-100.810913</td>\n",
       "      <td>49.202866</td>\n",
       "      <td>0.0</td>\n",
       "      <td>1.162226</td>\n",
       "      <td>1.030266</td>\n",
       "      <td>0.996393</td>\n",
       "      <td>ETH/AUD</td>\n",
       "      <td>-0.001503</td>\n",
       "    </tr>\n",
       "    <tr>\n",
       "      <th>2021-07-27 03:00:00</th>\n",
       "      <td>2928.65</td>\n",
       "      <td>2965.45</td>\n",
       "      <td>2928.65</td>\n",
       "      <td>2958.96</td>\n",
       "      <td>9.660272</td>\n",
       "      <td>0.965454</td>\n",
       "      <td>0.858802</td>\n",
       "      <td>-61.607768</td>\n",
       "      <td>51.625298</td>\n",
       "      <td>0.0</td>\n",
       "      <td>1.116467</td>\n",
       "      <td>1.020858</td>\n",
       "      <td>1.005456</td>\n",
       "      <td>ETH/AUD</td>\n",
       "      <td>0.005126</td>\n",
       "    </tr>\n",
       "    <tr>\n",
       "      <th>2021-07-27 04:00:00</th>\n",
       "      <td>2939.79</td>\n",
       "      <td>2964.14</td>\n",
       "      <td>2939.79</td>\n",
       "      <td>2962.08</td>\n",
       "      <td>0.165321</td>\n",
       "      <td>0.965746</td>\n",
       "      <td>0.918802</td>\n",
       "      <td>-39.457237</td>\n",
       "      <td>53.563243</td>\n",
       "      <td>0.0</td>\n",
       "      <td>1.040360</td>\n",
       "      <td>1.013488</td>\n",
       "      <td>1.008677</td>\n",
       "      <td>ETH/AUD</td>\n",
       "      <td>0.001054</td>\n",
       "    </tr>\n",
       "  </tbody>\n",
       "</table>\n",
       "</div>"
      ]
     },
     "metadata": {},
     "execution_count": 96
    }
   ],
   "metadata": {}
  },
  {
   "cell_type": "markdown",
   "source": [
    "### Our target value needs to be the returns of the next timeperiod, so transforming the data accordingly"
   ],
   "metadata": {}
  },
  {
   "cell_type": "code",
   "execution_count": 97,
   "source": [
    "df_data['Target_returns'] = df_data.Returns.shift(-1)\n",
    "df_data.dropna(inplace=True)\n",
    "df_data['Buy_or_sell'] = df_data.Target_returns.apply(lambda x: 1 if x > 0 else -1)\n",
    "df_data.head()"
   ],
   "outputs": [
    {
     "output_type": "execute_result",
     "data": {
      "text/plain": [
       "                        Open     High      Low    Close     Volume   SMA_agg  \\\n",
       "Date                                                                           \n",
       "2021-07-27 00:00:00  3025.84  3039.75  3000.00  3033.37  15.406240  0.966833   \n",
       "2021-07-27 01:00:00  3004.40  3004.40  2942.20  2948.30  15.514904  0.964578   \n",
       "2021-07-27 02:00:00  2953.44  2953.45  2943.87  2943.87   3.495522  0.964405   \n",
       "2021-07-27 03:00:00  2928.65  2965.45  2928.65  2958.96   9.660272  0.965454   \n",
       "2021-07-27 04:00:00  2939.79  2964.14  2939.79  2962.08   0.165321  0.965746   \n",
       "\n",
       "                     RSI_ratio         CCI        ADX  ADX_dirn  ATR_ratio  \\\n",
       "Date                                                                         \n",
       "2021-07-27 00:00:00   0.829258  -50.812077  45.004645       0.0   1.223889   \n",
       "2021-07-27 01:00:00   0.562380 -166.666667  47.336990       0.0   1.322141   \n",
       "2021-07-27 02:00:00   0.552283 -100.810913  49.202866       0.0   1.162226   \n",
       "2021-07-27 03:00:00   0.858802  -61.607768  51.625298       0.0   1.116467   \n",
       "2021-07-27 04:00:00   0.918802  -39.457237  53.563243       0.0   1.040360   \n",
       "\n",
       "                     BBands_high  BBands_low Currency   Returns  \\\n",
       "Date                                                              \n",
       "2021-07-27 00:00:00     1.006075    1.005453  ETH/AUD  0.002949   \n",
       "2021-07-27 01:00:00     1.031730    0.989691  ETH/AUD -0.028045   \n",
       "2021-07-27 02:00:00     1.030266    0.996393  ETH/AUD -0.001503   \n",
       "2021-07-27 03:00:00     1.020858    1.005456  ETH/AUD  0.005126   \n",
       "2021-07-27 04:00:00     1.013488    1.008677  ETH/AUD  0.001054   \n",
       "\n",
       "                     Target_returns  Buy_or_sell  \n",
       "Date                                              \n",
       "2021-07-27 00:00:00       -0.028045           -1  \n",
       "2021-07-27 01:00:00       -0.001503           -1  \n",
       "2021-07-27 02:00:00        0.005126            1  \n",
       "2021-07-27 03:00:00        0.001054            1  \n",
       "2021-07-27 04:00:00        0.003494            1  "
      ],
      "text/html": [
       "<div>\n",
       "<style scoped>\n",
       "    .dataframe tbody tr th:only-of-type {\n",
       "        vertical-align: middle;\n",
       "    }\n",
       "\n",
       "    .dataframe tbody tr th {\n",
       "        vertical-align: top;\n",
       "    }\n",
       "\n",
       "    .dataframe thead th {\n",
       "        text-align: right;\n",
       "    }\n",
       "</style>\n",
       "<table border=\"1\" class=\"dataframe\">\n",
       "  <thead>\n",
       "    <tr style=\"text-align: right;\">\n",
       "      <th></th>\n",
       "      <th>Open</th>\n",
       "      <th>High</th>\n",
       "      <th>Low</th>\n",
       "      <th>Close</th>\n",
       "      <th>Volume</th>\n",
       "      <th>SMA_agg</th>\n",
       "      <th>RSI_ratio</th>\n",
       "      <th>CCI</th>\n",
       "      <th>ADX</th>\n",
       "      <th>ADX_dirn</th>\n",
       "      <th>ATR_ratio</th>\n",
       "      <th>BBands_high</th>\n",
       "      <th>BBands_low</th>\n",
       "      <th>Currency</th>\n",
       "      <th>Returns</th>\n",
       "      <th>Target_returns</th>\n",
       "      <th>Buy_or_sell</th>\n",
       "    </tr>\n",
       "    <tr>\n",
       "      <th>Date</th>\n",
       "      <th></th>\n",
       "      <th></th>\n",
       "      <th></th>\n",
       "      <th></th>\n",
       "      <th></th>\n",
       "      <th></th>\n",
       "      <th></th>\n",
       "      <th></th>\n",
       "      <th></th>\n",
       "      <th></th>\n",
       "      <th></th>\n",
       "      <th></th>\n",
       "      <th></th>\n",
       "      <th></th>\n",
       "      <th></th>\n",
       "      <th></th>\n",
       "      <th></th>\n",
       "    </tr>\n",
       "  </thead>\n",
       "  <tbody>\n",
       "    <tr>\n",
       "      <th>2021-07-27 00:00:00</th>\n",
       "      <td>3025.84</td>\n",
       "      <td>3039.75</td>\n",
       "      <td>3000.00</td>\n",
       "      <td>3033.37</td>\n",
       "      <td>15.406240</td>\n",
       "      <td>0.966833</td>\n",
       "      <td>0.829258</td>\n",
       "      <td>-50.812077</td>\n",
       "      <td>45.004645</td>\n",
       "      <td>0.0</td>\n",
       "      <td>1.223889</td>\n",
       "      <td>1.006075</td>\n",
       "      <td>1.005453</td>\n",
       "      <td>ETH/AUD</td>\n",
       "      <td>0.002949</td>\n",
       "      <td>-0.028045</td>\n",
       "      <td>-1</td>\n",
       "    </tr>\n",
       "    <tr>\n",
       "      <th>2021-07-27 01:00:00</th>\n",
       "      <td>3004.40</td>\n",
       "      <td>3004.40</td>\n",
       "      <td>2942.20</td>\n",
       "      <td>2948.30</td>\n",
       "      <td>15.514904</td>\n",
       "      <td>0.964578</td>\n",
       "      <td>0.562380</td>\n",
       "      <td>-166.666667</td>\n",
       "      <td>47.336990</td>\n",
       "      <td>0.0</td>\n",
       "      <td>1.322141</td>\n",
       "      <td>1.031730</td>\n",
       "      <td>0.989691</td>\n",
       "      <td>ETH/AUD</td>\n",
       "      <td>-0.028045</td>\n",
       "      <td>-0.001503</td>\n",
       "      <td>-1</td>\n",
       "    </tr>\n",
       "    <tr>\n",
       "      <th>2021-07-27 02:00:00</th>\n",
       "      <td>2953.44</td>\n",
       "      <td>2953.45</td>\n",
       "      <td>2943.87</td>\n",
       "      <td>2943.87</td>\n",
       "      <td>3.495522</td>\n",
       "      <td>0.964405</td>\n",
       "      <td>0.552283</td>\n",
       "      <td>-100.810913</td>\n",
       "      <td>49.202866</td>\n",
       "      <td>0.0</td>\n",
       "      <td>1.162226</td>\n",
       "      <td>1.030266</td>\n",
       "      <td>0.996393</td>\n",
       "      <td>ETH/AUD</td>\n",
       "      <td>-0.001503</td>\n",
       "      <td>0.005126</td>\n",
       "      <td>1</td>\n",
       "    </tr>\n",
       "    <tr>\n",
       "      <th>2021-07-27 03:00:00</th>\n",
       "      <td>2928.65</td>\n",
       "      <td>2965.45</td>\n",
       "      <td>2928.65</td>\n",
       "      <td>2958.96</td>\n",
       "      <td>9.660272</td>\n",
       "      <td>0.965454</td>\n",
       "      <td>0.858802</td>\n",
       "      <td>-61.607768</td>\n",
       "      <td>51.625298</td>\n",
       "      <td>0.0</td>\n",
       "      <td>1.116467</td>\n",
       "      <td>1.020858</td>\n",
       "      <td>1.005456</td>\n",
       "      <td>ETH/AUD</td>\n",
       "      <td>0.005126</td>\n",
       "      <td>0.001054</td>\n",
       "      <td>1</td>\n",
       "    </tr>\n",
       "    <tr>\n",
       "      <th>2021-07-27 04:00:00</th>\n",
       "      <td>2939.79</td>\n",
       "      <td>2964.14</td>\n",
       "      <td>2939.79</td>\n",
       "      <td>2962.08</td>\n",
       "      <td>0.165321</td>\n",
       "      <td>0.965746</td>\n",
       "      <td>0.918802</td>\n",
       "      <td>-39.457237</td>\n",
       "      <td>53.563243</td>\n",
       "      <td>0.0</td>\n",
       "      <td>1.040360</td>\n",
       "      <td>1.013488</td>\n",
       "      <td>1.008677</td>\n",
       "      <td>ETH/AUD</td>\n",
       "      <td>0.001054</td>\n",
       "      <td>0.003494</td>\n",
       "      <td>1</td>\n",
       "    </tr>\n",
       "  </tbody>\n",
       "</table>\n",
       "</div>"
      ]
     },
     "metadata": {},
     "execution_count": 97
    }
   ],
   "metadata": {}
  },
  {
   "cell_type": "code",
   "execution_count": 98,
   "source": [
    "df_data.Currency.unique()"
   ],
   "outputs": [
    {
     "output_type": "execute_result",
     "data": {
      "text/plain": [
       "array(['ETH/AUD', 'XRP/AUD', 'LTC/AUD', 'ADA/AUD', 'XLM/AUD', 'BCH/USD'],\n",
       "      dtype=object)"
      ]
     },
     "metadata": {},
     "execution_count": 98
    }
   ],
   "metadata": {}
  },
  {
   "cell_type": "markdown",
   "source": [
    "# Preparing the data for training the classifier models"
   ],
   "metadata": {}
  },
  {
   "cell_type": "code",
   "execution_count": 99,
   "source": [
    "curr_list = ['XLM/AUD', 'LTC/AUD', 'XRP/AUD', 'ETH/AUD', 'BCH/USD'] #, 'LTC/AUD'\n",
    "df_filtered = df_data.loc[ df_data.Currency.isin(curr_list) ]\n",
    "df_filtered.shape"
   ],
   "outputs": [
    {
     "output_type": "execute_result",
     "data": {
      "text/plain": [
       "(3501, 17)"
      ]
     },
     "metadata": {},
     "execution_count": 99
    }
   ],
   "metadata": {}
  },
  {
   "cell_type": "code",
   "execution_count": 100,
   "source": [
    "X = df_filtered.loc[:,['SMA_agg', 'RSI_ratio', 'ADX_dirn', 'ATR_ratio', 'BBands_high', 'BBands_low']].reset_index(drop=True)        # , 'CCI', 'Returns'\n",
    "y = df_filtered.Buy_or_sell"
   ],
   "outputs": [],
   "metadata": {}
  },
  {
   "cell_type": "code",
   "execution_count": 101,
   "source": [
    "y.value_counts()\n"
   ],
   "outputs": [
    {
     "output_type": "execute_result",
     "data": {
      "text/plain": [
       "-1    2203\n",
       " 1    1298\n",
       "Name: Buy_or_sell, dtype: int64"
      ]
     },
     "metadata": {},
     "execution_count": 101
    }
   ],
   "metadata": {}
  },
  {
   "cell_type": "code",
   "execution_count": 102,
   "source": [
    "from imblearn.over_sampling import SMOTE\n",
    "resampler = SMOTE(random_state= 1)\n",
    "X , y = resampler.fit_resample(X , y)\n",
    "X.shape\n"
   ],
   "outputs": [
    {
     "output_type": "execute_result",
     "data": {
      "text/plain": [
       "(4406, 6)"
      ]
     },
     "metadata": {},
     "execution_count": 102
    }
   ],
   "metadata": {}
  },
  {
   "cell_type": "code",
   "execution_count": 103,
   "source": [
    "from sklearn.tree import DecisionTreeClassifier \n",
    "from sklearn.linear_model import LogisticRegression\n",
    "from sklearn.ensemble import RandomForestClassifier, GradientBoostingClassifier, AdaBoostClassifier\n",
    "\n",
    "dec_tree = DecisionTreeClassifier()\n",
    "logreg = LogisticRegression( solver='liblinear')\n",
    "forest = RandomForestClassifier( criterion='gini')\n",
    "grad_boost = GradientBoostingClassifier()\n",
    "ada_boost = AdaBoostClassifier()"
   ],
   "outputs": [],
   "metadata": {}
  },
  {
   "cell_type": "code",
   "execution_count": 104,
   "source": [
    "from sklearn.model_selection import cross_val_score"
   ],
   "outputs": [],
   "metadata": {}
  },
  {
   "cell_type": "markdown",
   "source": [
    "## Cross-validate a Pipeline with 1 feature"
   ],
   "metadata": {}
  },
  {
   "cell_type": "code",
   "execution_count": 105,
   "source": [
    "from sklearn.preprocessing import StandardScaler\n",
    "from sklearn.compose import ColumnTransformer, make_column_transformer\n",
    "from sklearn.decomposition import PCA"
   ],
   "outputs": [],
   "metadata": {}
  },
  {
   "cell_type": "code",
   "execution_count": 106,
   "source": [
    "col_transform = make_column_transformer(\n",
    "    (StandardScaler(), X.columns.to_list())\n",
    ")\n",
    "col_transform.fit_transform(X);\n",
    "\n",
    "pca = PCA(n_components=3)"
   ],
   "outputs": [],
   "metadata": {}
  },
  {
   "cell_type": "code",
   "execution_count": 107,
   "source": [
    "# chain sequential steps together\n",
    "from sklearn.pipeline import make_pipeline, Pipeline\n",
    "# pipe = make_pipeline(col_transform, dec_tree)\n",
    "pipe = Pipeline(steps= [('col_transform', col_transform), \n",
    "                        ('pca', pca),\n",
    "                        # ('dec_tree', dec_tree)\n",
    "                        # ('forest', forest)\n",
    "                        # ('grad_boost', grad_boost)\n",
    "                        ('ada_boost', ada_boost)\n",
    "                    ])\n",
    "\n",
    "# (col_transform, dec_tree)"
   ],
   "outputs": [],
   "metadata": {}
  },
  {
   "cell_type": "code",
   "execution_count": 108,
   "source": [
    "# cross-validate the entire process\n",
    "# thus, preprocessing occurs within each fold of cross-validation\n",
    "cross_val_score(pipe, X, y, cv=10, scoring='accuracy').mean()\n"
   ],
   "outputs": [
    {
     "output_type": "execute_result",
     "data": {
      "text/plain": [
       "0.5678617810760669"
      ]
     },
     "metadata": {},
     "execution_count": 108
    }
   ],
   "metadata": {}
  },
  {
   "cell_type": "markdown",
   "source": [
    "# Attempt 1: GridSearch using 1 classifier at a time"
   ],
   "metadata": {}
  },
  {
   "cell_type": "code",
   "execution_count": 109,
   "source": [
    "from sklearn.model_selection import GridSearchCV"
   ],
   "outputs": [],
   "metadata": {}
  },
  {
   "cell_type": "code",
   "execution_count": 110,
   "source": [
    "params = {}\n",
    "# params['logisticregression__C'] = [0.05, 0.06, 0.07]\n",
    "# params['logisticregression__penalty'] = ['l1']\n",
    "\n",
    "# params['dec_tree__criterion'] = ['gini']\n",
    "\n",
    "# params['forest__n_estimators'] = list(range(100,150,10))\n",
    "# params['forest__max_depth'] = list(range(3,6,1))\n",
    "# params['forest__max_features'] = list(range(2,4,1))\n",
    "\n",
    "# params['grad_boost__learning_rate'] = [0.1, 0.3, 0.5]\n",
    "# params['grad_boost__n_estimators'] = list(range(100,200,10))\n",
    "# params['grad_boost__max_features'] = ['auto', 'sqrt', 'log2']\n",
    "# params['grad_boost__max_depth'] = list(range(3,8,1))\n",
    "# params['grad_boost__loss'] = ['deviance', 'exponential']\n",
    "\n",
    "params['ada_boost__n_estimators'] = list(range(120,160,10))\n",
    "params['ada_boost__learning_rate'] = [ 0.25, 0.5, 0.75]\n",
    "# params['ada_boost__algorithm'] = ['SAMME', 'SAMME.R']"
   ],
   "outputs": [],
   "metadata": {}
  },
  {
   "cell_type": "code",
   "execution_count": 111,
   "source": [
    "grid = GridSearchCV(pipe, params, cv=10, scoring='accuracy')\n",
    "grid.fit(X,y);"
   ],
   "outputs": [],
   "metadata": {}
  },
  {
   "cell_type": "code",
   "execution_count": 112,
   "source": [
    "print(f'Score: {grid.best_score_}')\n",
    "print(f'Best params: {grid.best_params_}')\n",
    "estimator = grid.best_estimator_['ada_boost']\n",
    "estimator"
   ],
   "outputs": [
    {
     "output_type": "stream",
     "name": "stdout",
     "text": [
      "Score: 0.577166563595135\n",
      "Best params: {'ada_boost__learning_rate': 0.5, 'ada_boost__n_estimators': 130}\n"
     ]
    },
    {
     "output_type": "execute_result",
     "data": {
      "text/plain": [
       "AdaBoostClassifier(learning_rate=0.5, n_estimators=130)"
      ]
     },
     "metadata": {},
     "execution_count": 112
    }
   ],
   "metadata": {}
  },
  {
   "cell_type": "code",
   "execution_count": 113,
   "source": [
    "estimator.feature_importances_"
   ],
   "outputs": [
    {
     "output_type": "execute_result",
     "data": {
      "text/plain": [
       "array([0.4       , 0.30769231, 0.29230769])"
      ]
     },
     "metadata": {},
     "execution_count": 113
    }
   ],
   "metadata": {}
  },
  {
   "cell_type": "code",
   "execution_count": 114,
   "source": [
    "# Testing\n",
    "df_testing = df_data.loc[ df_data.Currency == 'ADA/AUD' ]\n",
    "X_test = df_testing.loc[: , ['SMA_agg', 'RSI_ratio', 'ADX_dirn', 'ATR_ratio', 'BBands_high', 'BBands_low']].reset_index(drop=True)   # , 'CCI', 'Returns'\n",
    "y_test = df_testing.Buy_or_sell\n",
    "\n",
    "print(f'{X_test.shape}; {y_test.shape}')"
   ],
   "outputs": [
    {
     "output_type": "stream",
     "name": "stdout",
     "text": [
      "(705, 6); (705,)\n"
     ]
    }
   ],
   "metadata": {}
  },
  {
   "cell_type": "code",
   "execution_count": 115,
   "source": [
    "pipeline = make_pipeline(col_transform, pca, estimator)\n",
    "pipeline.fit(X, y)\n",
    "df_pred = pd.DataFrame(pipeline.predict(X_test))\n",
    "df_pred.value_counts()"
   ],
   "outputs": [
    {
     "output_type": "execute_result",
     "data": {
      "text/plain": [
       " 1    369\n",
       "-1    336\n",
       "dtype: int64"
      ]
     },
     "metadata": {},
     "execution_count": 115
    }
   ],
   "metadata": {}
  },
  {
   "cell_type": "code",
   "execution_count": 116,
   "source": [
    "# pipeline.predict(X_test)"
   ],
   "outputs": [],
   "metadata": {}
  },
  {
   "cell_type": "code",
   "execution_count": 117,
   "source": [
    "from sklearn.metrics import classification_report\n",
    "df_predictions = pd.DataFrame(pipeline.predict(X_test), columns=['Buy'])\n",
    "report = classification_report(y_test, pipeline.predict(X_test), output_dict=True)\n",
    "report"
   ],
   "outputs": [
    {
     "output_type": "execute_result",
     "data": {
      "text/plain": [
       "{'-1': {'precision': 0.6636904761904762,\n",
       "  'recall': 0.5022522522522522,\n",
       "  'f1-score': 0.5717948717948718,\n",
       "  'support': 444},\n",
       " '1': {'precision': 0.4010840108401084,\n",
       "  'recall': 0.5670498084291188,\n",
       "  'f1-score': 0.46984126984126984,\n",
       "  'support': 261},\n",
       " 'accuracy': 0.526241134751773,\n",
       " 'macro avg': {'precision': 0.5323872435152923,\n",
       "  'recall': 0.5346510303406855,\n",
       "  'f1-score': 0.5208180708180707,\n",
       "  'support': 705},\n",
       " 'weighted avg': {'precision': 0.5664702102948082,\n",
       "  'recall': 0.526241134751773,\n",
       "  'f1-score': 0.5340503468163043,\n",
       "  'support': 705}}"
      ]
     },
     "metadata": {},
     "execution_count": 117
    }
   ],
   "metadata": {}
  },
  {
   "cell_type": "markdown",
   "source": [
    "# Attempt 2 - Multiple Classifiers in a single GridSearch Call"
   ],
   "metadata": {}
  },
  {
   "cell_type": "code",
   "execution_count": 1,
   "source": [
    "from CronJobs import predictions as pr\n",
    "\n",
    "result = pr.getData()\n",
    "\n",
    "print(result)"
   ],
   "outputs": [
    {
     "output_type": "error",
     "ename": "RuntimeError",
     "evalue": "This event loop is already running",
     "traceback": [
      "\u001b[0;31m---------------------------------------------------------------------------\u001b[0m",
      "\u001b[0;31mRuntimeError\u001b[0m                              Traceback (most recent call last)",
      "\u001b[0;32m<ipython-input-1-f72c10c7b8b4>\u001b[0m in \u001b[0;36m<module>\u001b[0;34m\u001b[0m\n\u001b[1;32m      1\u001b[0m \u001b[0;32mfrom\u001b[0m \u001b[0mCronJobs\u001b[0m \u001b[0;32mimport\u001b[0m \u001b[0mpredictions\u001b[0m \u001b[0;32mas\u001b[0m \u001b[0mpr\u001b[0m\u001b[0;34m\u001b[0m\u001b[0;34m\u001b[0m\u001b[0m\n\u001b[1;32m      2\u001b[0m \u001b[0;34m\u001b[0m\u001b[0m\n\u001b[0;32m----> 3\u001b[0;31m \u001b[0mresult\u001b[0m \u001b[0;34m=\u001b[0m \u001b[0mpr\u001b[0m\u001b[0;34m.\u001b[0m\u001b[0mgetData\u001b[0m\u001b[0;34m(\u001b[0m\u001b[0;34m)\u001b[0m\u001b[0;34m\u001b[0m\u001b[0;34m\u001b[0m\u001b[0m\n\u001b[0m\u001b[1;32m      4\u001b[0m \u001b[0;34m\u001b[0m\u001b[0m\n\u001b[1;32m      5\u001b[0m \u001b[0mprint\u001b[0m\u001b[0;34m(\u001b[0m\u001b[0mresult\u001b[0m\u001b[0;34m)\u001b[0m\u001b[0;34m\u001b[0m\u001b[0;34m\u001b[0m\u001b[0m\n",
      "\u001b[0;32m~/Documents/Monash_FinTech repos/project_2_ml_trading/Data_ML_models_training/CronJobs/predictions.py\u001b[0m in \u001b[0;36mgetData\u001b[0;34m()\u001b[0m\n\u001b[1;32m     60\u001b[0m     \u001b[0mtasks\u001b[0m \u001b[0;34m=\u001b[0m \u001b[0;34m[\u001b[0m\u001b[0;34m]\u001b[0m\u001b[0;34m\u001b[0m\u001b[0;34m\u001b[0m\u001b[0m\n\u001b[1;32m     61\u001b[0m     \u001b[0mloop\u001b[0m \u001b[0;34m=\u001b[0m \u001b[0masyncio\u001b[0m\u001b[0;34m.\u001b[0m\u001b[0mget_event_loop\u001b[0m\u001b[0;34m(\u001b[0m\u001b[0;34m)\u001b[0m\u001b[0;34m\u001b[0m\u001b[0;34m\u001b[0m\u001b[0m\n\u001b[0;32m---> 62\u001b[0;31m     \u001b[0mresults\u001b[0m \u001b[0;34m=\u001b[0m \u001b[0mloop\u001b[0m\u001b[0;34m.\u001b[0m\u001b[0mrun_until_complete\u001b[0m\u001b[0;34m(\u001b[0m\u001b[0mgetOHLCData\u001b[0m\u001b[0;34m(\u001b[0m\u001b[0mtasks\u001b[0m\u001b[0;34m)\u001b[0m\u001b[0;34m)\u001b[0m\u001b[0;34m\u001b[0m\u001b[0;34m\u001b[0m\u001b[0m\n\u001b[0m\u001b[1;32m     63\u001b[0m     \u001b[0;32mreturn\u001b[0m \u001b[0mresults\u001b[0m\u001b[0;34m\u001b[0m\u001b[0;34m\u001b[0m\u001b[0m\n",
      "\u001b[0;32m~/opt/anaconda3/envs/mlenv/lib/python3.7/asyncio/base_events.py\u001b[0m in \u001b[0;36mrun_until_complete\u001b[0;34m(self, future)\u001b[0m\n\u001b[1;32m    561\u001b[0m         \"\"\"\n\u001b[1;32m    562\u001b[0m         \u001b[0mself\u001b[0m\u001b[0;34m.\u001b[0m\u001b[0m_check_closed\u001b[0m\u001b[0;34m(\u001b[0m\u001b[0;34m)\u001b[0m\u001b[0;34m\u001b[0m\u001b[0;34m\u001b[0m\u001b[0m\n\u001b[0;32m--> 563\u001b[0;31m         \u001b[0mself\u001b[0m\u001b[0;34m.\u001b[0m\u001b[0m_check_runnung\u001b[0m\u001b[0;34m(\u001b[0m\u001b[0;34m)\u001b[0m\u001b[0;34m\u001b[0m\u001b[0;34m\u001b[0m\u001b[0m\n\u001b[0m\u001b[1;32m    564\u001b[0m \u001b[0;34m\u001b[0m\u001b[0m\n\u001b[1;32m    565\u001b[0m         \u001b[0mnew_task\u001b[0m \u001b[0;34m=\u001b[0m \u001b[0;32mnot\u001b[0m \u001b[0mfutures\u001b[0m\u001b[0;34m.\u001b[0m\u001b[0misfuture\u001b[0m\u001b[0;34m(\u001b[0m\u001b[0mfuture\u001b[0m\u001b[0;34m)\u001b[0m\u001b[0;34m\u001b[0m\u001b[0;34m\u001b[0m\u001b[0m\n",
      "\u001b[0;32m~/opt/anaconda3/envs/mlenv/lib/python3.7/asyncio/base_events.py\u001b[0m in \u001b[0;36m_check_runnung\u001b[0;34m(self)\u001b[0m\n\u001b[1;32m    521\u001b[0m     \u001b[0;32mdef\u001b[0m \u001b[0m_check_runnung\u001b[0m\u001b[0;34m(\u001b[0m\u001b[0mself\u001b[0m\u001b[0;34m)\u001b[0m\u001b[0;34m:\u001b[0m\u001b[0;34m\u001b[0m\u001b[0;34m\u001b[0m\u001b[0m\n\u001b[1;32m    522\u001b[0m         \u001b[0;32mif\u001b[0m \u001b[0mself\u001b[0m\u001b[0;34m.\u001b[0m\u001b[0mis_running\u001b[0m\u001b[0;34m(\u001b[0m\u001b[0;34m)\u001b[0m\u001b[0;34m:\u001b[0m\u001b[0;34m\u001b[0m\u001b[0;34m\u001b[0m\u001b[0m\n\u001b[0;32m--> 523\u001b[0;31m             \u001b[0;32mraise\u001b[0m \u001b[0mRuntimeError\u001b[0m\u001b[0;34m(\u001b[0m\u001b[0;34m'This event loop is already running'\u001b[0m\u001b[0;34m)\u001b[0m\u001b[0;34m\u001b[0m\u001b[0;34m\u001b[0m\u001b[0m\n\u001b[0m\u001b[1;32m    524\u001b[0m         \u001b[0;32mif\u001b[0m \u001b[0mevents\u001b[0m\u001b[0;34m.\u001b[0m\u001b[0m_get_running_loop\u001b[0m\u001b[0;34m(\u001b[0m\u001b[0;34m)\u001b[0m \u001b[0;32mis\u001b[0m \u001b[0;32mnot\u001b[0m \u001b[0;32mNone\u001b[0m\u001b[0;34m:\u001b[0m\u001b[0;34m\u001b[0m\u001b[0;34m\u001b[0m\u001b[0m\n\u001b[1;32m    525\u001b[0m             raise RuntimeError(\n",
      "\u001b[0;31mRuntimeError\u001b[0m: This event loop is already running"
     ]
    }
   ],
   "metadata": {}
  }
 ],
 "metadata": {
  "orig_nbformat": 4,
  "language_info": {
   "name": "python",
   "version": "3.7.7",
   "mimetype": "text/x-python",
   "codemirror_mode": {
    "name": "ipython",
    "version": 3
   },
   "pygments_lexer": "ipython3",
   "nbconvert_exporter": "python",
   "file_extension": ".py"
  },
  "kernelspec": {
   "name": "python3",
   "display_name": "Python 3.7.7 64-bit ('mlenv': conda)"
  },
  "interpreter": {
   "hash": "3cf02f8c69f7cc96a4f38b5eec7930a98857bcc2cd2c2e6eecd2d1f6e42fcb50"
  }
 },
 "nbformat": 4,
 "nbformat_minor": 2
}