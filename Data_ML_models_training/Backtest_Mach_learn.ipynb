{
 "cells": [
  {
   "cell_type": "markdown",
   "source": [
    "# Notebook for backtesting the Machine Learning models"
   ],
   "metadata": {}
  },
  {
   "cell_type": "markdown",
   "source": [
    "### In this notebook we will be using the saved joblib files, and using them to generate Buy / Dont buy signals for the data fetched from CCXT\r\n",
    "\r\n",
    "The test data will be for the past 720 datapoints for each of 'BTC/AUD', 'ETH/AUD', 'XRP/AUD', 'LTC/AUD', 'ADA/AUD', 'XLM/AUD' and 'BCH/AUD'"
   ],
   "metadata": {}
  },
  {
   "cell_type": "code",
   "execution_count": 1,
   "source": [
    "# Import libraries and dependencies\r\n",
    "import ccxt\r\n",
    "import os\r\n",
    "import pandas as pd\r\n",
    "import numpy as np\r\n",
    "from dotenv import load_dotenv\r\n",
    "import talib as ta\r\n",
    "\r\n",
    "from Utility_Functions import Functions"
   ],
   "outputs": [],
   "metadata": {}
  },
  {
   "cell_type": "markdown",
   "source": [
    "# Control parameters for the backtest\r\n",
    "\r\n",
    "**indicators_list** has to be the same as the indicators that were used while training the ML Model"
   ],
   "metadata": {}
  },
  {
   "cell_type": "code",
   "execution_count": 2,
   "source": [
    "model_for_testing = '2021-08-28_ada_boost.joblib'\r\n",
    "curr_list = ['BTC/AUD', 'ETH/AUD', 'XRP/AUD', 'LTC/AUD', 'ADA/AUD', 'XLM/AUD', 'BCH/AUD']\r\n",
    "indicators_list = ['BBands_high', 'BBands_low', 'RSI_ratio', 'CCI','ADX', 'ADX_dirn', 'SMA_vol_agg', 'MACD_ratio']"
   ],
   "outputs": [],
   "metadata": {}
  },
  {
   "cell_type": "markdown",
   "source": [
    "# Redownload the data just to check the time taken for each activity"
   ],
   "metadata": {}
  },
  {
   "cell_type": "code",
   "execution_count": 3,
   "source": [
    "# Load environment variables\r\n",
    "load_dotenv()\r\n",
    "\r\n",
    "# Import environment variables\r\n",
    "kraken_public_key = os.getenv(\"KRAKEN_PUBLIC_KEY\")\r\n",
    "kraken_secret_key = os.getenv(\"KRAKEN_SECRET_KEY\")\r\n",
    "\r\n",
    "# Verify that environment variables were loaded\r\n",
    "print(f\"Kraken key data type: {type(kraken_public_key)}\")\r\n",
    "print(f\"Kraken secren data type: {type(kraken_secret_key)}\")"
   ],
   "outputs": [
    {
     "output_type": "stream",
     "name": "stdout",
     "text": [
      "Kraken key data type: <class 'str'>\n",
      "Kraken secren data type: <class 'str'>\n"
     ]
    }
   ],
   "metadata": {}
  },
  {
   "cell_type": "markdown",
   "source": [
    "### Set Public and private keys and initialise the CCXT Exchange object"
   ],
   "metadata": {}
  },
  {
   "cell_type": "code",
   "execution_count": 4,
   "source": [
    "# Set the public and private keys for the API\r\n",
    "exchange = ccxt.kraken({\r\n",
    "    'apiKey': kraken_public_key,\r\n",
    "    'secret': kraken_secret_key,\r\n",
    "})\r\n",
    "\r\n",
    "if not exchange.has['fetchOHLCV']:\r\n",
    "    print('Cant load history data with this exchange. Try with a different exchange')"
   ],
   "outputs": [],
   "metadata": {}
  },
  {
   "cell_type": "markdown",
   "source": [
    "### Fetching the price data"
   ],
   "metadata": {}
  },
  {
   "cell_type": "code",
   "execution_count": 5,
   "source": [
    "currs_list = curr_list     #\r\n",
    "\r\n",
    "dict_ohlcv = {}\r\n",
    "\r\n",
    "for curr in currs_list:\r\n",
    "    \r\n",
    "    # Call data fetch\r\n",
    "    ohlcv = exchange.fetchOHLCV(curr, '1h')\r\n",
    "\r\n",
    "    # Store the values in a dataframe\r\n",
    "    df_ohlcv = pd.DataFrame(ohlcv, columns=['Date', 'Open', 'High', 'Low', 'Close', 'Volume']).set_index('Date')\r\n",
    "    df_ohlcv.index = pd.to_datetime(df_ohlcv.index, unit='ms')\r\n",
    "\r\n",
    "    df_ohlcv.dropna(inplace=True)\r\n",
    "\r\n",
    "    # Store the symbol name and history data in a dict \r\n",
    "    dict_ohlcv[curr] = df_ohlcv \r\n",
    "\r\n",
    "    start_date = df_ohlcv.index[0].date().isoformat()\r\n",
    "    end_date = df_ohlcv.index[-1].date().isoformat()\r\n",
    "    num_records = (len(df_ohlcv))\r\n",
    "    start_price = df_ohlcv.iloc[0]['Close']\r\n",
    "    end_price = df_ohlcv.iloc[-1]['Close']\r\n",
    "\r\n",
    "    print(f'Data summary for {curr}')\r\n",
    "    print(f'    Start Date: {start_date}; End Date: {end_date}; NUmber of records: {num_records}')\r\n",
    "    print(f'    Start Price: {start_price}; End Price: {end_price}')    \r\n",
    "    print(f'Data for {curr} fetched and appended into the dictionary\\n')"
   ],
   "outputs": [
    {
     "output_type": "stream",
     "name": "stdout",
     "text": [
      "Data summary for BTC/AUD\n",
      "    Start Date: 2021-07-30; End Date: 2021-08-29; NUmber of records: 720\n",
      "    Start Price: 54195.2; End Price: 68000.0\n",
      "Data for BTC/AUD fetched and appended into the dictionary\n",
      "\n",
      "Data summary for ETH/AUD\n",
      "    Start Date: 2021-07-30; End Date: 2021-08-29; NUmber of records: 720\n",
      "    Start Price: 3286.35; End Price: 4510.57\n",
      "Data for ETH/AUD fetched and appended into the dictionary\n",
      "\n",
      "Data summary for XRP/AUD\n",
      "    Start Date: 2021-07-30; End Date: 2021-08-29; NUmber of records: 720\n",
      "    Start Price: 1.0215; End Price: 1.5833\n",
      "Data for XRP/AUD fetched and appended into the dictionary\n",
      "\n",
      "Data summary for LTC/AUD\n",
      "    Start Date: 2021-07-30; End Date: 2021-08-29; NUmber of records: 720\n",
      "    Start Price: 186.86; End Price: 240.36\n",
      "Data for LTC/AUD fetched and appended into the dictionary\n",
      "\n",
      "Data summary for ADA/AUD\n",
      "    Start Date: 2021-07-30; End Date: 2021-08-29; NUmber of records: 720\n",
      "    Start Price: 1.77703; End Price: 3.93754\n",
      "Data for ADA/AUD fetched and appended into the dictionary\n",
      "\n",
      "Data summary for XLM/AUD\n",
      "    Start Date: 2021-07-30; End Date: 2021-08-29; NUmber of records: 720\n",
      "    Start Price: 0.38061; End Price: 0.47143\n",
      "Data for XLM/AUD fetched and appended into the dictionary\n",
      "\n",
      "Data summary for BCH/AUD\n",
      "    Start Date: 2021-07-30; End Date: 2021-08-29; NUmber of records: 720\n",
      "    Start Price: 733.12; End Price: 912.5\n",
      "Data for BCH/AUD fetched and appended into the dictionary\n",
      "\n"
     ]
    }
   ],
   "metadata": {}
  },
  {
   "cell_type": "markdown",
   "source": [
    "### Computing and adding Technical Indicators to the price data"
   ],
   "metadata": {}
  },
  {
   "cell_type": "code",
   "execution_count": 6,
   "source": [
    "fast_window = 5\r\n",
    "slow_window = 15\r\n",
    "\r\n",
    "df_all_data = pd.DataFrame() \r\n",
    "for curr, data in dict_ohlcv.items():\r\n",
    "\r\n",
    "    df = Functions.add_tech_indicators(data, fast_window, slow_window)\r\n",
    "    \r\n",
    "    df['Currency'] = curr \r\n",
    "    df['Returns'] = df['Close'].pct_change()\r\n",
    "\r\n",
    "    df.dropna(inplace=True)    \r\n",
    "    df_all_data = df_all_data.append(df)\r\n",
    "\r\n",
    "df_all_data.columns"
   ],
   "outputs": [
    {
     "output_type": "execute_result",
     "data": {
      "text/plain": [
       "Index(['Open', 'High', 'Low', 'Close', 'Volume', 'SMA_agg', 'RSI_ratio', 'CCI',\n",
       "       'MACD_ratio', 'ADX', 'ADX_dirn', 'ATR_ratio', 'BBands_high',\n",
       "       'BBands_low', 'SMA_vol_agg', 'Currency', 'Returns'],\n",
       "      dtype='object')"
      ]
     },
     "metadata": {},
     "execution_count": 6
    }
   ],
   "metadata": {}
  },
  {
   "cell_type": "markdown",
   "source": [
    "# Add the target values to check the performance of the strategy"
   ],
   "metadata": {}
  },
  {
   "cell_type": "code",
   "execution_count": 7,
   "source": [
    "df_all_data['Target_returns'] = df_all_data.Returns.shift(-1)\r\n",
    "df_all_data.dropna(inplace=True)\r\n",
    "df_all_data['Buy_or_sell'] = df_all_data.Target_returns.apply(lambda x: 1 if x > 0 else -1)\r\n",
    "df_all_data.shape"
   ],
   "outputs": [
    {
     "output_type": "execute_result",
     "data": {
      "text/plain": [
       "(4934, 19)"
      ]
     },
     "metadata": {},
     "execution_count": 7
    }
   ],
   "metadata": {}
  },
  {
   "cell_type": "markdown",
   "source": [
    "# Backtesting this data"
   ],
   "metadata": {}
  },
  {
   "cell_type": "markdown",
   "source": [
    "### Fetch the saved joblib file"
   ],
   "metadata": {}
  },
  {
   "cell_type": "code",
   "execution_count": 8,
   "source": [
    "from sklearn.pipeline import make_pipeline, Pipeline\r\n",
    "from joblib import dump, load\r\n",
    "from pathlib import Path"
   ],
   "outputs": [],
   "metadata": {}
  },
  {
   "cell_type": "code",
   "execution_count": 9,
   "source": [
    "filename = 'Joblibs/' + model_for_testing\r\n",
    "pipeline = load(filename)"
   ],
   "outputs": [],
   "metadata": {}
  },
  {
   "cell_type": "markdown",
   "source": [
    "### Start of predictions"
   ],
   "metadata": {}
  },
  {
   "cell_type": "code",
   "execution_count": 31,
   "source": [
    "from sklearn.metrics import classification_report\r\n",
    "import matplotlib.pyplot as plt"
   ],
   "outputs": [],
   "metadata": {}
  },
  {
   "cell_type": "code",
   "execution_count": null,
   "source": [
    "for curr_tested in curr_list:\r\n",
    "\r\n",
    "    df_testing_subset = df_all_data.loc[ df_all_data.Currency == curr_tested].copy()\r\n",
    "    df_testing_subset.sort_index(inplace=True)\r\n",
    "\r\n",
    "    X_test = df_testing_subset.loc[: , indicators_list].reset_index(drop=True)   \r\n",
    "    y_test = df_testing_subset.loc[:, ['Target_returns', 'Buy_or_sell']].copy()\r\n",
    "    # y_test.head()\r\n",
    "\r\n",
    "    # Run the predictions\r\n",
    "    df_pred = y_test\r\n",
    "    df_pred['Pred_buy_or_sell'] = pipeline.predict(X_test)\r\n",
    "    # df_pred.head()\r\n",
    "\r\n",
    "    print(f'\\nClassification report for {curr_tested}')\r\n",
    "    print(classification_report(y_test.Buy_or_sell, df_pred.Pred_buy_or_sell))\r\n",
    "\r\n",
    "    df_all_buys = df_pred.loc[ df_pred.Pred_buy_or_sell == 1 ].copy()\r\n",
    "\r\n",
    "    cum_rets = (1 + (df_all_buys['Target_returns'] * df_all_buys['Pred_buy_or_sell'])).cumprod()\r\n",
    "\r\n",
    "    title = 'Cumulative returns for ' + curr_tested\r\n",
    "    png_file = 'Backtest_results/Results_' + curr_tested.replace('/','-') + '.png'\r\n",
    "\r\n",
    "    fig, ax = plt.subplots()\r\n",
    "    ax.plot(cum_rets)\r\n",
    "\r\n",
    "    ax.set(xlabel='Date', ylabel='Returns',\r\n",
    "        title= title)\r\n",
    "    ax.grid()\r\n",
    "\r\n",
    "    fig.savefig(png_file)\r\n"
   ],
   "outputs": [],
   "metadata": {}
  },
  {
   "cell_type": "markdown",
   "source": [],
   "metadata": {}
  }
 ],
 "metadata": {
  "orig_nbformat": 4,
  "language_info": {
   "name": "python",
   "version": "3.7.10",
   "mimetype": "text/x-python",
   "codemirror_mode": {
    "name": "ipython",
    "version": 3
   },
   "pygments_lexer": "ipython3",
   "nbconvert_exporter": "python",
   "file_extension": ".py"
  },
  "kernelspec": {
   "name": "python3",
   "display_name": "Python 3.7.10 64-bit ('project2env': conda)"
  },
  "interpreter": {
   "hash": "cc9d93f5fa92246aacb984fbac88763759a8f65daad4aaedd794ab683a30e53f"
  }
 },
 "nbformat": 4,
 "nbformat_minor": 2
}