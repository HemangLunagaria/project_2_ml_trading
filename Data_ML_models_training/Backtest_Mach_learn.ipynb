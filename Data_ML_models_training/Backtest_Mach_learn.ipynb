{
 "cells": [
  {
   "cell_type": "markdown",
   "source": [
    "# Notebook for backtesting the Machine Learning models"
   ],
   "metadata": {}
  },
  {
   "cell_type": "markdown",
   "source": [
    "### In this notebook we will be using the saved joblib files, and using them to generate Buy / Dont buy signals for the data fetched from CCXT\r\n",
    "\r\n",
    "The test data will be for the past 720 datapoints for each of 'BTC/AUD', 'ETH/AUD', 'XRP/AUD', 'LTC/AUD', 'ADA/AUD', 'XLM/AUD' and 'BCH/AUD'"
   ],
   "metadata": {}
  },
  {
   "cell_type": "code",
   "execution_count": 5,
   "source": [
    "# Import libraries and dependencies\r\n",
    "import ccxt\r\n",
    "import os\r\n",
    "import pandas as pd\r\n",
    "import numpy as np\r\n",
    "from dotenv import load_dotenv\r\n",
    "import talib as ta\r\n",
    "import yfinance as yf \r\n",
    "\r\n",
    "from CronJobs.Utility_Functions import Functions"
   ],
   "outputs": [],
   "metadata": {}
  },
  {
   "cell_type": "markdown",
   "source": [
    "# Control parameters for the backtest"
   ],
   "metadata": {}
  },
  {
   "cell_type": "code",
   "execution_count": 6,
   "source": [
    "model_for_testing = '2021-09-01_ada_boost_Feat_sel.joblib'                 # \r\n",
    "\r\n",
    "curr_list = ['BTC/AUD', 'ETH/AUD', 'XRP/AUD', 'LTC/AUD', 'ADA/AUD', 'XLM/AUD', 'BCH/AUD']\r\n",
    "\r\n",
    "all_inds = ['SMA_agg', 'RSI_ratio', 'CCI', 'MACD_ratio', 'ADX', 'ADX_dirn', 'ATR_ratio', 'BBands_high', 'BBands_low', 'SMA_vol_agg', 'Returns']"
   ],
   "outputs": [],
   "metadata": {}
  },
  {
   "cell_type": "markdown",
   "source": [
    "# Redownload the data just to check the time taken for each activity"
   ],
   "metadata": {}
  },
  {
   "cell_type": "code",
   "execution_count": 7,
   "source": [
    "# Load environment variables\r\n",
    "load_dotenv()\r\n",
    "\r\n",
    "# Import environment variables\r\n",
    "kraken_public_key = os.getenv(\"KRAKEN_PUBLIC_KEY\")\r\n",
    "kraken_secret_key = os.getenv(\"KRAKEN_SECRET_KEY\")\r\n",
    "\r\n",
    "# Verify that environment variables were loaded\r\n",
    "print(f\"Kraken key data type: {type(kraken_public_key)}\")\r\n",
    "print(f\"Kraken secren data type: {type(kraken_secret_key)}\")"
   ],
   "outputs": [
    {
     "output_type": "stream",
     "name": "stdout",
     "text": [
      "Kraken key data type: <class 'str'>\n",
      "Kraken secren data type: <class 'str'>\n"
     ]
    }
   ],
   "metadata": {}
  },
  {
   "cell_type": "markdown",
   "source": [
    "### Set Public and private keys and initialise the CCXT Exchange object"
   ],
   "metadata": {}
  },
  {
   "cell_type": "code",
   "execution_count": 8,
   "source": [
    "# Set the public and private keys for the API\r\n",
    "exchange = ccxt.kraken({\r\n",
    "    'apiKey': kraken_public_key,\r\n",
    "    'secret': kraken_secret_key,\r\n",
    "})\r\n",
    "\r\n",
    "if not exchange.has['fetchOHLCV']:\r\n",
    "    print('Cant load history data with this exchange. Try with a different exchange')"
   ],
   "outputs": [],
   "metadata": {}
  },
  {
   "cell_type": "markdown",
   "source": [
    "### Fetching the price data"
   ],
   "metadata": {}
  },
  {
   "cell_type": "code",
   "execution_count": 9,
   "source": [
    "currs_list = curr_list     #\r\n",
    "\r\n",
    "dict_ohlcv = {}\r\n",
    "\r\n",
    "for curr in currs_list:\r\n",
    "    \r\n",
    "    # Call data fetch\r\n",
    "    ohlcv = exchange.fetchOHLCV(curr, '1h')\r\n",
    "\r\n",
    "    # Store the values in a dataframe\r\n",
    "    df_ohlcv = pd.DataFrame(ohlcv, columns=['Date', 'Open', 'High', 'Low', 'Close', 'Volume']).set_index('Date')\r\n",
    "    df_ohlcv.index = pd.to_datetime(df_ohlcv.index, unit='ms')\r\n",
    "\r\n",
    "    df_ohlcv.dropna(inplace=True)\r\n",
    "\r\n",
    "    # Store the symbol name and history data in a dict \r\n",
    "    dict_ohlcv[curr] = df_ohlcv \r\n",
    "\r\n",
    "    start_date = df_ohlcv.index[0].date().isoformat()\r\n",
    "    end_date = df_ohlcv.index[-1].date().isoformat()\r\n",
    "    num_records = (len(df_ohlcv))\r\n",
    "    start_price = df_ohlcv.iloc[0]['Close']\r\n",
    "    end_price = df_ohlcv.iloc[-1]['Close']\r\n",
    "\r\n",
    "    print(f'Data summary for {curr}')\r\n",
    "    print(f'    Start Date: {start_date}; End Date: {end_date}; NUmber of records: {num_records}')\r\n",
    "    print(f'    Start Price: {start_price}; End Price: {end_price}')    \r\n",
    "    print(f'Data for {curr} fetched and appended into the dictionary\\n')"
   ],
   "outputs": [
    {
     "output_type": "stream",
     "name": "stdout",
     "text": [
      "Data summary for BTC/AUD\n",
      "    Start Date: 2021-08-06; End Date: 2021-09-05; NUmber of records: 720\n",
      "    Start Price: 55228.2; End Price: 67499.8\n",
      "Data for BTC/AUD fetched and appended into the dictionary\n",
      "\n",
      "Data summary for ETH/AUD\n",
      "    Start Date: 2021-08-06; End Date: 2021-09-05; NUmber of records: 720\n",
      "    Start Price: 3758.43; End Price: 5297.47\n",
      "Data for ETH/AUD fetched and appended into the dictionary\n",
      "\n",
      "Data summary for XRP/AUD\n",
      "    Start Date: 2021-08-06; End Date: 2021-09-05; NUmber of records: 720\n",
      "    Start Price: 0.98586; End Price: 1.70978\n",
      "Data for XRP/AUD fetched and appended into the dictionary\n",
      "\n",
      "Data summary for LTC/AUD\n",
      "    Start Date: 2021-08-06; End Date: 2021-09-05; NUmber of records: 720\n",
      "    Start Price: 196.96; End Price: 294.48\n",
      "Data for LTC/AUD fetched and appended into the dictionary\n",
      "\n",
      "Data summary for ADA/AUD\n",
      "    Start Date: 2021-08-06; End Date: 2021-09-05; NUmber of records: 720\n",
      "    Start Price: 1.86973; End Price: 3.84399\n",
      "Data for ADA/AUD fetched and appended into the dictionary\n",
      "\n",
      "Data summary for XLM/AUD\n",
      "    Start Date: 2021-08-06; End Date: 2021-09-05; NUmber of records: 720\n",
      "    Start Price: 0.376; End Price: 0.51785\n",
      "Data for XLM/AUD fetched and appended into the dictionary\n",
      "\n",
      "Data summary for BCH/AUD\n",
      "    Start Date: 2021-08-06; End Date: 2021-09-05; NUmber of records: 720\n",
      "    Start Price: 724.68; End Price: 954.99\n",
      "Data for BCH/AUD fetched and appended into the dictionary\n",
      "\n"
     ]
    }
   ],
   "metadata": {}
  },
  {
   "cell_type": "markdown",
   "source": [
    "### Computing and adding Technical Indicators to the price data"
   ],
   "metadata": {}
  },
  {
   "cell_type": "code",
   "execution_count": 10,
   "source": [
    "fast_window = 5\r\n",
    "slow_window = 15\r\n",
    "\r\n",
    "df_all_data = pd.DataFrame() \r\n",
    "for curr, data in dict_ohlcv.items():\r\n",
    "\r\n",
    "    df = Functions.add_tech_indicators(data, fast_window, slow_window)\r\n",
    "    \r\n",
    "    df['Currency'] = curr \r\n",
    "    df['Returns'] = df['Close'].pct_change()\r\n",
    "\r\n",
    "    df.dropna(inplace=True)    \r\n",
    "    df_all_data = df_all_data.append(df)\r\n",
    "\r\n",
    "df_all_data.columns"
   ],
   "outputs": [
    {
     "output_type": "execute_result",
     "data": {
      "text/plain": [
       "Index(['Open', 'High', 'Low', 'Close', 'Volume', 'SMA_agg', 'RSI_ratio', 'CCI',\n",
       "       'MACD_ratio', 'ADX', 'ADX_dirn', 'ATR_ratio', 'BBands_high',\n",
       "       'BBands_low', 'SMA_vol_agg', 'Currency', 'Returns'],\n",
       "      dtype='object')"
      ]
     },
     "metadata": {},
     "execution_count": 10
    }
   ],
   "metadata": {}
  },
  {
   "cell_type": "markdown",
   "source": [
    "# Extra backtesting - For earlier range, yfinance data can be downloaded and saved in a CSV"
   ],
   "metadata": {}
  },
  {
   "cell_type": "markdown",
   "source": [
    "The data has been downloaded, indicators applied and saved to Resources/Backtesting_July.csv"
   ],
   "metadata": {}
  },
  {
   "cell_type": "code",
   "execution_count": 12,
   "source": [
    "# df_all_data = pd.read_csv('Resources/Backtesting_July.csv', index_col=0, infer_datetime_format=True)\r\n",
    "# df_all_data.index.set_names('Date', inplace=True)\r\n",
    "# df_all_data.index = pd.to_datetime(df_all_data.index, utc=True)\r\n",
    "# df_all_data.index = df_all_data.index.tz_localize(tz=None)\r\n",
    "\r\n",
    "# curr_list = df_all_data.Currency.unique().tolist()\r\n",
    "# df_all_data.shape\r\n",
    "# df_all_data.index.dtype"
   ],
   "outputs": [],
   "metadata": {}
  },
  {
   "cell_type": "markdown",
   "source": [
    "# Add the target values to compare the strategy predictions"
   ],
   "metadata": {}
  },
  {
   "cell_type": "code",
   "execution_count": 13,
   "source": [
    "df_all_data['Target_returns'] = df_all_data.Returns.shift(-1)\r\n",
    "df_all_data.dropna(inplace=True)\r\n",
    "df_all_data['Buy_or_sell'] = df_all_data.Target_returns.apply(lambda x: 1 if x > 0 else 0)\r\n",
    "df_all_data.shape"
   ],
   "outputs": [
    {
     "output_type": "execute_result",
     "data": {
      "text/plain": [
       "(4892, 19)"
      ]
     },
     "metadata": {},
     "execution_count": 13
    }
   ],
   "metadata": {}
  },
  {
   "cell_type": "markdown",
   "source": [
    "# Backtesting this data"
   ],
   "metadata": {}
  },
  {
   "cell_type": "markdown",
   "source": [
    "### Fetch the saved joblib file"
   ],
   "metadata": {}
  },
  {
   "cell_type": "code",
   "execution_count": 14,
   "source": [
    "from sklearn.pipeline import make_pipeline, Pipeline\r\n",
    "from joblib import dump, load\r\n",
    "from pathlib import Path"
   ],
   "outputs": [],
   "metadata": {}
  },
  {
   "cell_type": "code",
   "execution_count": 15,
   "source": [
    "filename = 'Joblibs/' + model_for_testing\r\n",
    "pipeline = load(filename)\r\n",
    "print(f'Model {filename} loaded')"
   ],
   "outputs": [
    {
     "output_type": "stream",
     "name": "stdout",
     "text": [
      "Model Joblibs/2021-09-01_ada_boost_Feat_sel.joblib loaded\n"
     ]
    }
   ],
   "metadata": {}
  },
  {
   "cell_type": "markdown",
   "source": [
    "### Start of predictions"
   ],
   "metadata": {}
  },
  {
   "cell_type": "code",
   "execution_count": 16,
   "source": [
    "from sklearn.metrics import classification_report\r\n",
    "import matplotlib.pyplot as plt"
   ],
   "outputs": [],
   "metadata": {}
  },
  {
   "cell_type": "code",
   "execution_count": 17,
   "source": [
    "df_cml_rets = pd.DataFrame()\r\n",
    "df_hourly_rets = pd.DataFrame()\r\n",
    "\r\n",
    "for curr_tested in curr_list:\r\n",
    "\r\n",
    "    df_testing_subset = df_all_data.loc[ df_all_data.Currency == curr_tested].copy()\r\n",
    "    df_testing_subset.sort_index(inplace=True)\r\n",
    "\r\n",
    "    X_test = df_testing_subset.loc[: , all_inds].reset_index(drop=True)   \r\n",
    "    y_test = df_testing_subset.loc[:, ['Target_returns', 'Buy_or_sell']].copy()\r\n",
    "\r\n",
    "    # Run the predictions\r\n",
    "    df_pred = y_test\r\n",
    "    df_pred['Pred_buy_or_sell'] = pipeline.predict(X_test)\r\n",
    "\r\n",
    "    # print(df_pred)\r\n",
    "\r\n",
    "    print(f'\\nClassification report for {curr_tested}')\r\n",
    "    print(classification_report(y_test.Buy_or_sell, df_pred.Pred_buy_or_sell))\r\n",
    "\r\n",
    "    hourly_returns = df_pred['Target_returns'] * df_pred['Pred_buy_or_sell']\r\n",
    "    cum_rets = (1 + hourly_returns).cumprod()\r\n",
    "    total_returns = round((cum_rets[-1] - cum_rets[0]) * 100, 2)\r\n",
    "\r\n",
    "    col_name = 'hourly_rets_'  + (curr_tested.replace('/', '-'))\r\n",
    "    df_hourly_rets[col_name] = hourly_returns\r\n",
    "\r\n",
    "    col_name = 'cum_rets_' + (curr_tested.replace('/', '-'))\r\n",
    "    df_cml_rets[col_name] = cum_rets\r\n",
    "\r\n",
    "    title = 'Cumulative returns for ' + curr_tested + '. Total_returns = ' + str(total_returns) + '%'\r\n",
    "    png_file = 'Backtest_results/Results_' + curr_tested.replace('/','-') + '.png'\r\n",
    "\r\n",
    "    fig, ax = plt.subplots()\r\n",
    "    ax.plot(cum_rets)\r\n",
    "\r\n",
    "    ax.set(xlabel='Date', ylabel='Returns',\r\n",
    "        title= title)\r\n",
    "    ax.grid()\r\n",
    "\r\n",
    "    plt.xticks(rotation=45)\r\n",
    "\r\n",
    "    fig.savefig(png_file)\r\n"
   ],
   "outputs": [
    {
     "output_type": "stream",
     "name": "stdout",
     "text": [
      "\n",
      "Classification report for BTC/AUD\n",
      "              precision    recall  f1-score   support\n",
      "\n",
      "           0       0.52      0.56      0.54       338\n",
      "           1       0.55      0.51      0.53       361\n",
      "\n",
      "    accuracy                           0.54       699\n",
      "   macro avg       0.54      0.54      0.54       699\n",
      "weighted avg       0.54      0.54      0.53       699\n",
      "\n",
      "\n",
      "Classification report for ETH/AUD\n",
      "              precision    recall  f1-score   support\n",
      "\n",
      "           0       0.57      0.57      0.57       354\n",
      "           1       0.56      0.56      0.56       345\n",
      "\n",
      "    accuracy                           0.57       699\n",
      "   macro avg       0.57      0.57      0.57       699\n",
      "weighted avg       0.57      0.57      0.57       699\n",
      "\n",
      "\n",
      "Classification report for XRP/AUD\n",
      "              precision    recall  f1-score   support\n",
      "\n",
      "           0       0.57      0.53      0.55       375\n",
      "           1       0.50      0.54      0.52       324\n",
      "\n",
      "    accuracy                           0.54       699\n",
      "   macro avg       0.54      0.54      0.53       699\n",
      "weighted avg       0.54      0.54      0.54       699\n",
      "\n",
      "\n",
      "Classification report for LTC/AUD\n",
      "              precision    recall  f1-score   support\n",
      "\n",
      "           0       0.77      0.55      0.64       514\n",
      "           1       0.30      0.55      0.39       185\n",
      "\n",
      "    accuracy                           0.55       699\n",
      "   macro avg       0.54      0.55      0.52       699\n",
      "weighted avg       0.65      0.55      0.57       699\n",
      "\n",
      "\n",
      "Classification report for ADA/AUD\n",
      "              precision    recall  f1-score   support\n",
      "\n",
      "           0       0.59      0.52      0.56       391\n",
      "           1       0.47      0.55      0.51       308\n",
      "\n",
      "    accuracy                           0.53       699\n",
      "   macro avg       0.53      0.53      0.53       699\n",
      "weighted avg       0.54      0.53      0.53       699\n",
      "\n",
      "\n",
      "Classification report for XLM/AUD\n",
      "              precision    recall  f1-score   support\n",
      "\n",
      "           0       0.81      0.47      0.60       560\n",
      "           1       0.20      0.55      0.30       139\n",
      "\n",
      "    accuracy                           0.49       699\n",
      "   macro avg       0.51      0.51      0.45       699\n",
      "weighted avg       0.69      0.49      0.54       699\n",
      "\n",
      "\n",
      "Classification report for BCH/AUD\n",
      "              precision    recall  f1-score   support\n",
      "\n",
      "           0       0.85      0.47      0.60       586\n",
      "           1       0.17      0.55      0.25       112\n",
      "\n",
      "    accuracy                           0.48       698\n",
      "   macro avg       0.51      0.51      0.43       698\n",
      "weighted avg       0.74      0.48      0.55       698\n",
      "\n"
     ]
    },
    {
     "output_type": "display_data",
     "data": {
      "image/png": "[encoded data removed]",
      "text/plain": [
       "<Figure size 432x288 with 1 Axes>"
      ]
     },
     "metadata": {
      "needs_background": "light"
     }
    },
    {
     "output_type": "display_data",
     "data": {
      "image/png": "[encoded data removed]",
      "text/plain": [
       "<Figure size 432x288 with 1 Axes>"
      ]
     },
     "metadata": {
      "needs_background": "light"
     }
    },
    {
     "output_type": "display_data",
     "data": {
      "image/png": "[encoded data removed]",
      "text/plain": [
       "<Figure size 432x288 with 1 Axes>"
      ]
     },
     "metadata": {
      "needs_background": "light"
     }
    },
    {
     "output_type": "display_data",
     "data": {
      "image/png": "[encoded data removed]",
      "text/plain": [
       "<Figure size 432x288 with 1 Axes>"
      ]
     },
     "metadata": {
      "needs_background": "light"
     }
    },
    {
     "output_type": "display_data",
     "data": {
      "image/png": "[encoded data removed]",
      "text/plain": [
       "<Figure size 432x288 with 1 Axes>"
      ]
     },
     "metadata": {
      "needs_background": "light"
     }
    },
    {
     "output_type": "display_data",
     "data": {
      "image/png": "[encoded data removed]",
      "text/plain": [
       "<Figure size 432x288 with 1 Axes>"
      ]
     },
     "metadata": {
      "needs_background": "light"
     }
    },
    {
     "output_type": "display_data",
     "data": {
      "image/png": "[encoded data removed]",
      "text/plain": [
       "<Figure size 432x288 with 1 Axes>"
      ]
     },
     "metadata": {
      "needs_background": "light"
     }
    }
   ],
   "metadata": {}
  },
  {
   "cell_type": "markdown",
   "source": [
    "# Getting the combined portfolio Returns and calculating evaluation metrics"
   ],
   "metadata": {}
  },
  {
   "cell_type": "code",
   "execution_count": 18,
   "source": [
    "df_portfolio_returns = pd.DataFrame()\r\n",
    "\r\n",
    "\r\n",
    "df_portfolio_returns['cum_rets_agg'] = df_cml_rets.mean(axis=1)\r\n",
    "df_portfolio_returns['hourly_rets_agg'] = df_hourly_rets.mean(axis=1)\r\n",
    "\r\n",
    "# print(df_portfolio_returns.head())\r\n",
    "# df_portfolio_returns.cum_rets_agg.plot()\r\n",
    "\r\n",
    "from_date = df_portfolio_returns.index[0].date().isoformat()\r\n",
    "to_date = df_portfolio_returns.index[-1].date().isoformat()\r\n",
    "\r\n",
    "title = 'Portfolio returns for the period ' + from_date + ' to ' + to_date\r\n",
    "png_file = 'Backtest_results/Portfolio_Results-' + from_date + '_to_' + to_date + '.png'\r\n",
    "\r\n",
    "fig, ax = plt.subplots()\r\n",
    "ax.plot(df_portfolio_returns.cum_rets_agg)\r\n",
    "\r\n",
    "ax.set(xlabel='Date', ylabel=' Portfolio Returns',\r\n",
    "title= title)\r\n",
    "ax.grid()\r\n",
    "\r\n",
    "plt.xticks(rotation=45)\r\n",
    "\r\n",
    "fig.savefig(png_file)\r\n"
   ],
   "outputs": [
    {
     "output_type": "display_data",
     "data": {
      "image/png": "[encoded data removed]",
      "text/plain": [
       "<Figure size 432x288 with 1 Axes>"
      ]
     },
     "metadata": {
      "needs_background": "light"
     }
    }
   ],
   "metadata": {}
  },
  {
   "cell_type": "code",
   "execution_count": 19,
   "source": [
    "metrics = [\r\n",
    "    'Annual Return',\r\n",
    "    'Cumulative Returns',\r\n",
    "    'Annual Volatility',\r\n",
    "    'Sharpe Ratio',\r\n",
    "    'Sortino Ratio']\r\n",
    "\r\n",
    "columns = ['Backtest']\r\n",
    "\r\n",
    "# Initialize the DataFrame with index set to evaluation metrics and column as `Backtest` (just like PyFolio)\r\n",
    "portfolio_evaluation_df = pd.DataFrame(index=metrics, columns=columns)\r\n",
    "portfolio_evaluation_df"
   ],
   "outputs": [
    {
     "output_type": "execute_result",
     "data": {
      "text/html": [
       "<div>\n",
       "<style scoped>\n",
       "    .dataframe tbody tr th:only-of-type {\n",
       "        vertical-align: middle;\n",
       "    }\n",
       "\n",
       "    .dataframe tbody tr th {\n",
       "        vertical-align: top;\n",
       "    }\n",
       "\n",
       "    .dataframe thead th {\n",
       "        text-align: right;\n",
       "    }\n",
       "</style>\n",
       "<table border=\"1\" class=\"dataframe\">\n",
       "  <thead>\n",
       "    <tr style=\"text-align: right;\">\n",
       "      <th></th>\n",
       "      <th>Backtest</th>\n",
       "    </tr>\n",
       "  </thead>\n",
       "  <tbody>\n",
       "    <tr>\n",
       "      <th>Annual Return</th>\n",
       "      <td>NaN</td>\n",
       "    </tr>\n",
       "    <tr>\n",
       "      <th>Cumulative Returns</th>\n",
       "      <td>NaN</td>\n",
       "    </tr>\n",
       "    <tr>\n",
       "      <th>Annual Volatility</th>\n",
       "      <td>NaN</td>\n",
       "    </tr>\n",
       "    <tr>\n",
       "      <th>Sharpe Ratio</th>\n",
       "      <td>NaN</td>\n",
       "    </tr>\n",
       "    <tr>\n",
       "      <th>Sortino Ratio</th>\n",
       "      <td>NaN</td>\n",
       "    </tr>\n",
       "  </tbody>\n",
       "</table>\n",
       "</div>"
      ],
      "text/plain": [
       "                   Backtest\n",
       "Annual Return           NaN\n",
       "Cumulative Returns      NaN\n",
       "Annual Volatility       NaN\n",
       "Sharpe Ratio            NaN\n",
       "Sortino Ratio           NaN"
      ]
     },
     "metadata": {},
     "execution_count": 19
    }
   ],
   "metadata": {}
  },
  {
   "cell_type": "code",
   "execution_count": 20,
   "source": [
    "# Calculate cumulative return\r\n",
    "portfolio_evaluation_df.loc['Cumulative Returns'] = df_portfolio_returns['cum_rets_agg'][-1]\r\n",
    "portfolio_evaluation_df"
   ],
   "outputs": [
    {
     "output_type": "execute_result",
     "data": {
      "text/html": [
       "<div>\n",
       "<style scoped>\n",
       "    .dataframe tbody tr th:only-of-type {\n",
       "        vertical-align: middle;\n",
       "    }\n",
       "\n",
       "    .dataframe tbody tr th {\n",
       "        vertical-align: top;\n",
       "    }\n",
       "\n",
       "    .dataframe thead th {\n",
       "        text-align: right;\n",
       "    }\n",
       "</style>\n",
       "<table border=\"1\" class=\"dataframe\">\n",
       "  <thead>\n",
       "    <tr style=\"text-align: right;\">\n",
       "      <th></th>\n",
       "      <th>Backtest</th>\n",
       "    </tr>\n",
       "  </thead>\n",
       "  <tbody>\n",
       "    <tr>\n",
       "      <th>Annual Return</th>\n",
       "      <td>NaN</td>\n",
       "    </tr>\n",
       "    <tr>\n",
       "      <th>Cumulative Returns</th>\n",
       "      <td>1.737976</td>\n",
       "    </tr>\n",
       "    <tr>\n",
       "      <th>Annual Volatility</th>\n",
       "      <td>NaN</td>\n",
       "    </tr>\n",
       "    <tr>\n",
       "      <th>Sharpe Ratio</th>\n",
       "      <td>NaN</td>\n",
       "    </tr>\n",
       "    <tr>\n",
       "      <th>Sortino Ratio</th>\n",
       "      <td>NaN</td>\n",
       "    </tr>\n",
       "  </tbody>\n",
       "</table>\n",
       "</div>"
      ],
      "text/plain": [
       "                    Backtest\n",
       "Annual Return            NaN\n",
       "Cumulative Returns  1.737976\n",
       "Annual Volatility        NaN\n",
       "Sharpe Ratio             NaN\n",
       "Sortino Ratio            NaN"
      ]
     },
     "metadata": {},
     "execution_count": 20
    }
   ],
   "metadata": {}
  },
  {
   "cell_type": "code",
   "execution_count": 21,
   "source": [
    "# Calculate annualized return\r\n",
    "portfolio_evaluation_df.loc['Annual Return'] = (\r\n",
    "    df_portfolio_returns['hourly_rets_agg'].mean() * 24 * 365\r\n",
    ")\r\n",
    "portfolio_evaluation_df"
   ],
   "outputs": [
    {
     "output_type": "execute_result",
     "data": {
      "text/html": [
       "<div>\n",
       "<style scoped>\n",
       "    .dataframe tbody tr th:only-of-type {\n",
       "        vertical-align: middle;\n",
       "    }\n",
       "\n",
       "    .dataframe tbody tr th {\n",
       "        vertical-align: top;\n",
       "    }\n",
       "\n",
       "    .dataframe thead th {\n",
       "        text-align: right;\n",
       "    }\n",
       "</style>\n",
       "<table border=\"1\" class=\"dataframe\">\n",
       "  <thead>\n",
       "    <tr style=\"text-align: right;\">\n",
       "      <th></th>\n",
       "      <th>Backtest</th>\n",
       "    </tr>\n",
       "  </thead>\n",
       "  <tbody>\n",
       "    <tr>\n",
       "      <th>Annual Return</th>\n",
       "      <td>5.963087</td>\n",
       "    </tr>\n",
       "    <tr>\n",
       "      <th>Cumulative Returns</th>\n",
       "      <td>1.737976</td>\n",
       "    </tr>\n",
       "    <tr>\n",
       "      <th>Annual Volatility</th>\n",
       "      <td>NaN</td>\n",
       "    </tr>\n",
       "    <tr>\n",
       "      <th>Sharpe Ratio</th>\n",
       "      <td>NaN</td>\n",
       "    </tr>\n",
       "    <tr>\n",
       "      <th>Sortino Ratio</th>\n",
       "      <td>NaN</td>\n",
       "    </tr>\n",
       "  </tbody>\n",
       "</table>\n",
       "</div>"
      ],
      "text/plain": [
       "                    Backtest\n",
       "Annual Return       5.963087\n",
       "Cumulative Returns  1.737976\n",
       "Annual Volatility        NaN\n",
       "Sharpe Ratio             NaN\n",
       "Sortino Ratio            NaN"
      ]
     },
     "metadata": {},
     "execution_count": 21
    }
   ],
   "metadata": {}
  },
  {
   "cell_type": "code",
   "execution_count": 22,
   "source": [
    "# Calculate annual volatility\r\n",
    "portfolio_evaluation_df.loc['Annual Volatility'] = (\r\n",
    "    df_portfolio_returns['hourly_rets_agg'].std() * np.sqrt(24 * 365)\r\n",
    ")\r\n",
    "portfolio_evaluation_df"
   ],
   "outputs": [
    {
     "output_type": "execute_result",
     "data": {
      "text/html": [
       "<div>\n",
       "<style scoped>\n",
       "    .dataframe tbody tr th:only-of-type {\n",
       "        vertical-align: middle;\n",
       "    }\n",
       "\n",
       "    .dataframe tbody tr th {\n",
       "        vertical-align: top;\n",
       "    }\n",
       "\n",
       "    .dataframe thead th {\n",
       "        text-align: right;\n",
       "    }\n",
       "</style>\n",
       "<table border=\"1\" class=\"dataframe\">\n",
       "  <thead>\n",
       "    <tr style=\"text-align: right;\">\n",
       "      <th></th>\n",
       "      <th>Backtest</th>\n",
       "    </tr>\n",
       "  </thead>\n",
       "  <tbody>\n",
       "    <tr>\n",
       "      <th>Annual Return</th>\n",
       "      <td>5.963087</td>\n",
       "    </tr>\n",
       "    <tr>\n",
       "      <th>Cumulative Returns</th>\n",
       "      <td>1.737976</td>\n",
       "    </tr>\n",
       "    <tr>\n",
       "      <th>Annual Volatility</th>\n",
       "      <td>0.410403</td>\n",
       "    </tr>\n",
       "    <tr>\n",
       "      <th>Sharpe Ratio</th>\n",
       "      <td>NaN</td>\n",
       "    </tr>\n",
       "    <tr>\n",
       "      <th>Sortino Ratio</th>\n",
       "      <td>NaN</td>\n",
       "    </tr>\n",
       "  </tbody>\n",
       "</table>\n",
       "</div>"
      ],
      "text/plain": [
       "                    Backtest\n",
       "Annual Return       5.963087\n",
       "Cumulative Returns  1.737976\n",
       "Annual Volatility   0.410403\n",
       "Sharpe Ratio             NaN\n",
       "Sortino Ratio            NaN"
      ]
     },
     "metadata": {},
     "execution_count": 22
    }
   ],
   "metadata": {}
  },
  {
   "cell_type": "code",
   "execution_count": 23,
   "source": [
    "# Calculate Sharpe Ratio\r\n",
    "portfolio_evaluation_df.loc['Sharpe Ratio'] = (\r\n",
    "    df_portfolio_returns['hourly_rets_agg'].mean() * 24 * 365) / (\r\n",
    "    df_portfolio_returns['hourly_rets_agg'].std() * np.sqrt(24 * 365)\r\n",
    ")\r\n",
    "portfolio_evaluation_df"
   ],
   "outputs": [
    {
     "output_type": "execute_result",
     "data": {
      "text/html": [
       "<div>\n",
       "<style scoped>\n",
       "    .dataframe tbody tr th:only-of-type {\n",
       "        vertical-align: middle;\n",
       "    }\n",
       "\n",
       "    .dataframe tbody tr th {\n",
       "        vertical-align: top;\n",
       "    }\n",
       "\n",
       "    .dataframe thead th {\n",
       "        text-align: right;\n",
       "    }\n",
       "</style>\n",
       "<table border=\"1\" class=\"dataframe\">\n",
       "  <thead>\n",
       "    <tr style=\"text-align: right;\">\n",
       "      <th></th>\n",
       "      <th>Backtest</th>\n",
       "    </tr>\n",
       "  </thead>\n",
       "  <tbody>\n",
       "    <tr>\n",
       "      <th>Annual Return</th>\n",
       "      <td>5.963087</td>\n",
       "    </tr>\n",
       "    <tr>\n",
       "      <th>Cumulative Returns</th>\n",
       "      <td>1.737976</td>\n",
       "    </tr>\n",
       "    <tr>\n",
       "      <th>Annual Volatility</th>\n",
       "      <td>0.410403</td>\n",
       "    </tr>\n",
       "    <tr>\n",
       "      <th>Sharpe Ratio</th>\n",
       "      <td>14.529825</td>\n",
       "    </tr>\n",
       "    <tr>\n",
       "      <th>Sortino Ratio</th>\n",
       "      <td>NaN</td>\n",
       "    </tr>\n",
       "  </tbody>\n",
       "</table>\n",
       "</div>"
      ],
      "text/plain": [
       "                     Backtest\n",
       "Annual Return        5.963087\n",
       "Cumulative Returns   1.737976\n",
       "Annual Volatility    0.410403\n",
       "Sharpe Ratio        14.529825\n",
       "Sortino Ratio             NaN"
      ]
     },
     "metadata": {},
     "execution_count": 23
    }
   ],
   "metadata": {}
  },
  {
   "cell_type": "code",
   "execution_count": 24,
   "source": [
    "# Calculate Downside Return\r\n",
    "sortino_ratio_df = df_portfolio_returns[['hourly_rets_agg']].copy()\r\n",
    "sortino_ratio_df.loc[:,'Downside Returns'] = 0\r\n",
    "\r\n",
    "target = 0\r\n",
    "mask = sortino_ratio_df['hourly_rets_agg'] < target\r\n",
    "sortino_ratio_df.loc[mask, 'Downside Returns'] = sortino_ratio_df['hourly_rets_agg']**2\r\n",
    "portfolio_evaluation_df"
   ],
   "outputs": [
    {
     "output_type": "execute_result",
     "data": {
      "text/html": [
       "<div>\n",
       "<style scoped>\n",
       "    .dataframe tbody tr th:only-of-type {\n",
       "        vertical-align: middle;\n",
       "    }\n",
       "\n",
       "    .dataframe tbody tr th {\n",
       "        vertical-align: top;\n",
       "    }\n",
       "\n",
       "    .dataframe thead th {\n",
       "        text-align: right;\n",
       "    }\n",
       "</style>\n",
       "<table border=\"1\" class=\"dataframe\">\n",
       "  <thead>\n",
       "    <tr style=\"text-align: right;\">\n",
       "      <th></th>\n",
       "      <th>Backtest</th>\n",
       "    </tr>\n",
       "  </thead>\n",
       "  <tbody>\n",
       "    <tr>\n",
       "      <th>Annual Return</th>\n",
       "      <td>5.963087</td>\n",
       "    </tr>\n",
       "    <tr>\n",
       "      <th>Cumulative Returns</th>\n",
       "      <td>1.737976</td>\n",
       "    </tr>\n",
       "    <tr>\n",
       "      <th>Annual Volatility</th>\n",
       "      <td>0.410403</td>\n",
       "    </tr>\n",
       "    <tr>\n",
       "      <th>Sharpe Ratio</th>\n",
       "      <td>14.529825</td>\n",
       "    </tr>\n",
       "    <tr>\n",
       "      <th>Sortino Ratio</th>\n",
       "      <td>NaN</td>\n",
       "    </tr>\n",
       "  </tbody>\n",
       "</table>\n",
       "</div>"
      ],
      "text/plain": [
       "                     Backtest\n",
       "Annual Return        5.963087\n",
       "Cumulative Returns   1.737976\n",
       "Annual Volatility    0.410403\n",
       "Sharpe Ratio        14.529825\n",
       "Sortino Ratio             NaN"
      ]
     },
     "metadata": {},
     "execution_count": 24
    }
   ],
   "metadata": {}
  },
  {
   "cell_type": "code",
   "execution_count": 25,
   "source": [
    "# Calculate Sortino Ratio\r\n",
    "down_stdev = np.sqrt(sortino_ratio_df['Downside Returns'].mean()) * np.sqrt(24 * 365)\r\n",
    "expected_return = sortino_ratio_df['hourly_rets_agg'].mean() * 24 * 365\r\n",
    "sortino_ratio = expected_return/down_stdev\r\n",
    "\r\n",
    "portfolio_evaluation_df.loc['Sortino Ratio'] = sortino_ratio\r\n",
    "portfolio_evaluation_df"
   ],
   "outputs": [
    {
     "output_type": "execute_result",
     "data": {
      "text/html": [
       "<div>\n",
       "<style scoped>\n",
       "    .dataframe tbody tr th:only-of-type {\n",
       "        vertical-align: middle;\n",
       "    }\n",
       "\n",
       "    .dataframe tbody tr th {\n",
       "        vertical-align: top;\n",
       "    }\n",
       "\n",
       "    .dataframe thead th {\n",
       "        text-align: right;\n",
       "    }\n",
       "</style>\n",
       "<table border=\"1\" class=\"dataframe\">\n",
       "  <thead>\n",
       "    <tr style=\"text-align: right;\">\n",
       "      <th></th>\n",
       "      <th>Backtest</th>\n",
       "    </tr>\n",
       "  </thead>\n",
       "  <tbody>\n",
       "    <tr>\n",
       "      <th>Annual Return</th>\n",
       "      <td>5.963087</td>\n",
       "    </tr>\n",
       "    <tr>\n",
       "      <th>Cumulative Returns</th>\n",
       "      <td>1.737976</td>\n",
       "    </tr>\n",
       "    <tr>\n",
       "      <th>Annual Volatility</th>\n",
       "      <td>0.410403</td>\n",
       "    </tr>\n",
       "    <tr>\n",
       "      <th>Sharpe Ratio</th>\n",
       "      <td>14.529825</td>\n",
       "    </tr>\n",
       "    <tr>\n",
       "      <th>Sortino Ratio</th>\n",
       "      <td>21.246844</td>\n",
       "    </tr>\n",
       "  </tbody>\n",
       "</table>\n",
       "</div>"
      ],
      "text/plain": [
       "                     Backtest\n",
       "Annual Return        5.963087\n",
       "Cumulative Returns   1.737976\n",
       "Annual Volatility    0.410403\n",
       "Sharpe Ratio        14.529825\n",
       "Sortino Ratio       21.246844"
      ]
     },
     "metadata": {},
     "execution_count": 25
    }
   ],
   "metadata": {}
  },
  {
   "cell_type": "code",
   "execution_count": null,
   "source": [],
   "outputs": [],
   "metadata": {}
  }
 ],
 "metadata": {
  "orig_nbformat": 4,
  "language_info": {
   "name": "python",
   "version": "3.7.10",
   "mimetype": "text/x-python",
   "codemirror_mode": {
    "name": "ipython",
    "version": 3
   },
   "pygments_lexer": "ipython3",
   "nbconvert_exporter": "python",
   "file_extension": ".py"
  },
  "kernelspec": {
   "name": "python3",
   "display_name": "Python 3.7.10 64-bit ('project2env': conda)"
  },
  "interpreter": {
   "hash": "cc9d93f5fa92246aacb984fbac88763759a8f65daad4aaedd794ab683a30e53f"
  }
 },
 "nbformat": 4,
 "nbformat_minor": 2
}