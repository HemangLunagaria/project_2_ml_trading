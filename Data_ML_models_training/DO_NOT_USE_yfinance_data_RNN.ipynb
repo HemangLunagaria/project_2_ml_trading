{
 "cells": [
  {
   "cell_type": "code",
   "execution_count": 12,
   "source": [
    "# Import libraries and dependencies\r\n",
    "import ccxt\r\n",
    "import os\r\n",
    "import pandas as pd\r\n",
    "import numpy as np\r\n",
    "from dotenv import load_dotenv\r\n",
    "import talib as ta\r\n",
    "import yfinance as yf \r\n",
    "\r\n",
    "from Utility_Functions import Functions_new"
   ],
   "outputs": [],
   "metadata": {}
  },
  {
   "cell_type": "markdown",
   "source": [
    "# Downloading the data from yfinance\r\n",
    "\r\n",
    "### Set the currencies, date range and the interval for which you want the data"
   ],
   "metadata": {}
  },
  {
   "cell_type": "code",
   "execution_count": 13,
   "source": [
    "currs_list = [ 'BTC-AUD', 'ETH-AUD', 'XRP-AUD' , 'LTC-AUD', 'ADA-AUD', 'XLM-AUD', 'BCH-AUD']     #\r\n",
    "start_date = '2019-06-01'\r\n",
    "end_date = '2021-07-01'\r\n",
    "interval = '1h'"
   ],
   "outputs": [],
   "metadata": {}
  },
  {
   "cell_type": "markdown",
   "source": [
    "### Call yfinance api"
   ],
   "metadata": {}
  },
  {
   "cell_type": "code",
   "execution_count": 14,
   "source": [
    "df_data = yf.download(currs_list, start= start_date, end= end_date, interval= interval, group_by= 'ticker')\r\n",
    "df_data.head(2)\r\n"
   ],
   "outputs": [
    {
     "output_type": "stream",
     "name": "stdout",
     "text": [
      "[*********************100%***********************]  7 of 7 completed\n"
     ]
    },
    {
     "output_type": "execute_result",
     "data": {
      "text/plain": [
       "                              BCH-AUD                                      \\\n",
       "                                 Open        High         Low       Close   \n",
       "2019-09-18 00:00:00+01:00  475.103851  476.603668  463.418274  468.298615   \n",
       "2019-09-18 01:00:00+01:00  468.298615  474.381348  463.502563  473.198395   \n",
       "\n",
       "                                                   ADA-AUD            \\\n",
       "                            Adj Close     Volume      Open      High   \n",
       "2019-09-18 00:00:00+01:00  468.298615        0.0  0.071778  0.072242   \n",
       "2019-09-18 01:00:00+01:00  473.198395  1282090.0  0.071171  0.072918   \n",
       "\n",
       "                                               ... XRP-AUD                    \\\n",
       "                                Low     Close  ...     Low   Close Adj Close   \n",
       "2019-09-18 00:00:00+01:00  0.071261  0.071320  ...  0.4170  0.4200    0.4200   \n",
       "2019-09-18 01:00:00+01:00  0.071171  0.072717  ...  0.4176  0.4419    0.4419   \n",
       "\n",
       "                                          BTC-AUD                              \\\n",
       "                             Volume          Open          High           Low   \n",
       "2019-09-18 00:00:00+01:00       0.0  14908.500000  14931.280273  14834.110352   \n",
       "2019-09-18 01:00:00+01:00  121342.0  14867.240234  14911.580078  14859.040039   \n",
       "\n",
       "                                                                 \n",
       "                                  Close     Adj Close    Volume  \n",
       "2019-09-18 00:00:00+01:00  14858.330078  14858.330078       0.0  \n",
       "2019-09-18 01:00:00+01:00  14901.099609  14901.099609  145708.0  \n",
       "\n",
       "[2 rows x 42 columns]"
      ],
      "text/html": [
       "<div>\n",
       "<style scoped>\n",
       "    .dataframe tbody tr th:only-of-type {\n",
       "        vertical-align: middle;\n",
       "    }\n",
       "\n",
       "    .dataframe tbody tr th {\n",
       "        vertical-align: top;\n",
       "    }\n",
       "\n",
       "    .dataframe thead tr th {\n",
       "        text-align: left;\n",
       "    }\n",
       "</style>\n",
       "<table border=\"1\" class=\"dataframe\">\n",
       "  <thead>\n",
       "    <tr>\n",
       "      <th></th>\n",
       "      <th colspan=\"6\" halign=\"left\">BCH-AUD</th>\n",
       "      <th colspan=\"4\" halign=\"left\">ADA-AUD</th>\n",
       "      <th>...</th>\n",
       "      <th colspan=\"4\" halign=\"left\">XRP-AUD</th>\n",
       "      <th colspan=\"6\" halign=\"left\">BTC-AUD</th>\n",
       "    </tr>\n",
       "    <tr>\n",
       "      <th></th>\n",
       "      <th>Open</th>\n",
       "      <th>High</th>\n",
       "      <th>Low</th>\n",
       "      <th>Close</th>\n",
       "      <th>Adj Close</th>\n",
       "      <th>Volume</th>\n",
       "      <th>Open</th>\n",
       "      <th>High</th>\n",
       "      <th>Low</th>\n",
       "      <th>Close</th>\n",
       "      <th>...</th>\n",
       "      <th>Low</th>\n",
       "      <th>Close</th>\n",
       "      <th>Adj Close</th>\n",
       "      <th>Volume</th>\n",
       "      <th>Open</th>\n",
       "      <th>High</th>\n",
       "      <th>Low</th>\n",
       "      <th>Close</th>\n",
       "      <th>Adj Close</th>\n",
       "      <th>Volume</th>\n",
       "    </tr>\n",
       "  </thead>\n",
       "  <tbody>\n",
       "    <tr>\n",
       "      <th>2019-09-18 00:00:00+01:00</th>\n",
       "      <td>475.103851</td>\n",
       "      <td>476.603668</td>\n",
       "      <td>463.418274</td>\n",
       "      <td>468.298615</td>\n",
       "      <td>468.298615</td>\n",
       "      <td>0.0</td>\n",
       "      <td>0.071778</td>\n",
       "      <td>0.072242</td>\n",
       "      <td>0.071261</td>\n",
       "      <td>0.071320</td>\n",
       "      <td>...</td>\n",
       "      <td>0.4170</td>\n",
       "      <td>0.4200</td>\n",
       "      <td>0.4200</td>\n",
       "      <td>0.0</td>\n",
       "      <td>14908.500000</td>\n",
       "      <td>14931.280273</td>\n",
       "      <td>14834.110352</td>\n",
       "      <td>14858.330078</td>\n",
       "      <td>14858.330078</td>\n",
       "      <td>0.0</td>\n",
       "    </tr>\n",
       "    <tr>\n",
       "      <th>2019-09-18 01:00:00+01:00</th>\n",
       "      <td>468.298615</td>\n",
       "      <td>474.381348</td>\n",
       "      <td>463.502563</td>\n",
       "      <td>473.198395</td>\n",
       "      <td>473.198395</td>\n",
       "      <td>1282090.0</td>\n",
       "      <td>0.071171</td>\n",
       "      <td>0.072918</td>\n",
       "      <td>0.071171</td>\n",
       "      <td>0.072717</td>\n",
       "      <td>...</td>\n",
       "      <td>0.4176</td>\n",
       "      <td>0.4419</td>\n",
       "      <td>0.4419</td>\n",
       "      <td>121342.0</td>\n",
       "      <td>14867.240234</td>\n",
       "      <td>14911.580078</td>\n",
       "      <td>14859.040039</td>\n",
       "      <td>14901.099609</td>\n",
       "      <td>14901.099609</td>\n",
       "      <td>145708.0</td>\n",
       "    </tr>\n",
       "  </tbody>\n",
       "</table>\n",
       "<p>2 rows × 42 columns</p>\n",
       "</div>"
      ]
     },
     "metadata": {},
     "execution_count": 14
    }
   ],
   "metadata": {}
  },
  {
   "cell_type": "markdown",
   "source": [
    "### Split the data by currency and add it to the dictionary\r\n",
    "\r\n",
    "Dictionary Structure: \r\n",
    "* Key= currency code \r\n",
    "* value = Dataframe conatining OHLCV data"
   ],
   "metadata": {}
  },
  {
   "cell_type": "code",
   "execution_count": 15,
   "source": [
    "df_data.shape"
   ],
   "outputs": [
    {
     "output_type": "execute_result",
     "data": {
      "text/plain": [
       "(15603, 42)"
      ]
     },
     "metadata": {},
     "execution_count": 15
    }
   ],
   "metadata": {}
  },
  {
   "cell_type": "code",
   "execution_count": 16,
   "source": [
    "dict_ohlcv = {}\r\n",
    "\r\n",
    "for curr in currs_list:\r\n",
    "\r\n",
    "    df_ohlcv = df_data.loc[ :, ([curr]) ]\r\n",
    "    curr_code = curr.replace('-', '/')\r\n",
    "\r\n",
    "    df_ohlcv.columns = df_ohlcv.columns.droplevel(0)\r\n",
    "\r\n",
    "    start_date = df_ohlcv.index[0].date().isoformat()\r\n",
    "    end_date = df_ohlcv.index[-1].date().isoformat()\r\n",
    "    num_records = (len(df_ohlcv))\r\n",
    "    start_price = df_ohlcv.iloc[0]['Close']\r\n",
    "    end_price = df_ohlcv.iloc[-1]['Close']\r\n",
    "\r\n",
    "    print(f'Data summary for {curr_code}')\r\n",
    "    print(f'    Start Date: {start_date}; End Date: {end_date}; NUmber of records: {num_records}')\r\n",
    "    print(f'    Start Price: {start_price}; End Price: {end_price}')\r\n",
    "\r\n",
    "    df_ohlcv.dropna(inplace=True)\r\n",
    "\r\n",
    "    # Store the symbol name and history data in a dict \r\n",
    "    dict_ohlcv[curr_code] = df_ohlcv \r\n",
    "\r\n",
    "    print(f'Data for {curr_code} fetched and appended into the dictionary\\n')\r\n"
   ],
   "outputs": [
    {
     "output_type": "stream",
     "name": "stdout",
     "text": [
      "Data summary for BTC/AUD\n",
      "    Start Date: 2019-09-18; End Date: 2021-06-30; NUmber of records: 15603\n",
      "    Start Price: 14858.330078125; End Price: 46277.2109375\n",
      "Data for BTC/AUD fetched and appended into the dictionary\n",
      "\n",
      "Data summary for ETH/AUD\n",
      "    Start Date: 2019-09-18; End Date: 2021-06-30; NUmber of records: 15603\n",
      "    Start Price: 304.0899963378906; End Price: 2853.845458984375\n",
      "Data for ETH/AUD fetched and appended into the dictionary\n",
      "\n",
      "Data summary for XRP/AUD\n",
      "    Start Date: 2019-09-18; End Date: 2021-06-30; NUmber of records: 15603\n",
      "    Start Price: 0.41999998688697815; End Price: 0.8943524360656738\n",
      "Data for XRP/AUD fetched and appended into the dictionary\n",
      "\n",
      "Data summary for LTC/AUD\n",
      "    Start Date: 2019-09-18; End Date: 2021-06-30; NUmber of records: 15603\n",
      "    Start Price: 108.51000213623047; End Price: 186.65286254882812\n",
      "Data for LTC/AUD fetched and appended into the dictionary\n",
      "\n",
      "Data summary for ADA/AUD\n",
      "    Start Date: 2019-09-18; End Date: 2021-06-30; NUmber of records: 15603\n",
      "    Start Price: 0.07131998240947723; End Price: 1.76612389087677\n",
      "Data for ADA/AUD fetched and appended into the dictionary\n",
      "\n",
      "Data summary for XLM/AUD\n",
      "    Start Date: 2019-09-18; End Date: 2021-06-30; NUmber of records: 15603\n",
      "    Start Price: 0.09256701916456223; End Price: 0.36229443550109863\n",
      "Data for XLM/AUD fetched and appended into the dictionary\n",
      "\n",
      "Data summary for BCH/AUD\n",
      "    Start Date: 2019-09-18; End Date: 2021-06-30; NUmber of records: 15603\n",
      "    Start Price: 468.2986145019531; End Price: 682.6751098632812\n",
      "Data for BCH/AUD fetched and appended into the dictionary\n",
      "\n"
     ]
    }
   ],
   "metadata": {}
  },
  {
   "cell_type": "markdown",
   "source": [
    "# Compute the Technical Indicators using"
   ],
   "metadata": {}
  },
  {
   "cell_type": "code",
   "execution_count": 17,
   "source": [
    "df_all_data = pd.DataFrame() \r\n",
    "for curr, data in dict_ohlcv.items():\r\n",
    "\r\n",
    "    df = Functions_new.add_tech_indicators(data, 5, 15)\r\n",
    "    df = Functions_new.add_tech_indicators(data, 10, 20)\r\n",
    "    # df = Functions_new.add_tech_indicators(data, 15, 30)\r\n",
    "    \r\n",
    "    df['Currency'] = curr \r\n",
    "    df['Returns'] = df['Close'].pct_change()\r\n",
    "\r\n",
    "    df.dropna(inplace=True)    \r\n",
    "    df_all_data = df_all_data.append(df)\r\n",
    "\r\n",
    "df_all_data.shape"
   ],
   "outputs": [
    {
     "output_type": "execute_result",
     "data": {
      "text/plain": [
       "(107606, 28)"
      ]
     },
     "metadata": {},
     "execution_count": 17
    }
   ],
   "metadata": {}
  },
  {
   "cell_type": "code",
   "execution_count": 18,
   "source": [
    "df_all_data.to_csv('Resources/DO_NOT_USE_Training_data.csv', index=True)"
   ],
   "outputs": [],
   "metadata": {}
  },
  {
   "cell_type": "code",
   "execution_count": 19,
   "source": [
    "df_all_data.columns"
   ],
   "outputs": [
    {
     "output_type": "execute_result",
     "data": {
      "text/plain": [
       "Index(['Open', 'High', 'Low', 'Close', 'Adj Close', 'Volume', 'Ind_SMA_agg_5',\n",
       "       'Ind_RSI_5', 'Ind_CCI_5', 'Ind_MACD_ratio_5', 'Ind_ADX_5',\n",
       "       'Ind_ADX_dirn_5', 'Ind_ATR_ratio_5', 'Ind_BBands_high_5',\n",
       "       'Ind_BBands_low_5', 'Ind_SMA_vol_agg_5', 'Ind_SMA_agg_10', 'Ind_RSI_10',\n",
       "       'Ind_CCI_10', 'Ind_MACD_ratio_10', 'Ind_ADX_10', 'Ind_ADX_dirn_10',\n",
       "       'Ind_ATR_ratio_10', 'Ind_BBands_high_10', 'Ind_BBands_low_10',\n",
       "       'Ind_SMA_vol_agg_10', 'Currency', 'Returns'],\n",
       "      dtype='object')"
      ]
     },
     "metadata": {},
     "execution_count": 19
    }
   ],
   "metadata": {}
  },
  {
   "cell_type": "code",
   "execution_count": 20,
   "source": [
    "df_all_data.shape"
   ],
   "outputs": [
    {
     "output_type": "execute_result",
     "data": {
      "text/plain": [
       "(107606, 28)"
      ]
     },
     "metadata": {},
     "execution_count": 20
    }
   ],
   "metadata": {}
  },
  {
   "cell_type": "code",
   "execution_count": null,
   "source": [],
   "outputs": [],
   "metadata": {}
  }
 ],
 "metadata": {
  "orig_nbformat": 4,
  "language_info": {
   "name": "python",
   "version": "3.7.10",
   "mimetype": "text/x-python",
   "codemirror_mode": {
    "name": "ipython",
    "version": 3
   },
   "pygments_lexer": "ipython3",
   "nbconvert_exporter": "python",
   "file_extension": ".py"
  },
  "kernelspec": {
   "name": "python3",
   "display_name": "Python 3.7.10 64-bit ('project2env': conda)"
  },
  "interpreter": {
   "hash": "cc9d93f5fa92246aacb984fbac88763759a8f65daad4aaedd794ab683a30e53f"
  }
 },
 "nbformat": 4,
 "nbformat_minor": 2
}