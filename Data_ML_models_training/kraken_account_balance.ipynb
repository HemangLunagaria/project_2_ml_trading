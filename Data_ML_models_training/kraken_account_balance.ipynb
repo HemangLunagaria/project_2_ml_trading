{
 "cells": [
  {
   "cell_type": "code",
   "execution_count": 8,
   "source": [
    "import time\r\n",
    "import os\r\n",
    "import requests\r\n",
    "import urllib.parse\r\n",
    "import hashlib\r\n",
    "import hmac\r\n",
    "import base64\r\n",
    "\r\n",
    "# Read Kraken API key and secret stored in environment variables\r\n",
    "api_url = \"https://api.kraken.com\"\r\n",
    "api_key = os.environ['KRAKEN_PUBLIC_KEY']\r\n",
    "api_sec = os.environ['KRAKEN_SECRET_KEY']\r\n",
    "\r\n",
    "def get_kraken_signature(urlpath, data, secret):\r\n",
    "    \r\n",
    "    postdata = urllib.parse.urlencode(data)\r\n",
    "    encoded = (str(data['nonce']) + postdata).encode()\r\n",
    "    message = urlpath.encode() + hashlib.sha256(encoded).digest()\r\n",
    "\r\n",
    "    mac = hmac.new(base64.b64decode(secret), message, hashlib.sha512)\r\n",
    "    sigdigest = base64.b64encode(mac.digest())\r\n",
    "    print(sigdigest)\r\n",
    "    return sigdigest.decode()\r\n",
    "\r\n",
    "# Attaches auth headers and returns results of a POST request\r\n",
    "def kraken_request(uri_path, data, api_key, api_sec):\r\n",
    "    headers = {}\r\n",
    "    headers['API-Key'] = api_key\r\n",
    "    # get_kraken_signature() as defined in the 'Authentication' section\r\n",
    "    headers['API-Sign'] = get_kraken_signature(uri_path, data, api_sec)             \r\n",
    "    req = requests.post((api_url + uri_path), headers=headers, data=data)\r\n",
    "    return req\r\n",
    "\r\n",
    "# Construct the request and print the result\r\n",
    "resp = kraken_request('/0/private/Balance', {\r\n",
    "    \"nonce\": str(int(1000*time.time()))\r\n",
    "}, api_key, api_sec)\r\n",
    "\r\n",
    "print(resp.json())\r\n"
   ],
   "outputs": [
    {
     "output_type": "stream",
     "name": "stdout",
     "text": [
      "b'cz5LP0nb9oaeb/dfnEPxdZ8e1oBai6PDOurWlCRvByAHLoPP9Tp4Zgi8zuNHaatr/F8hvt7qTbYe/+o4L2IwJw=='\n",
      "{'error': []}\n"
     ]
    }
   ],
   "metadata": {
    "jupyter": {
     "source_hidden": true
    }
   }
  },
  {
   "cell_type": "code",
   "execution_count": null,
   "source": [],
   "outputs": [],
   "metadata": {}
  }
 ],
 "metadata": {
  "kernelspec": {
   "name": "python3",
   "display_name": "Python 3.7.10 64-bit ('project2env': conda)"
  },
  "language_info": {
   "codemirror_mode": {
    "name": "ipython",
    "version": 3
   },
   "file_extension": ".py",
   "mimetype": "text/x-python",
   "name": "python",
   "nbconvert_exporter": "python",
   "pygments_lexer": "ipython3",
   "version": "3.7.10"
  },
  "interpreter": {
   "hash": "cc9d93f5fa92246aacb984fbac88763759a8f65daad4aaedd794ab683a30e53f"
  }
 },
 "nbformat": 4,
 "nbformat_minor": 5
}